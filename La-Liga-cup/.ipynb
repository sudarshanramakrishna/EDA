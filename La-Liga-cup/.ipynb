{
 "cells": [
  {
   "cell_type": "code",
   "execution_count": 1,
   "id": "9a091f42",
   "metadata": {
    "execution": {
     "iopub.execute_input": "2022-10-04T07:05:38.425655Z",
     "iopub.status.busy": "2022-10-04T07:05:38.425234Z",
     "iopub.status.idle": "2022-10-04T07:05:38.435459Z",
     "shell.execute_reply": "2022-10-04T07:05:38.434432Z"
    },
    "papermill": {
     "duration": 0.034337,
     "end_time": "2022-10-04T07:05:38.437753",
     "exception": false,
     "start_time": "2022-10-04T07:05:38.403416",
     "status": "completed"
    },
    "tags": []
   },
   "outputs": [],
   "source": [
    "import pandas as pd"
   ]
  },
  {
   "cell_type": "code",
   "execution_count": 2,
   "id": "3bd452f3",
   "metadata": {
    "execution": {
     "iopub.execute_input": "2022-10-04T07:05:38.472270Z",
     "iopub.status.busy": "2022-10-04T07:05:38.471874Z",
     "iopub.status.idle": "2022-10-04T07:05:38.583472Z",
     "shell.execute_reply": "2022-10-04T07:05:38.582336Z"
    },
    "papermill": {
     "duration": 0.132043,
     "end_time": "2022-10-04T07:05:38.586611",
     "exception": false,
     "start_time": "2022-10-04T07:05:38.454568",
     "status": "completed"
    },
    "tags": []
   },
   "outputs": [
    {
     "data": {
      "text/html": [
       "<div>\n",
       "<style scoped>\n",
       "    .dataframe tbody tr th:only-of-type {\n",
       "        vertical-align: middle;\n",
       "    }\n",
       "\n",
       "    .dataframe tbody tr th {\n",
       "        vertical-align: top;\n",
       "    }\n",
       "\n",
       "    .dataframe thead th {\n",
       "        text-align: right;\n",
       "    }\n",
       "</style>\n",
       "<table border=\"1\" class=\"dataframe\">\n",
       "  <thead>\n",
       "    <tr style=\"text-align: right;\">\n",
       "      <th></th>\n",
       "      <th>Company</th>\n",
       "      <th>Location</th>\n",
       "      <th>Job Experience</th>\n",
       "      <th>Skills/Description</th>\n",
       "    </tr>\n",
       "    <tr>\n",
       "      <th>Job_Role</th>\n",
       "      <th></th>\n",
       "      <th></th>\n",
       "      <th></th>\n",
       "      <th></th>\n",
       "    </tr>\n",
       "  </thead>\n",
       "  <tbody>\n",
       "    <tr>\n",
       "      <th>Senior Data Scientist</th>\n",
       "      <td>UPL</td>\n",
       "      <td>Bangalore/Bengaluru, Mumbai (All Areas)</td>\n",
       "      <td>3-6</td>\n",
       "      <td>python, MLT, statistical modeling, machine lea...</td>\n",
       "    </tr>\n",
       "    <tr>\n",
       "      <th>Senior Data Scientist</th>\n",
       "      <td>Walmart</td>\n",
       "      <td>Bangalore/Bengaluru</td>\n",
       "      <td>5-9</td>\n",
       "      <td>Data Science, Machine learning, Python, Azure,...</td>\n",
       "    </tr>\n",
       "    <tr>\n",
       "      <th>Applied Data Scientist / ML Senior Engineer (Python / SQL)</th>\n",
       "      <td>SAP India Pvt.Ltd</td>\n",
       "      <td>Bangalore/Bengaluru</td>\n",
       "      <td>5-10</td>\n",
       "      <td>Python, IT Skills, Testing, Cloud, Product Man...</td>\n",
       "    </tr>\n",
       "    <tr>\n",
       "      <th>Data Scientist</th>\n",
       "      <td>UPL</td>\n",
       "      <td>Bangalore/Bengaluru, Mumbai (All Areas)</td>\n",
       "      <td>1-4</td>\n",
       "      <td>python, machine learning, Data Science, data a...</td>\n",
       "    </tr>\n",
       "    <tr>\n",
       "      <th>Data Scientist</th>\n",
       "      <td>Walmart</td>\n",
       "      <td>Bangalore/Bengaluru</td>\n",
       "      <td>4-8</td>\n",
       "      <td>IT Skills, Python, Data Science, Machine Learn...</td>\n",
       "    </tr>\n",
       "  </tbody>\n",
       "</table>\n",
       "</div>"
      ],
      "text/plain": [
       "                                                              Company  \\\n",
       "Job_Role                                                                \n",
       "Senior Data Scientist                                             UPL   \n",
       "Senior Data Scientist                                         Walmart   \n",
       "Applied Data Scientist / ML Senior Engineer (Py...  SAP India Pvt.Ltd   \n",
       "Data Scientist                                                    UPL   \n",
       "Data Scientist                                                Walmart   \n",
       "\n",
       "                                                                                   Location  \\\n",
       "Job_Role                                                                                      \n",
       "Senior Data Scientist                               Bangalore/Bengaluru, Mumbai (All Areas)   \n",
       "Senior Data Scientist                                                   Bangalore/Bengaluru   \n",
       "Applied Data Scientist / ML Senior Engineer (Py...                      Bangalore/Bengaluru   \n",
       "Data Scientist                                      Bangalore/Bengaluru, Mumbai (All Areas)   \n",
       "Data Scientist                                                          Bangalore/Bengaluru   \n",
       "\n",
       "                                                   Job Experience  \\\n",
       "Job_Role                                                            \n",
       "Senior Data Scientist                                         3-6   \n",
       "Senior Data Scientist                                         5-9   \n",
       "Applied Data Scientist / ML Senior Engineer (Py...           5-10   \n",
       "Data Scientist                                                1-4   \n",
       "Data Scientist                                                4-8   \n",
       "\n",
       "                                                                                   Skills/Description  \n",
       "Job_Role                                                                                               \n",
       "Senior Data Scientist                               python, MLT, statistical modeling, machine lea...  \n",
       "Senior Data Scientist                               Data Science, Machine learning, Python, Azure,...  \n",
       "Applied Data Scientist / ML Senior Engineer (Py...  Python, IT Skills, Testing, Cloud, Product Man...  \n",
       "Data Scientist                                      python, machine learning, Data Science, data a...  \n",
       "Data Scientist                                      IT Skills, Python, Data Science, Machine Learn...  "
      ]
     },
     "execution_count": 2,
     "metadata": {},
     "output_type": "execute_result"
    }
   ],
   "source": [
    "a=pd.read_csv('../input/data-science-jobs-in-india/naukri_data_science_jobs_india.csv',index_col=['Job_Role'])\n",
    "a.head()"
   ]
  },
  {
   "cell_type": "code",
   "execution_count": 3,
   "id": "438ff5c0",
   "metadata": {
    "execution": {
     "iopub.execute_input": "2022-10-04T07:05:38.621896Z",
     "iopub.status.busy": "2022-10-04T07:05:38.621483Z",
     "iopub.status.idle": "2022-10-04T07:05:38.627170Z",
     "shell.execute_reply": "2022-10-04T07:05:38.626150Z"
    },
    "papermill": {
     "duration": 0.025853,
     "end_time": "2022-10-04T07:05:38.629326",
     "exception": false,
     "start_time": "2022-10-04T07:05:38.603473",
     "status": "completed"
    },
    "tags": []
   },
   "outputs": [],
   "source": [
    "a.rename(mapper={'Company':'Firm',\n",
    "                'Skills/Description':'Job Requirement'}, axis=1,inplace=True)"
   ]
  },
  {
   "cell_type": "code",
   "execution_count": 4,
   "id": "d2d9d981",
   "metadata": {
    "execution": {
     "iopub.execute_input": "2022-10-04T07:05:38.664240Z",
     "iopub.status.busy": "2022-10-04T07:05:38.663495Z",
     "iopub.status.idle": "2022-10-04T07:05:38.676240Z",
     "shell.execute_reply": "2022-10-04T07:05:38.675132Z"
    },
    "papermill": {
     "duration": 0.032403,
     "end_time": "2022-10-04T07:05:38.678412",
     "exception": false,
     "start_time": "2022-10-04T07:05:38.646009",
     "status": "completed"
    },
    "tags": []
   },
   "outputs": [
    {
     "data": {
      "text/html": [
       "<div>\n",
       "<style scoped>\n",
       "    .dataframe tbody tr th:only-of-type {\n",
       "        vertical-align: middle;\n",
       "    }\n",
       "\n",
       "    .dataframe tbody tr th {\n",
       "        vertical-align: top;\n",
       "    }\n",
       "\n",
       "    .dataframe thead th {\n",
       "        text-align: right;\n",
       "    }\n",
       "</style>\n",
       "<table border=\"1\" class=\"dataframe\">\n",
       "  <thead>\n",
       "    <tr style=\"text-align: right;\">\n",
       "      <th></th>\n",
       "      <th>Firm</th>\n",
       "      <th>Location</th>\n",
       "      <th>Job Experience</th>\n",
       "      <th>Job Requirement</th>\n",
       "    </tr>\n",
       "    <tr>\n",
       "      <th>Job_Role</th>\n",
       "      <th></th>\n",
       "      <th></th>\n",
       "      <th></th>\n",
       "      <th></th>\n",
       "    </tr>\n",
       "  </thead>\n",
       "  <tbody>\n",
       "    <tr>\n",
       "      <th>Senior Data Scientist</th>\n",
       "      <td>UPL</td>\n",
       "      <td>Bangalore/Bengaluru, Mumbai (All Areas)</td>\n",
       "      <td>3-6</td>\n",
       "      <td>python, MLT, statistical modeling, machine lea...</td>\n",
       "    </tr>\n",
       "    <tr>\n",
       "      <th>Senior Data Scientist</th>\n",
       "      <td>Walmart</td>\n",
       "      <td>Bangalore/Bengaluru</td>\n",
       "      <td>5-9</td>\n",
       "      <td>Data Science, Machine learning, Python, Azure,...</td>\n",
       "    </tr>\n",
       "    <tr>\n",
       "      <th>Applied Data Scientist / ML Senior Engineer (Python / SQL)</th>\n",
       "      <td>SAP India Pvt.Ltd</td>\n",
       "      <td>Bangalore/Bengaluru</td>\n",
       "      <td>5-10</td>\n",
       "      <td>Python, IT Skills, Testing, Cloud, Product Man...</td>\n",
       "    </tr>\n",
       "    <tr>\n",
       "      <th>Data Scientist</th>\n",
       "      <td>UPL</td>\n",
       "      <td>Bangalore/Bengaluru, Mumbai (All Areas)</td>\n",
       "      <td>1-4</td>\n",
       "      <td>python, machine learning, Data Science, data a...</td>\n",
       "    </tr>\n",
       "    <tr>\n",
       "      <th>Data Scientist</th>\n",
       "      <td>Walmart</td>\n",
       "      <td>Bangalore/Bengaluru</td>\n",
       "      <td>4-8</td>\n",
       "      <td>IT Skills, Python, Data Science, Machine Learn...</td>\n",
       "    </tr>\n",
       "  </tbody>\n",
       "</table>\n",
       "</div>"
      ],
      "text/plain": [
       "                                                                 Firm  \\\n",
       "Job_Role                                                                \n",
       "Senior Data Scientist                                             UPL   \n",
       "Senior Data Scientist                                         Walmart   \n",
       "Applied Data Scientist / ML Senior Engineer (Py...  SAP India Pvt.Ltd   \n",
       "Data Scientist                                                    UPL   \n",
       "Data Scientist                                                Walmart   \n",
       "\n",
       "                                                                                   Location  \\\n",
       "Job_Role                                                                                      \n",
       "Senior Data Scientist                               Bangalore/Bengaluru, Mumbai (All Areas)   \n",
       "Senior Data Scientist                                                   Bangalore/Bengaluru   \n",
       "Applied Data Scientist / ML Senior Engineer (Py...                      Bangalore/Bengaluru   \n",
       "Data Scientist                                      Bangalore/Bengaluru, Mumbai (All Areas)   \n",
       "Data Scientist                                                          Bangalore/Bengaluru   \n",
       "\n",
       "                                                   Job Experience  \\\n",
       "Job_Role                                                            \n",
       "Senior Data Scientist                                         3-6   \n",
       "Senior Data Scientist                                         5-9   \n",
       "Applied Data Scientist / ML Senior Engineer (Py...           5-10   \n",
       "Data Scientist                                                1-4   \n",
       "Data Scientist                                                4-8   \n",
       "\n",
       "                                                                                      Job Requirement  \n",
       "Job_Role                                                                                               \n",
       "Senior Data Scientist                               python, MLT, statistical modeling, machine lea...  \n",
       "Senior Data Scientist                               Data Science, Machine learning, Python, Azure,...  \n",
       "Applied Data Scientist / ML Senior Engineer (Py...  Python, IT Skills, Testing, Cloud, Product Man...  \n",
       "Data Scientist                                      python, machine learning, Data Science, data a...  \n",
       "Data Scientist                                      IT Skills, Python, Data Science, Machine Learn...  "
      ]
     },
     "execution_count": 4,
     "metadata": {},
     "output_type": "execute_result"
    }
   ],
   "source": [
    "a.head()"
   ]
  },
  {
   "cell_type": "code",
   "execution_count": 5,
   "id": "5df2589c",
   "metadata": {
    "execution": {
     "iopub.execute_input": "2022-10-04T07:05:38.714367Z",
     "iopub.status.busy": "2022-10-04T07:05:38.713570Z",
     "iopub.status.idle": "2022-10-04T07:05:38.720394Z",
     "shell.execute_reply": "2022-10-04T07:05:38.719583Z"
    },
    "papermill": {
     "duration": 0.027271,
     "end_time": "2022-10-04T07:05:38.722528",
     "exception": false,
     "start_time": "2022-10-04T07:05:38.695257",
     "status": "completed"
    },
    "tags": []
   },
   "outputs": [
    {
     "data": {
      "text/plain": [
       "Index(['Firm', 'Location', 'Job Experience', 'Job Requirement'], dtype='object')"
      ]
     },
     "execution_count": 5,
     "metadata": {},
     "output_type": "execute_result"
    }
   ],
   "source": [
    "a.columns"
   ]
  },
  {
   "cell_type": "code",
   "execution_count": 6,
   "id": "aec6af12",
   "metadata": {
    "execution": {
     "iopub.execute_input": "2022-10-04T07:05:38.758229Z",
     "iopub.status.busy": "2022-10-04T07:05:38.757490Z",
     "iopub.status.idle": "2022-10-04T07:05:38.762903Z",
     "shell.execute_reply": "2022-10-04T07:05:38.762206Z"
    },
    "papermill": {
     "duration": 0.025806,
     "end_time": "2022-10-04T07:05:38.765036",
     "exception": false,
     "start_time": "2022-10-04T07:05:38.739230",
     "status": "completed"
    },
    "tags": []
   },
   "outputs": [],
   "source": [
    "a.rename(columns={\n",
    "    'Firm':'Company',\n",
    "    'Job Requirement':'Skills/Description'\n",
    "},inplace=True)"
   ]
  },
  {
   "cell_type": "code",
   "execution_count": 7,
   "id": "d565ee79",
   "metadata": {
    "execution": {
     "iopub.execute_input": "2022-10-04T07:05:38.801421Z",
     "iopub.status.busy": "2022-10-04T07:05:38.800620Z",
     "iopub.status.idle": "2022-10-04T07:05:38.807619Z",
     "shell.execute_reply": "2022-10-04T07:05:38.806775Z"
    },
    "papermill": {
     "duration": 0.027747,
     "end_time": "2022-10-04T07:05:38.809745",
     "exception": false,
     "start_time": "2022-10-04T07:05:38.781998",
     "status": "completed"
    },
    "tags": []
   },
   "outputs": [
    {
     "data": {
      "text/plain": [
       "Index(['Company', 'Location', 'Job Experience', 'Skills/Description'], dtype='object')"
      ]
     },
     "execution_count": 7,
     "metadata": {},
     "output_type": "execute_result"
    }
   ],
   "source": [
    "a.columns"
   ]
  },
  {
   "cell_type": "markdown",
   "id": "8602078f",
   "metadata": {
    "papermill": {
     "duration": 0.018648,
     "end_time": "2022-10-04T07:05:38.845723",
     "exception": false,
     "start_time": "2022-10-04T07:05:38.827075",
     "status": "completed"
    },
    "tags": []
   },
   "source": [
    "**Delete Rows**"
   ]
  },
  {
   "cell_type": "markdown",
   "id": "512eeb7d",
   "metadata": {
    "papermill": {
     "duration": 0.016849,
     "end_time": "2022-10-04T07:05:38.879736",
     "exception": false,
     "start_time": "2022-10-04T07:05:38.862887",
     "status": "completed"
    },
    "tags": []
   },
   "source": [
    "drop method()"
   ]
  },
  {
   "cell_type": "code",
   "execution_count": 8,
   "id": "e5de678e",
   "metadata": {
    "execution": {
     "iopub.execute_input": "2022-10-04T07:05:38.916541Z",
     "iopub.status.busy": "2022-10-04T07:05:38.915823Z",
     "iopub.status.idle": "2022-10-04T07:05:38.922265Z",
     "shell.execute_reply": "2022-10-04T07:05:38.921206Z"
    },
    "papermill": {
     "duration": 0.027347,
     "end_time": "2022-10-04T07:05:38.924406",
     "exception": false,
     "start_time": "2022-10-04T07:05:38.897059",
     "status": "completed"
    },
    "tags": []
   },
   "outputs": [],
   "source": [
    "a.drop(labels=\"Skills/Description\",axis=1,inplace=True)"
   ]
  },
  {
   "cell_type": "code",
   "execution_count": 9,
   "id": "092c52b2",
   "metadata": {
    "execution": {
     "iopub.execute_input": "2022-10-04T07:05:38.960763Z",
     "iopub.status.busy": "2022-10-04T07:05:38.960133Z",
     "iopub.status.idle": "2022-10-04T07:05:38.965570Z",
     "shell.execute_reply": "2022-10-04T07:05:38.964887Z"
    },
    "papermill": {
     "duration": 0.025893,
     "end_time": "2022-10-04T07:05:38.967560",
     "exception": false,
     "start_time": "2022-10-04T07:05:38.941667",
     "status": "completed"
    },
    "tags": []
   },
   "outputs": [
    {
     "data": {
      "text/plain": [
       "Index(['Company', 'Location', 'Job Experience'], dtype='object')"
      ]
     },
     "execution_count": 9,
     "metadata": {},
     "output_type": "execute_result"
    }
   ],
   "source": [
    "a.columns"
   ]
  },
  {
   "cell_type": "markdown",
   "id": "4a3fa730",
   "metadata": {
    "papermill": {
     "duration": 0.01709,
     "end_time": "2022-10-04T07:05:39.002153",
     "exception": false,
     "start_time": "2022-10-04T07:05:38.985063",
     "status": "completed"
    },
    "tags": []
   },
   "source": [
    "**pop method**"
   ]
  },
  {
   "cell_type": "code",
   "execution_count": 10,
   "id": "31f6f388",
   "metadata": {
    "execution": {
     "iopub.execute_input": "2022-10-04T07:05:39.039546Z",
     "iopub.status.busy": "2022-10-04T07:05:39.038969Z",
     "iopub.status.idle": "2022-10-04T07:05:39.045421Z",
     "shell.execute_reply": "2022-10-04T07:05:39.044392Z"
    },
    "papermill": {
     "duration": 0.027886,
     "end_time": "2022-10-04T07:05:39.047786",
     "exception": false,
     "start_time": "2022-10-04T07:05:39.019900",
     "status": "completed"
    },
    "tags": []
   },
   "outputs": [],
   "source": [
    "loc=a.pop('Location')"
   ]
  },
  {
   "cell_type": "code",
   "execution_count": 11,
   "id": "0f17ec13",
   "metadata": {
    "execution": {
     "iopub.execute_input": "2022-10-04T07:05:39.085789Z",
     "iopub.status.busy": "2022-10-04T07:05:39.084703Z",
     "iopub.status.idle": "2022-10-04T07:05:39.094784Z",
     "shell.execute_reply": "2022-10-04T07:05:39.093794Z"
    },
    "papermill": {
     "duration": 0.031158,
     "end_time": "2022-10-04T07:05:39.096827",
     "exception": false,
     "start_time": "2022-10-04T07:05:39.065669",
     "status": "completed"
    },
    "tags": []
   },
   "outputs": [
    {
     "data": {
      "text/html": [
       "<div>\n",
       "<style scoped>\n",
       "    .dataframe tbody tr th:only-of-type {\n",
       "        vertical-align: middle;\n",
       "    }\n",
       "\n",
       "    .dataframe tbody tr th {\n",
       "        vertical-align: top;\n",
       "    }\n",
       "\n",
       "    .dataframe thead th {\n",
       "        text-align: right;\n",
       "    }\n",
       "</style>\n",
       "<table border=\"1\" class=\"dataframe\">\n",
       "  <thead>\n",
       "    <tr style=\"text-align: right;\">\n",
       "      <th></th>\n",
       "      <th>Company</th>\n",
       "      <th>Job Experience</th>\n",
       "    </tr>\n",
       "    <tr>\n",
       "      <th>Job_Role</th>\n",
       "      <th></th>\n",
       "      <th></th>\n",
       "    </tr>\n",
       "  </thead>\n",
       "  <tbody>\n",
       "    <tr>\n",
       "      <th>Senior Data Scientist</th>\n",
       "      <td>UPL</td>\n",
       "      <td>3-6</td>\n",
       "    </tr>\n",
       "    <tr>\n",
       "      <th>Senior Data Scientist</th>\n",
       "      <td>Walmart</td>\n",
       "      <td>5-9</td>\n",
       "    </tr>\n",
       "    <tr>\n",
       "      <th>Applied Data Scientist / ML Senior Engineer (Python / SQL)</th>\n",
       "      <td>SAP India Pvt.Ltd</td>\n",
       "      <td>5-10</td>\n",
       "    </tr>\n",
       "    <tr>\n",
       "      <th>Data Scientist</th>\n",
       "      <td>UPL</td>\n",
       "      <td>1-4</td>\n",
       "    </tr>\n",
       "    <tr>\n",
       "      <th>Data Scientist</th>\n",
       "      <td>Walmart</td>\n",
       "      <td>4-8</td>\n",
       "    </tr>\n",
       "  </tbody>\n",
       "</table>\n",
       "</div>"
      ],
      "text/plain": [
       "                                                              Company  \\\n",
       "Job_Role                                                                \n",
       "Senior Data Scientist                                             UPL   \n",
       "Senior Data Scientist                                         Walmart   \n",
       "Applied Data Scientist / ML Senior Engineer (Py...  SAP India Pvt.Ltd   \n",
       "Data Scientist                                                    UPL   \n",
       "Data Scientist                                                Walmart   \n",
       "\n",
       "                                                   Job Experience  \n",
       "Job_Role                                                           \n",
       "Senior Data Scientist                                         3-6  \n",
       "Senior Data Scientist                                         5-9  \n",
       "Applied Data Scientist / ML Senior Engineer (Py...           5-10  \n",
       "Data Scientist                                                1-4  \n",
       "Data Scientist                                                4-8  "
      ]
     },
     "execution_count": 11,
     "metadata": {},
     "output_type": "execute_result"
    }
   ],
   "source": [
    "a.head()"
   ]
  },
  {
   "cell_type": "markdown",
   "id": "f84da79a",
   "metadata": {
    "papermill": {
     "duration": 0.018254,
     "end_time": "2022-10-04T07:05:39.133250",
     "exception": false,
     "start_time": "2022-10-04T07:05:39.114996",
     "status": "completed"
    },
    "tags": []
   },
   "source": [
    "**del**"
   ]
  },
  {
   "cell_type": "code",
   "execution_count": 12,
   "id": "0f55b4f6",
   "metadata": {
    "execution": {
     "iopub.execute_input": "2022-10-04T07:05:39.171322Z",
     "iopub.status.busy": "2022-10-04T07:05:39.170729Z",
     "iopub.status.idle": "2022-10-04T07:05:39.174961Z",
     "shell.execute_reply": "2022-10-04T07:05:39.174217Z"
    },
    "papermill": {
     "duration": 0.025336,
     "end_time": "2022-10-04T07:05:39.176980",
     "exception": false,
     "start_time": "2022-10-04T07:05:39.151644",
     "status": "completed"
    },
    "tags": []
   },
   "outputs": [],
   "source": [
    "del a['Job Experience']"
   ]
  },
  {
   "cell_type": "code",
   "execution_count": 13,
   "id": "8d70e592",
   "metadata": {
    "execution": {
     "iopub.execute_input": "2022-10-04T07:05:39.214044Z",
     "iopub.status.busy": "2022-10-04T07:05:39.213640Z",
     "iopub.status.idle": "2022-10-04T07:05:39.223296Z",
     "shell.execute_reply": "2022-10-04T07:05:39.222276Z"
    },
    "papermill": {
     "duration": 0.030864,
     "end_time": "2022-10-04T07:05:39.225615",
     "exception": false,
     "start_time": "2022-10-04T07:05:39.194751",
     "status": "completed"
    },
    "tags": []
   },
   "outputs": [
    {
     "data": {
      "text/html": [
       "<div>\n",
       "<style scoped>\n",
       "    .dataframe tbody tr th:only-of-type {\n",
       "        vertical-align: middle;\n",
       "    }\n",
       "\n",
       "    .dataframe tbody tr th {\n",
       "        vertical-align: top;\n",
       "    }\n",
       "\n",
       "    .dataframe thead th {\n",
       "        text-align: right;\n",
       "    }\n",
       "</style>\n",
       "<table border=\"1\" class=\"dataframe\">\n",
       "  <thead>\n",
       "    <tr style=\"text-align: right;\">\n",
       "      <th></th>\n",
       "      <th>Company</th>\n",
       "    </tr>\n",
       "    <tr>\n",
       "      <th>Job_Role</th>\n",
       "      <th></th>\n",
       "    </tr>\n",
       "  </thead>\n",
       "  <tbody>\n",
       "    <tr>\n",
       "      <th>Senior Data Scientist</th>\n",
       "      <td>UPL</td>\n",
       "    </tr>\n",
       "    <tr>\n",
       "      <th>Senior Data Scientist</th>\n",
       "      <td>Walmart</td>\n",
       "    </tr>\n",
       "    <tr>\n",
       "      <th>Applied Data Scientist / ML Senior Engineer (Python / SQL)</th>\n",
       "      <td>SAP India Pvt.Ltd</td>\n",
       "    </tr>\n",
       "    <tr>\n",
       "      <th>Data Scientist</th>\n",
       "      <td>UPL</td>\n",
       "    </tr>\n",
       "    <tr>\n",
       "      <th>Data Scientist</th>\n",
       "      <td>Walmart</td>\n",
       "    </tr>\n",
       "  </tbody>\n",
       "</table>\n",
       "</div>"
      ],
      "text/plain": [
       "                                                              Company\n",
       "Job_Role                                                             \n",
       "Senior Data Scientist                                             UPL\n",
       "Senior Data Scientist                                         Walmart\n",
       "Applied Data Scientist / ML Senior Engineer (Py...  SAP India Pvt.Ltd\n",
       "Data Scientist                                                    UPL\n",
       "Data Scientist                                                Walmart"
      ]
     },
     "execution_count": 13,
     "metadata": {},
     "output_type": "execute_result"
    }
   ],
   "source": [
    "a.head()"
   ]
  },
  {
   "cell_type": "markdown",
   "id": "9e8b1af4",
   "metadata": {
    "papermill": {
     "duration": 0.017919,
     "end_time": "2022-10-04T07:05:39.261601",
     "exception": false,
     "start_time": "2022-10-04T07:05:39.243682",
     "status": "completed"
    },
    "tags": []
   },
   "source": [
    "**Random Sample**"
   ]
  },
  {
   "cell_type": "code",
   "execution_count": 14,
   "id": "23ed5200",
   "metadata": {
    "execution": {
     "iopub.execute_input": "2022-10-04T07:05:39.299942Z",
     "iopub.status.busy": "2022-10-04T07:05:39.299529Z",
     "iopub.status.idle": "2022-10-04T07:05:39.346717Z",
     "shell.execute_reply": "2022-10-04T07:05:39.345820Z"
    },
    "papermill": {
     "duration": 0.06931,
     "end_time": "2022-10-04T07:05:39.349242",
     "exception": false,
     "start_time": "2022-10-04T07:05:39.279932",
     "status": "completed"
    },
    "tags": []
   },
   "outputs": [],
   "source": [
    "a=pd.read_csv('../input/data-science-jobs-in-india/naukri_data_science_jobs_india.csv',index_col=['Job_Role'])"
   ]
  },
  {
   "cell_type": "code",
   "execution_count": 15,
   "id": "2428c412",
   "metadata": {
    "execution": {
     "iopub.execute_input": "2022-10-04T07:05:39.387693Z",
     "iopub.status.busy": "2022-10-04T07:05:39.386621Z",
     "iopub.status.idle": "2022-10-04T07:05:39.399760Z",
     "shell.execute_reply": "2022-10-04T07:05:39.398659Z"
    },
    "papermill": {
     "duration": 0.03478,
     "end_time": "2022-10-04T07:05:39.402193",
     "exception": false,
     "start_time": "2022-10-04T07:05:39.367413",
     "status": "completed"
    },
    "tags": []
   },
   "outputs": [
    {
     "data": {
      "text/html": [
       "<div>\n",
       "<style scoped>\n",
       "    .dataframe tbody tr th:only-of-type {\n",
       "        vertical-align: middle;\n",
       "    }\n",
       "\n",
       "    .dataframe tbody tr th {\n",
       "        vertical-align: top;\n",
       "    }\n",
       "\n",
       "    .dataframe thead th {\n",
       "        text-align: right;\n",
       "    }\n",
       "</style>\n",
       "<table border=\"1\" class=\"dataframe\">\n",
       "  <thead>\n",
       "    <tr style=\"text-align: right;\">\n",
       "      <th></th>\n",
       "      <th>Company</th>\n",
       "      <th>Location</th>\n",
       "      <th>Job Experience</th>\n",
       "      <th>Skills/Description</th>\n",
       "    </tr>\n",
       "    <tr>\n",
       "      <th>Job_Role</th>\n",
       "      <th></th>\n",
       "      <th></th>\n",
       "      <th></th>\n",
       "      <th></th>\n",
       "    </tr>\n",
       "  </thead>\n",
       "  <tbody>\n",
       "    <tr>\n",
       "      <th>Software Engineer ( MEAN Stack )</th>\n",
       "      <td>Solution Analysts Pvt Ltd.</td>\n",
       "      <td>Ahmedabad</td>\n",
       "      <td>2-7</td>\n",
       "      <td>mean stack, Node JS, javascript, IT Skills, So...</td>\n",
       "    </tr>\n",
       "    <tr>\n",
       "      <th>Analytics Manager- Data scientist</th>\n",
       "      <td>Mirus Solutions Pvt Limited</td>\n",
       "      <td>Mumbai, Bangalore/Bengaluru</td>\n",
       "      <td>3-7</td>\n",
       "      <td>Data Science, SAS, Analytics</td>\n",
       "    </tr>\n",
       "    <tr>\n",
       "      <th>Senior Backend Data Platform Engineer</th>\n",
       "      <td>BrickRed Systems</td>\n",
       "      <td>Noida</td>\n",
       "      <td>4-7</td>\n",
       "      <td>communication, performance tuning, software ar...</td>\n",
       "    </tr>\n",
       "    <tr>\n",
       "      <th>CDO - Data Analyst</th>\n",
       "      <td>Capco</td>\n",
       "      <td>Bangalore/Bengaluru</td>\n",
       "      <td>3-7</td>\n",
       "      <td>Relationship management, Data analysis, SAS, B...</td>\n",
       "    </tr>\n",
       "  </tbody>\n",
       "</table>\n",
       "</div>"
      ],
      "text/plain": [
       "                                                           Company  \\\n",
       "Job_Role                                                             \n",
       "Software Engineer ( MEAN Stack )        Solution Analysts Pvt Ltd.   \n",
       "Analytics Manager- Data scientist      Mirus Solutions Pvt Limited   \n",
       "Senior Backend Data Platform Engineer             BrickRed Systems   \n",
       "CDO - Data Analyst                                           Capco   \n",
       "\n",
       "                                                          Location  \\\n",
       "Job_Role                                                             \n",
       "Software Engineer ( MEAN Stack )                         Ahmedabad   \n",
       "Analytics Manager- Data scientist      Mumbai, Bangalore/Bengaluru   \n",
       "Senior Backend Data Platform Engineer                        Noida   \n",
       "CDO - Data Analyst                             Bangalore/Bengaluru   \n",
       "\n",
       "                                      Job Experience  \\\n",
       "Job_Role                                               \n",
       "Software Engineer ( MEAN Stack )                 2-7   \n",
       "Analytics Manager- Data scientist                3-7   \n",
       "Senior Backend Data Platform Engineer            4-7   \n",
       "CDO - Data Analyst                               3-7   \n",
       "\n",
       "                                                                      Skills/Description  \n",
       "Job_Role                                                                                  \n",
       "Software Engineer ( MEAN Stack )       mean stack, Node JS, javascript, IT Skills, So...  \n",
       "Analytics Manager- Data scientist                           Data Science, SAS, Analytics  \n",
       "Senior Backend Data Platform Engineer  communication, performance tuning, software ar...  \n",
       "CDO - Data Analyst                     Relationship management, Data analysis, SAS, B...  "
      ]
     },
     "execution_count": 15,
     "metadata": {},
     "output_type": "execute_result"
    }
   ],
   "source": [
    "a.sample(n=4)"
   ]
  },
  {
   "cell_type": "code",
   "execution_count": 16,
   "id": "aa4251c3",
   "metadata": {
    "execution": {
     "iopub.execute_input": "2022-10-04T07:05:39.441231Z",
     "iopub.status.busy": "2022-10-04T07:05:39.440574Z",
     "iopub.status.idle": "2022-10-04T07:05:39.454708Z",
     "shell.execute_reply": "2022-10-04T07:05:39.453614Z"
    },
    "papermill": {
     "duration": 0.036129,
     "end_time": "2022-10-04T07:05:39.456890",
     "exception": false,
     "start_time": "2022-10-04T07:05:39.420761",
     "status": "completed"
    },
    "tags": []
   },
   "outputs": [
    {
     "data": {
      "text/html": [
       "<div>\n",
       "<style scoped>\n",
       "    .dataframe tbody tr th:only-of-type {\n",
       "        vertical-align: middle;\n",
       "    }\n",
       "\n",
       "    .dataframe tbody tr th {\n",
       "        vertical-align: top;\n",
       "    }\n",
       "\n",
       "    .dataframe thead th {\n",
       "        text-align: right;\n",
       "    }\n",
       "</style>\n",
       "<table border=\"1\" class=\"dataframe\">\n",
       "  <thead>\n",
       "    <tr style=\"text-align: right;\">\n",
       "      <th></th>\n",
       "      <th>Company</th>\n",
       "      <th>Location</th>\n",
       "      <th>Job Experience</th>\n",
       "    </tr>\n",
       "    <tr>\n",
       "      <th>Job_Role</th>\n",
       "      <th></th>\n",
       "      <th></th>\n",
       "      <th></th>\n",
       "    </tr>\n",
       "  </thead>\n",
       "  <tbody>\n",
       "    <tr>\n",
       "      <th>Senior Data Scientist</th>\n",
       "      <td>UPL</td>\n",
       "      <td>Bangalore/Bengaluru, Mumbai (All Areas)</td>\n",
       "      <td>3-6</td>\n",
       "    </tr>\n",
       "    <tr>\n",
       "      <th>Senior Data Scientist</th>\n",
       "      <td>Walmart</td>\n",
       "      <td>Bangalore/Bengaluru</td>\n",
       "      <td>5-9</td>\n",
       "    </tr>\n",
       "    <tr>\n",
       "      <th>Applied Data Scientist / ML Senior Engineer (Python / SQL)</th>\n",
       "      <td>SAP India Pvt.Ltd</td>\n",
       "      <td>Bangalore/Bengaluru</td>\n",
       "      <td>5-10</td>\n",
       "    </tr>\n",
       "    <tr>\n",
       "      <th>Data Scientist</th>\n",
       "      <td>UPL</td>\n",
       "      <td>Bangalore/Bengaluru, Mumbai (All Areas)</td>\n",
       "      <td>1-4</td>\n",
       "    </tr>\n",
       "    <tr>\n",
       "      <th>Data Scientist</th>\n",
       "      <td>Walmart</td>\n",
       "      <td>Bangalore/Bengaluru</td>\n",
       "      <td>4-8</td>\n",
       "    </tr>\n",
       "    <tr>\n",
       "      <th>...</th>\n",
       "      <td>...</td>\n",
       "      <td>...</td>\n",
       "      <td>...</td>\n",
       "    </tr>\n",
       "    <tr>\n",
       "      <th>Tech Lead/Architect ( Contractual )</th>\n",
       "      <td>Krazy Mantra HR Solutions Pvt. Ltd</td>\n",
       "      <td>Kolkata, Chennai, Bangalore/Bengaluru</td>\n",
       "      <td>8-13</td>\n",
       "    </tr>\n",
       "    <tr>\n",
       "      <th>Tech Lead / POD Lead</th>\n",
       "      <td>cliqhr.com</td>\n",
       "      <td>Hyderabad/Secunderabad, Pune, Bangalore/Bengaluru</td>\n",
       "      <td>10-12</td>\n",
       "    </tr>\n",
       "    <tr>\n",
       "      <th>Java Full Stack Developer - Hibernate / Spring</th>\n",
       "      <td>Serving Skill</td>\n",
       "      <td>Hyderabad/Secunderabad, Bangalore/Bengaluru</td>\n",
       "      <td>2-5</td>\n",
       "    </tr>\n",
       "    <tr>\n",
       "      <th>Tech Lead - Azure</th>\n",
       "      <td>cliqhr.com</td>\n",
       "      <td>Kochi/Cochin, Mumbai, Hyderabad/Secunderabad, ...</td>\n",
       "      <td>8-10</td>\n",
       "    </tr>\n",
       "    <tr>\n",
       "      <th>Full Stack Developer - Machine Learning</th>\n",
       "      <td>Huquo Consulting Pvt. Ltd</td>\n",
       "      <td>Bangalore/Bengaluru</td>\n",
       "      <td>5-10</td>\n",
       "    </tr>\n",
       "  </tbody>\n",
       "</table>\n",
       "<p>12000 rows × 3 columns</p>\n",
       "</div>"
      ],
      "text/plain": [
       "                                                                               Company  \\\n",
       "Job_Role                                                                                 \n",
       "Senior Data Scientist                                                              UPL   \n",
       "Senior Data Scientist                                                          Walmart   \n",
       "Applied Data Scientist / ML Senior Engineer (Py...                   SAP India Pvt.Ltd   \n",
       "Data Scientist                                                                     UPL   \n",
       "Data Scientist                                                                 Walmart   \n",
       "...                                                                                ...   \n",
       "Tech Lead/Architect ( Contractual )                 Krazy Mantra HR Solutions Pvt. Ltd   \n",
       "Tech Lead / POD Lead                                                        cliqhr.com   \n",
       "Java Full Stack Developer - Hibernate / Spring                           Serving Skill   \n",
       "Tech Lead - Azure                                                           cliqhr.com   \n",
       "Full Stack Developer - Machine Learning                      Huquo Consulting Pvt. Ltd   \n",
       "\n",
       "                                                                                             Location  \\\n",
       "Job_Role                                                                                                \n",
       "Senior Data Scientist                                         Bangalore/Bengaluru, Mumbai (All Areas)   \n",
       "Senior Data Scientist                                                             Bangalore/Bengaluru   \n",
       "Applied Data Scientist / ML Senior Engineer (Py...                                Bangalore/Bengaluru   \n",
       "Data Scientist                                                Bangalore/Bengaluru, Mumbai (All Areas)   \n",
       "Data Scientist                                                                    Bangalore/Bengaluru   \n",
       "...                                                                                               ...   \n",
       "Tech Lead/Architect ( Contractual )                             Kolkata, Chennai, Bangalore/Bengaluru   \n",
       "Tech Lead / POD Lead                                Hyderabad/Secunderabad, Pune, Bangalore/Bengaluru   \n",
       "Java Full Stack Developer - Hibernate / Spring            Hyderabad/Secunderabad, Bangalore/Bengaluru   \n",
       "Tech Lead - Azure                                   Kochi/Cochin, Mumbai, Hyderabad/Secunderabad, ...   \n",
       "Full Stack Developer - Machine Learning                                           Bangalore/Bengaluru   \n",
       "\n",
       "                                                   Job Experience  \n",
       "Job_Role                                                           \n",
       "Senior Data Scientist                                         3-6  \n",
       "Senior Data Scientist                                         5-9  \n",
       "Applied Data Scientist / ML Senior Engineer (Py...           5-10  \n",
       "Data Scientist                                                1-4  \n",
       "Data Scientist                                                4-8  \n",
       "...                                                           ...  \n",
       "Tech Lead/Architect ( Contractual )                          8-13  \n",
       "Tech Lead / POD Lead                                        10-12  \n",
       "Java Full Stack Developer - Hibernate / Spring                2-5  \n",
       "Tech Lead - Azure                                            8-10  \n",
       "Full Stack Developer - Machine Learning                      5-10  \n",
       "\n",
       "[12000 rows x 3 columns]"
      ]
     },
     "execution_count": 16,
     "metadata": {},
     "output_type": "execute_result"
    }
   ],
   "source": [
    "a.sample(n=3,axis=1)"
   ]
  },
  {
   "cell_type": "code",
   "execution_count": 17,
   "id": "94206784",
   "metadata": {
    "execution": {
     "iopub.execute_input": "2022-10-04T07:05:39.496604Z",
     "iopub.status.busy": "2022-10-04T07:05:39.495973Z",
     "iopub.status.idle": "2022-10-04T07:05:39.511679Z",
     "shell.execute_reply": "2022-10-04T07:05:39.510584Z"
    },
    "papermill": {
     "duration": 0.038214,
     "end_time": "2022-10-04T07:05:39.513945",
     "exception": false,
     "start_time": "2022-10-04T07:05:39.475731",
     "status": "completed"
    },
    "tags": []
   },
   "outputs": [
    {
     "data": {
      "text/html": [
       "<div>\n",
       "<style scoped>\n",
       "    .dataframe tbody tr th:only-of-type {\n",
       "        vertical-align: middle;\n",
       "    }\n",
       "\n",
       "    .dataframe tbody tr th {\n",
       "        vertical-align: top;\n",
       "    }\n",
       "\n",
       "    .dataframe thead th {\n",
       "        text-align: right;\n",
       "    }\n",
       "</style>\n",
       "<table border=\"1\" class=\"dataframe\">\n",
       "  <thead>\n",
       "    <tr style=\"text-align: right;\">\n",
       "      <th></th>\n",
       "      <th>Company</th>\n",
       "      <th>Location</th>\n",
       "      <th>Job Experience</th>\n",
       "      <th>Skills/Description</th>\n",
       "    </tr>\n",
       "    <tr>\n",
       "      <th>Job_Role</th>\n",
       "      <th></th>\n",
       "      <th></th>\n",
       "      <th></th>\n",
       "      <th></th>\n",
       "    </tr>\n",
       "  </thead>\n",
       "  <tbody>\n",
       "    <tr>\n",
       "      <th>Marketing Analyst</th>\n",
       "      <td>IND Innovations Pvt Ltd.</td>\n",
       "      <td>Delhi</td>\n",
       "      <td>1-3</td>\n",
       "      <td>Marketing programs, Marketing Manager, Sales, ...</td>\n",
       "    </tr>\n",
       "    <tr>\n",
       "      <th>Data Scientist</th>\n",
       "      <td>Infinite Uptime</td>\n",
       "      <td>Pune, Jharsuguda</td>\n",
       "      <td>2-4</td>\n",
       "      <td>Condition monitoring, Cloud computing, Data an...</td>\n",
       "    </tr>\n",
       "    <tr>\n",
       "      <th>Product Manager</th>\n",
       "      <td>Ethos Capital</td>\n",
       "      <td>Bangalore/Bengaluru</td>\n",
       "      <td>3-7</td>\n",
       "      <td>Leadership, Law, Life Insurance, Product Desig...</td>\n",
       "    </tr>\n",
       "    <tr>\n",
       "      <th>Senior Engineer</th>\n",
       "      <td>Deutsche Bank</td>\n",
       "      <td>Pune</td>\n",
       "      <td>15-18</td>\n",
       "      <td>Process automation, Business objects, Assuranc...</td>\n",
       "    </tr>\n",
       "    <tr>\n",
       "      <th>Hadoop Developer - Scala/Big Data</th>\n",
       "      <td>Maven Workforce</td>\n",
       "      <td>Chennai</td>\n",
       "      <td>5-10</td>\n",
       "      <td>Scala, Hadoop, Big Data, Data Ingestion, Hive,...</td>\n",
       "    </tr>\n",
       "    <tr>\n",
       "      <th>...</th>\n",
       "      <td>...</td>\n",
       "      <td>...</td>\n",
       "      <td>...</td>\n",
       "      <td>...</td>\n",
       "    </tr>\n",
       "    <tr>\n",
       "      <th>Data Engineering Application Developer</th>\n",
       "      <td>Accenture</td>\n",
       "      <td>Hyderabad/Secunderabad</td>\n",
       "      <td>4-6</td>\n",
       "      <td>Consulting, SQL, Python, Flask APIs, SQL Serve...</td>\n",
       "    </tr>\n",
       "    <tr>\n",
       "      <th>Backend Cloud Engineer</th>\n",
       "      <td>Saffron Careers Private Limited</td>\n",
       "      <td>Hyderabad/Secunderabad</td>\n",
       "      <td>5-8</td>\n",
       "      <td>Cloud computing, Backend, NoSQL, Linux, MySQL,...</td>\n",
       "    </tr>\n",
       "    <tr>\n",
       "      <th>Analyst III, Application Support</th>\n",
       "      <td>FutureSoft (India)</td>\n",
       "      <td>Gurgaon/Gurugram</td>\n",
       "      <td>5-7</td>\n",
       "      <td>IT Skills, Testing, Application support, Chang...</td>\n",
       "    </tr>\n",
       "    <tr>\n",
       "      <th>Senior Data Scientist</th>\n",
       "      <td>Fanatics, Inc.</td>\n",
       "      <td>Hyderabad/Secunderabad</td>\n",
       "      <td>5-11</td>\n",
       "      <td>Supply chain, Computer science, Operations res...</td>\n",
       "    </tr>\n",
       "    <tr>\n",
       "      <th>Business Analyst/Data Analyst</th>\n",
       "      <td>Telamon HR Solutions</td>\n",
       "      <td>Hyderabad/Secunderabad, Bangalore/Bengaluru, D...</td>\n",
       "      <td>3-5</td>\n",
       "      <td>SDLC, communication, Data analytics, presentat...</td>\n",
       "    </tr>\n",
       "  </tbody>\n",
       "</table>\n",
       "<p>1200 rows × 4 columns</p>\n",
       "</div>"
      ],
      "text/plain": [
       "                                                                Company  \\\n",
       "Job_Role                                                                  \n",
       "Marketing Analyst                              IND Innovations Pvt Ltd.   \n",
       "Data Scientist                                          Infinite Uptime   \n",
       "Product Manager                                           Ethos Capital   \n",
       "Senior Engineer                                           Deutsche Bank   \n",
       "Hadoop Developer - Scala/Big Data                       Maven Workforce   \n",
       "...                                                                 ...   \n",
       "Data Engineering Application Developer                        Accenture   \n",
       "Backend Cloud Engineer                  Saffron Careers Private Limited   \n",
       "Analyst III, Application Support                     FutureSoft (India)   \n",
       "Senior Data Scientist                                    Fanatics, Inc.   \n",
       "Business Analyst/Data Analyst                      Telamon HR Solutions   \n",
       "\n",
       "                                                                                 Location  \\\n",
       "Job_Role                                                                                    \n",
       "Marketing Analyst                                                                   Delhi   \n",
       "Data Scientist                                                           Pune, Jharsuguda   \n",
       "Product Manager                                                       Bangalore/Bengaluru   \n",
       "Senior Engineer                                                                      Pune   \n",
       "Hadoop Developer - Scala/Big Data                                                 Chennai   \n",
       "...                                                                                   ...   \n",
       "Data Engineering Application Developer                             Hyderabad/Secunderabad   \n",
       "Backend Cloud Engineer                                             Hyderabad/Secunderabad   \n",
       "Analyst III, Application Support                                         Gurgaon/Gurugram   \n",
       "Senior Data Scientist                                              Hyderabad/Secunderabad   \n",
       "Business Analyst/Data Analyst           Hyderabad/Secunderabad, Bangalore/Bengaluru, D...   \n",
       "\n",
       "                                       Job Experience  \\\n",
       "Job_Role                                                \n",
       "Marketing Analyst                                 1-3   \n",
       "Data Scientist                                    2-4   \n",
       "Product Manager                                   3-7   \n",
       "Senior Engineer                                 15-18   \n",
       "Hadoop Developer - Scala/Big Data                5-10   \n",
       "...                                               ...   \n",
       "Data Engineering Application Developer            4-6   \n",
       "Backend Cloud Engineer                            5-8   \n",
       "Analyst III, Application Support                  5-7   \n",
       "Senior Data Scientist                            5-11   \n",
       "Business Analyst/Data Analyst                     3-5   \n",
       "\n",
       "                                                                       Skills/Description  \n",
       "Job_Role                                                                                   \n",
       "Marketing Analyst                       Marketing programs, Marketing Manager, Sales, ...  \n",
       "Data Scientist                          Condition monitoring, Cloud computing, Data an...  \n",
       "Product Manager                         Leadership, Law, Life Insurance, Product Desig...  \n",
       "Senior Engineer                         Process automation, Business objects, Assuranc...  \n",
       "Hadoop Developer - Scala/Big Data       Scala, Hadoop, Big Data, Data Ingestion, Hive,...  \n",
       "...                                                                                   ...  \n",
       "Data Engineering Application Developer  Consulting, SQL, Python, Flask APIs, SQL Serve...  \n",
       "Backend Cloud Engineer                  Cloud computing, Backend, NoSQL, Linux, MySQL,...  \n",
       "Analyst III, Application Support        IT Skills, Testing, Application support, Chang...  \n",
       "Senior Data Scientist                   Supply chain, Computer science, Operations res...  \n",
       "Business Analyst/Data Analyst           SDLC, communication, Data analytics, presentat...  \n",
       "\n",
       "[1200 rows x 4 columns]"
      ]
     },
     "execution_count": 17,
     "metadata": {},
     "output_type": "execute_result"
    }
   ],
   "source": [
    "a.sample(frac=0.1)"
   ]
  },
  {
   "cell_type": "markdown",
   "id": "f63ed58a",
   "metadata": {
    "papermill": {
     "duration": 0.01857,
     "end_time": "2022-10-04T07:05:39.551710",
     "exception": false,
     "start_time": "2022-10-04T07:05:39.533140",
     "status": "completed"
    },
    "tags": []
   },
   "source": [
    "**Largest/Smallest Value**"
   ]
  },
  {
   "cell_type": "code",
   "execution_count": 18,
   "id": "7d9b9c11",
   "metadata": {
    "execution": {
     "iopub.execute_input": "2022-10-04T07:05:39.591806Z",
     "iopub.status.busy": "2022-10-04T07:05:39.591166Z",
     "iopub.status.idle": "2022-10-04T07:05:39.595770Z",
     "shell.execute_reply": "2022-10-04T07:05:39.595050Z"
    },
    "papermill": {
     "duration": 0.027254,
     "end_time": "2022-10-04T07:05:39.597944",
     "exception": false,
     "start_time": "2022-10-04T07:05:39.570690",
     "status": "completed"
    },
    "tags": []
   },
   "outputs": [],
   "source": [
    "import pandas as pd"
   ]
  },
  {
   "cell_type": "code",
   "execution_count": 19,
   "id": "3d26e7b7",
   "metadata": {
    "execution": {
     "iopub.execute_input": "2022-10-04T07:05:39.637887Z",
     "iopub.status.busy": "2022-10-04T07:05:39.637479Z",
     "iopub.status.idle": "2022-10-04T07:05:39.680827Z",
     "shell.execute_reply": "2022-10-04T07:05:39.679869Z"
    },
    "papermill": {
     "duration": 0.066042,
     "end_time": "2022-10-04T07:05:39.683243",
     "exception": false,
     "start_time": "2022-10-04T07:05:39.617201",
     "status": "completed"
    },
    "tags": []
   },
   "outputs": [],
   "source": [
    "data=pd.read_csv('../input/data-science-jobs-in-india/naukri_data_science_jobs_india.csv',index_col=['Job_Role'])"
   ]
  },
  {
   "cell_type": "code",
   "execution_count": 20,
   "id": "1c031ac1",
   "metadata": {
    "execution": {
     "iopub.execute_input": "2022-10-04T07:05:39.723780Z",
     "iopub.status.busy": "2022-10-04T07:05:39.722640Z",
     "iopub.status.idle": "2022-10-04T07:05:39.735402Z",
     "shell.execute_reply": "2022-10-04T07:05:39.734203Z"
    },
    "papermill": {
     "duration": 0.035173,
     "end_time": "2022-10-04T07:05:39.737637",
     "exception": false,
     "start_time": "2022-10-04T07:05:39.702464",
     "status": "completed"
    },
    "tags": []
   },
   "outputs": [
    {
     "data": {
      "text/html": [
       "<div>\n",
       "<style scoped>\n",
       "    .dataframe tbody tr th:only-of-type {\n",
       "        vertical-align: middle;\n",
       "    }\n",
       "\n",
       "    .dataframe tbody tr th {\n",
       "        vertical-align: top;\n",
       "    }\n",
       "\n",
       "    .dataframe thead th {\n",
       "        text-align: right;\n",
       "    }\n",
       "</style>\n",
       "<table border=\"1\" class=\"dataframe\">\n",
       "  <thead>\n",
       "    <tr style=\"text-align: right;\">\n",
       "      <th></th>\n",
       "      <th>Company</th>\n",
       "      <th>Location</th>\n",
       "      <th>Job Experience</th>\n",
       "      <th>Skills/Description</th>\n",
       "    </tr>\n",
       "    <tr>\n",
       "      <th>Job_Role</th>\n",
       "      <th></th>\n",
       "      <th></th>\n",
       "      <th></th>\n",
       "      <th></th>\n",
       "    </tr>\n",
       "  </thead>\n",
       "  <tbody>\n",
       "    <tr>\n",
       "      <th>Senior Data Scientist</th>\n",
       "      <td>UPL</td>\n",
       "      <td>Bangalore/Bengaluru, Mumbai (All Areas)</td>\n",
       "      <td>3-6</td>\n",
       "      <td>python, MLT, statistical modeling, machine lea...</td>\n",
       "    </tr>\n",
       "    <tr>\n",
       "      <th>Senior Data Scientist</th>\n",
       "      <td>Walmart</td>\n",
       "      <td>Bangalore/Bengaluru</td>\n",
       "      <td>5-9</td>\n",
       "      <td>Data Science, Machine learning, Python, Azure,...</td>\n",
       "    </tr>\n",
       "    <tr>\n",
       "      <th>Applied Data Scientist / ML Senior Engineer (Python / SQL)</th>\n",
       "      <td>SAP India Pvt.Ltd</td>\n",
       "      <td>Bangalore/Bengaluru</td>\n",
       "      <td>5-10</td>\n",
       "      <td>Python, IT Skills, Testing, Cloud, Product Man...</td>\n",
       "    </tr>\n",
       "    <tr>\n",
       "      <th>Data Scientist</th>\n",
       "      <td>UPL</td>\n",
       "      <td>Bangalore/Bengaluru, Mumbai (All Areas)</td>\n",
       "      <td>1-4</td>\n",
       "      <td>python, machine learning, Data Science, data a...</td>\n",
       "    </tr>\n",
       "    <tr>\n",
       "      <th>Data Scientist</th>\n",
       "      <td>Walmart</td>\n",
       "      <td>Bangalore/Bengaluru</td>\n",
       "      <td>4-8</td>\n",
       "      <td>IT Skills, Python, Data Science, Machine Learn...</td>\n",
       "    </tr>\n",
       "  </tbody>\n",
       "</table>\n",
       "</div>"
      ],
      "text/plain": [
       "                                                              Company  \\\n",
       "Job_Role                                                                \n",
       "Senior Data Scientist                                             UPL   \n",
       "Senior Data Scientist                                         Walmart   \n",
       "Applied Data Scientist / ML Senior Engineer (Py...  SAP India Pvt.Ltd   \n",
       "Data Scientist                                                    UPL   \n",
       "Data Scientist                                                Walmart   \n",
       "\n",
       "                                                                                   Location  \\\n",
       "Job_Role                                                                                      \n",
       "Senior Data Scientist                               Bangalore/Bengaluru, Mumbai (All Areas)   \n",
       "Senior Data Scientist                                                   Bangalore/Bengaluru   \n",
       "Applied Data Scientist / ML Senior Engineer (Py...                      Bangalore/Bengaluru   \n",
       "Data Scientist                                      Bangalore/Bengaluru, Mumbai (All Areas)   \n",
       "Data Scientist                                                          Bangalore/Bengaluru   \n",
       "\n",
       "                                                   Job Experience  \\\n",
       "Job_Role                                                            \n",
       "Senior Data Scientist                                         3-6   \n",
       "Senior Data Scientist                                         5-9   \n",
       "Applied Data Scientist / ML Senior Engineer (Py...           5-10   \n",
       "Data Scientist                                                1-4   \n",
       "Data Scientist                                                4-8   \n",
       "\n",
       "                                                                                   Skills/Description  \n",
       "Job_Role                                                                                               \n",
       "Senior Data Scientist                               python, MLT, statistical modeling, machine lea...  \n",
       "Senior Data Scientist                               Data Science, Machine learning, Python, Azure,...  \n",
       "Applied Data Scientist / ML Senior Engineer (Py...  Python, IT Skills, Testing, Cloud, Product Man...  \n",
       "Data Scientist                                      python, machine learning, Data Science, data a...  \n",
       "Data Scientist                                      IT Skills, Python, Data Science, Machine Learn...  "
      ]
     },
     "execution_count": 20,
     "metadata": {},
     "output_type": "execute_result"
    }
   ],
   "source": [
    "data.head()"
   ]
  },
  {
   "cell_type": "code",
   "execution_count": 21,
   "id": "78175602",
   "metadata": {
    "execution": {
     "iopub.execute_input": "2022-10-04T07:05:39.779562Z",
     "iopub.status.busy": "2022-10-04T07:05:39.778868Z",
     "iopub.status.idle": "2022-10-04T07:05:39.782983Z",
     "shell.execute_reply": "2022-10-04T07:05:39.782120Z"
    },
    "papermill": {
     "duration": 0.027501,
     "end_time": "2022-10-04T07:05:39.785065",
     "exception": false,
     "start_time": "2022-10-04T07:05:39.757564",
     "status": "completed"
    },
    "tags": []
   },
   "outputs": [],
   "source": [
    "import numpy as np"
   ]
  },
  {
   "cell_type": "code",
   "execution_count": 22,
   "id": "c35f1f74",
   "metadata": {
    "execution": {
     "iopub.execute_input": "2022-10-04T07:05:39.825493Z",
     "iopub.status.busy": "2022-10-04T07:05:39.825089Z",
     "iopub.status.idle": "2022-10-04T07:05:39.830911Z",
     "shell.execute_reply": "2022-10-04T07:05:39.830173Z"
    },
    "papermill": {
     "duration": 0.028348,
     "end_time": "2022-10-04T07:05:39.832928",
     "exception": false,
     "start_time": "2022-10-04T07:05:39.804580",
     "status": "completed"
    },
    "tags": []
   },
   "outputs": [],
   "source": [
    "data['Salary']=np.random.randint(100000,1000000,size=12000)"
   ]
  },
  {
   "cell_type": "code",
   "execution_count": 23,
   "id": "5edac40d",
   "metadata": {
    "execution": {
     "iopub.execute_input": "2022-10-04T07:05:39.874798Z",
     "iopub.status.busy": "2022-10-04T07:05:39.873606Z",
     "iopub.status.idle": "2022-10-04T07:05:39.887350Z",
     "shell.execute_reply": "2022-10-04T07:05:39.886262Z"
    },
    "papermill": {
     "duration": 0.036899,
     "end_time": "2022-10-04T07:05:39.889713",
     "exception": false,
     "start_time": "2022-10-04T07:05:39.852814",
     "status": "completed"
    },
    "tags": []
   },
   "outputs": [
    {
     "data": {
      "text/html": [
       "<div>\n",
       "<style scoped>\n",
       "    .dataframe tbody tr th:only-of-type {\n",
       "        vertical-align: middle;\n",
       "    }\n",
       "\n",
       "    .dataframe tbody tr th {\n",
       "        vertical-align: top;\n",
       "    }\n",
       "\n",
       "    .dataframe thead th {\n",
       "        text-align: right;\n",
       "    }\n",
       "</style>\n",
       "<table border=\"1\" class=\"dataframe\">\n",
       "  <thead>\n",
       "    <tr style=\"text-align: right;\">\n",
       "      <th></th>\n",
       "      <th>Company</th>\n",
       "      <th>Location</th>\n",
       "      <th>Job Experience</th>\n",
       "      <th>Skills/Description</th>\n",
       "      <th>Salary</th>\n",
       "    </tr>\n",
       "    <tr>\n",
       "      <th>Job_Role</th>\n",
       "      <th></th>\n",
       "      <th></th>\n",
       "      <th></th>\n",
       "      <th></th>\n",
       "      <th></th>\n",
       "    </tr>\n",
       "  </thead>\n",
       "  <tbody>\n",
       "    <tr>\n",
       "      <th>Senior Data Scientist</th>\n",
       "      <td>UPL</td>\n",
       "      <td>Bangalore/Bengaluru, Mumbai (All Areas)</td>\n",
       "      <td>3-6</td>\n",
       "      <td>python, MLT, statistical modeling, machine lea...</td>\n",
       "      <td>725286</td>\n",
       "    </tr>\n",
       "    <tr>\n",
       "      <th>Senior Data Scientist</th>\n",
       "      <td>Walmart</td>\n",
       "      <td>Bangalore/Bengaluru</td>\n",
       "      <td>5-9</td>\n",
       "      <td>Data Science, Machine learning, Python, Azure,...</td>\n",
       "      <td>545578</td>\n",
       "    </tr>\n",
       "    <tr>\n",
       "      <th>Applied Data Scientist / ML Senior Engineer (Python / SQL)</th>\n",
       "      <td>SAP India Pvt.Ltd</td>\n",
       "      <td>Bangalore/Bengaluru</td>\n",
       "      <td>5-10</td>\n",
       "      <td>Python, IT Skills, Testing, Cloud, Product Man...</td>\n",
       "      <td>555304</td>\n",
       "    </tr>\n",
       "    <tr>\n",
       "      <th>Data Scientist</th>\n",
       "      <td>UPL</td>\n",
       "      <td>Bangalore/Bengaluru, Mumbai (All Areas)</td>\n",
       "      <td>1-4</td>\n",
       "      <td>python, machine learning, Data Science, data a...</td>\n",
       "      <td>199539</td>\n",
       "    </tr>\n",
       "    <tr>\n",
       "      <th>Data Scientist</th>\n",
       "      <td>Walmart</td>\n",
       "      <td>Bangalore/Bengaluru</td>\n",
       "      <td>4-8</td>\n",
       "      <td>IT Skills, Python, Data Science, Machine Learn...</td>\n",
       "      <td>178716</td>\n",
       "    </tr>\n",
       "  </tbody>\n",
       "</table>\n",
       "</div>"
      ],
      "text/plain": [
       "                                                              Company  \\\n",
       "Job_Role                                                                \n",
       "Senior Data Scientist                                             UPL   \n",
       "Senior Data Scientist                                         Walmart   \n",
       "Applied Data Scientist / ML Senior Engineer (Py...  SAP India Pvt.Ltd   \n",
       "Data Scientist                                                    UPL   \n",
       "Data Scientist                                                Walmart   \n",
       "\n",
       "                                                                                   Location  \\\n",
       "Job_Role                                                                                      \n",
       "Senior Data Scientist                               Bangalore/Bengaluru, Mumbai (All Areas)   \n",
       "Senior Data Scientist                                                   Bangalore/Bengaluru   \n",
       "Applied Data Scientist / ML Senior Engineer (Py...                      Bangalore/Bengaluru   \n",
       "Data Scientist                                      Bangalore/Bengaluru, Mumbai (All Areas)   \n",
       "Data Scientist                                                          Bangalore/Bengaluru   \n",
       "\n",
       "                                                   Job Experience  \\\n",
       "Job_Role                                                            \n",
       "Senior Data Scientist                                         3-6   \n",
       "Senior Data Scientist                                         5-9   \n",
       "Applied Data Scientist / ML Senior Engineer (Py...           5-10   \n",
       "Data Scientist                                                1-4   \n",
       "Data Scientist                                                4-8   \n",
       "\n",
       "                                                                                   Skills/Description  \\\n",
       "Job_Role                                                                                                \n",
       "Senior Data Scientist                               python, MLT, statistical modeling, machine lea...   \n",
       "Senior Data Scientist                               Data Science, Machine learning, Python, Azure,...   \n",
       "Applied Data Scientist / ML Senior Engineer (Py...  Python, IT Skills, Testing, Cloud, Product Man...   \n",
       "Data Scientist                                      python, machine learning, Data Science, data a...   \n",
       "Data Scientist                                      IT Skills, Python, Data Science, Machine Learn...   \n",
       "\n",
       "                                                    Salary  \n",
       "Job_Role                                                    \n",
       "Senior Data Scientist                               725286  \n",
       "Senior Data Scientist                               545578  \n",
       "Applied Data Scientist / ML Senior Engineer (Py...  555304  \n",
       "Data Scientist                                      199539  \n",
       "Data Scientist                                      178716  "
      ]
     },
     "execution_count": 23,
     "metadata": {},
     "output_type": "execute_result"
    }
   ],
   "source": [
    "data.head()"
   ]
  },
  {
   "cell_type": "code",
   "execution_count": 24,
   "id": "90ebc6e6",
   "metadata": {
    "execution": {
     "iopub.execute_input": "2022-10-04T07:05:39.932560Z",
     "iopub.status.busy": "2022-10-04T07:05:39.931772Z",
     "iopub.status.idle": "2022-10-04T07:05:39.947170Z",
     "shell.execute_reply": "2022-10-04T07:05:39.946341Z"
    },
    "papermill": {
     "duration": 0.03881,
     "end_time": "2022-10-04T07:05:39.949126",
     "exception": false,
     "start_time": "2022-10-04T07:05:39.910316",
     "status": "completed"
    },
    "tags": []
   },
   "outputs": [
    {
     "data": {
      "text/html": [
       "<div>\n",
       "<style scoped>\n",
       "    .dataframe tbody tr th:only-of-type {\n",
       "        vertical-align: middle;\n",
       "    }\n",
       "\n",
       "    .dataframe tbody tr th {\n",
       "        vertical-align: top;\n",
       "    }\n",
       "\n",
       "    .dataframe thead th {\n",
       "        text-align: right;\n",
       "    }\n",
       "</style>\n",
       "<table border=\"1\" class=\"dataframe\">\n",
       "  <thead>\n",
       "    <tr style=\"text-align: right;\">\n",
       "      <th></th>\n",
       "      <th>Company</th>\n",
       "      <th>Location</th>\n",
       "      <th>Job Experience</th>\n",
       "      <th>Skills/Description</th>\n",
       "      <th>Salary</th>\n",
       "    </tr>\n",
       "    <tr>\n",
       "      <th>Job_Role</th>\n",
       "      <th></th>\n",
       "      <th></th>\n",
       "      <th></th>\n",
       "      <th></th>\n",
       "      <th></th>\n",
       "    </tr>\n",
       "  </thead>\n",
       "  <tbody>\n",
       "    <tr>\n",
       "      <th>Data Engineer - Java/Scala/Python</th>\n",
       "      <td>Corner Tree Consulting</td>\n",
       "      <td>Kolkata, Mumbai, Hyderabad/Secunderabad, Pune,...</td>\n",
       "      <td>5-9</td>\n",
       "      <td>Agile Methodologies, data engineer, Programmin...</td>\n",
       "      <td>999996</td>\n",
       "    </tr>\n",
       "    <tr>\n",
       "      <th>Principal Data Scientist</th>\n",
       "      <td>24 7 ai</td>\n",
       "      <td>Bangalore/Bengaluru</td>\n",
       "      <td>8-13</td>\n",
       "      <td>IT Skills, Java, Python, Data Science, Machine...</td>\n",
       "      <td>999962</td>\n",
       "    </tr>\n",
       "    <tr>\n",
       "      <th>AWS Data Engineer</th>\n",
       "      <td>Delta Technology</td>\n",
       "      <td>Hyderabad/Secunderabad</td>\n",
       "      <td>4-8</td>\n",
       "      <td>Data Engineering, ETL, AWS, IT Skills, Python,...</td>\n",
       "      <td>999962</td>\n",
       "    </tr>\n",
       "  </tbody>\n",
       "</table>\n",
       "</div>"
      ],
      "text/plain": [
       "                                                  Company  \\\n",
       "Job_Role                                                    \n",
       "Data Engineer - Java/Scala/Python  Corner Tree Consulting   \n",
       "Principal Data Scientist                          24 7 ai   \n",
       "AWS Data Engineer                        Delta Technology   \n",
       "\n",
       "                                                                            Location  \\\n",
       "Job_Role                                                                               \n",
       "Data Engineer - Java/Scala/Python  Kolkata, Mumbai, Hyderabad/Secunderabad, Pune,...   \n",
       "Principal Data Scientist                                         Bangalore/Bengaluru   \n",
       "AWS Data Engineer                                             Hyderabad/Secunderabad   \n",
       "\n",
       "                                  Job Experience  \\\n",
       "Job_Role                                           \n",
       "Data Engineer - Java/Scala/Python            5-9   \n",
       "Principal Data Scientist                    8-13   \n",
       "AWS Data Engineer                            4-8   \n",
       "\n",
       "                                                                  Skills/Description  \\\n",
       "Job_Role                                                                               \n",
       "Data Engineer - Java/Scala/Python  Agile Methodologies, data engineer, Programmin...   \n",
       "Principal Data Scientist           IT Skills, Java, Python, Data Science, Machine...   \n",
       "AWS Data Engineer                  Data Engineering, ETL, AWS, IT Skills, Python,...   \n",
       "\n",
       "                                   Salary  \n",
       "Job_Role                                   \n",
       "Data Engineer - Java/Scala/Python  999996  \n",
       "Principal Data Scientist           999962  \n",
       "AWS Data Engineer                  999962  "
      ]
     },
     "execution_count": 24,
     "metadata": {},
     "output_type": "execute_result"
    }
   ],
   "source": [
    "data.sort_values('Salary',ascending=False).head(3)"
   ]
  },
  {
   "cell_type": "code",
   "execution_count": 25,
   "id": "dc3db0ad",
   "metadata": {
    "execution": {
     "iopub.execute_input": "2022-10-04T07:05:39.992380Z",
     "iopub.status.busy": "2022-10-04T07:05:39.991584Z",
     "iopub.status.idle": "2022-10-04T07:05:40.009085Z",
     "shell.execute_reply": "2022-10-04T07:05:40.008010Z"
    },
    "papermill": {
     "duration": 0.04165,
     "end_time": "2022-10-04T07:05:40.011415",
     "exception": false,
     "start_time": "2022-10-04T07:05:39.969765",
     "status": "completed"
    },
    "tags": []
   },
   "outputs": [
    {
     "data": {
      "text/html": [
       "<div>\n",
       "<style scoped>\n",
       "    .dataframe tbody tr th:only-of-type {\n",
       "        vertical-align: middle;\n",
       "    }\n",
       "\n",
       "    .dataframe tbody tr th {\n",
       "        vertical-align: top;\n",
       "    }\n",
       "\n",
       "    .dataframe thead th {\n",
       "        text-align: right;\n",
       "    }\n",
       "</style>\n",
       "<table border=\"1\" class=\"dataframe\">\n",
       "  <thead>\n",
       "    <tr style=\"text-align: right;\">\n",
       "      <th></th>\n",
       "      <th>Company</th>\n",
       "      <th>Location</th>\n",
       "      <th>Job Experience</th>\n",
       "      <th>Skills/Description</th>\n",
       "      <th>Salary</th>\n",
       "    </tr>\n",
       "    <tr>\n",
       "      <th>Job_Role</th>\n",
       "      <th></th>\n",
       "      <th></th>\n",
       "      <th></th>\n",
       "      <th></th>\n",
       "      <th></th>\n",
       "    </tr>\n",
       "  </thead>\n",
       "  <tbody>\n",
       "    <tr>\n",
       "      <th>Data Engineer - Java/Scala/Python</th>\n",
       "      <td>Corner Tree Consulting</td>\n",
       "      <td>Kolkata, Mumbai, Hyderabad/Secunderabad, Pune,...</td>\n",
       "      <td>5-9</td>\n",
       "      <td>Agile Methodologies, data engineer, Programmin...</td>\n",
       "      <td>999996</td>\n",
       "    </tr>\n",
       "    <tr>\n",
       "      <th>Principal Data Scientist</th>\n",
       "      <td>24 7 ai</td>\n",
       "      <td>Bangalore/Bengaluru</td>\n",
       "      <td>8-13</td>\n",
       "      <td>IT Skills, Java, Python, Data Science, Machine...</td>\n",
       "      <td>999962</td>\n",
       "    </tr>\n",
       "    <tr>\n",
       "      <th>AWS Data Engineer</th>\n",
       "      <td>Delta Technology</td>\n",
       "      <td>Hyderabad/Secunderabad</td>\n",
       "      <td>4-8</td>\n",
       "      <td>Data Engineering, ETL, AWS, IT Skills, Python,...</td>\n",
       "      <td>999962</td>\n",
       "    </tr>\n",
       "  </tbody>\n",
       "</table>\n",
       "</div>"
      ],
      "text/plain": [
       "                                                  Company  \\\n",
       "Job_Role                                                    \n",
       "Data Engineer - Java/Scala/Python  Corner Tree Consulting   \n",
       "Principal Data Scientist                          24 7 ai   \n",
       "AWS Data Engineer                        Delta Technology   \n",
       "\n",
       "                                                                            Location  \\\n",
       "Job_Role                                                                               \n",
       "Data Engineer - Java/Scala/Python  Kolkata, Mumbai, Hyderabad/Secunderabad, Pune,...   \n",
       "Principal Data Scientist                                         Bangalore/Bengaluru   \n",
       "AWS Data Engineer                                             Hyderabad/Secunderabad   \n",
       "\n",
       "                                  Job Experience  \\\n",
       "Job_Role                                           \n",
       "Data Engineer - Java/Scala/Python            5-9   \n",
       "Principal Data Scientist                    8-13   \n",
       "AWS Data Engineer                            4-8   \n",
       "\n",
       "                                                                  Skills/Description  \\\n",
       "Job_Role                                                                               \n",
       "Data Engineer - Java/Scala/Python  Agile Methodologies, data engineer, Programmin...   \n",
       "Principal Data Scientist           IT Skills, Java, Python, Data Science, Machine...   \n",
       "AWS Data Engineer                  Data Engineering, ETL, AWS, IT Skills, Python,...   \n",
       "\n",
       "                                   Salary  \n",
       "Job_Role                                   \n",
       "Data Engineer - Java/Scala/Python  999996  \n",
       "Principal Data Scientist           999962  \n",
       "AWS Data Engineer                  999962  "
      ]
     },
     "execution_count": 25,
     "metadata": {},
     "output_type": "execute_result"
    }
   ],
   "source": [
    "data.nlargest(3,'Salary')"
   ]
  },
  {
   "cell_type": "code",
   "execution_count": 26,
   "id": "292ff0bb",
   "metadata": {
    "execution": {
     "iopub.execute_input": "2022-10-04T07:05:40.053907Z",
     "iopub.status.busy": "2022-10-04T07:05:40.053495Z",
     "iopub.status.idle": "2022-10-04T07:05:40.063005Z",
     "shell.execute_reply": "2022-10-04T07:05:40.061888Z"
    },
    "papermill": {
     "duration": 0.033379,
     "end_time": "2022-10-04T07:05:40.065307",
     "exception": false,
     "start_time": "2022-10-04T07:05:40.031928",
     "status": "completed"
    },
    "tags": []
   },
   "outputs": [
    {
     "data": {
      "text/plain": [
       "Job_Role\n",
       "Data Engineer - Java/Scala/Python    999996\n",
       "Principal Data Scientist             999962\n",
       "AWS Data Engineer                    999962\n",
       "Name: Salary, dtype: int64"
      ]
     },
     "execution_count": 26,
     "metadata": {},
     "output_type": "execute_result"
    }
   ],
   "source": [
    "data['Salary'].nlargest(3)"
   ]
  },
  {
   "cell_type": "markdown",
   "id": "1079cde4",
   "metadata": {
    "papermill": {
     "duration": 0.020402,
     "end_time": "2022-10-04T07:05:40.106374",
     "exception": false,
     "start_time": "2022-10-04T07:05:40.085972",
     "status": "completed"
    },
    "tags": []
   },
   "source": [
    "**smallest**"
   ]
  },
  {
   "cell_type": "code",
   "execution_count": 27,
   "id": "dc960ea3",
   "metadata": {
    "execution": {
     "iopub.execute_input": "2022-10-04T07:05:40.149748Z",
     "iopub.status.busy": "2022-10-04T07:05:40.149364Z",
     "iopub.status.idle": "2022-10-04T07:05:40.164016Z",
     "shell.execute_reply": "2022-10-04T07:05:40.163022Z"
    },
    "papermill": {
     "duration": 0.039465,
     "end_time": "2022-10-04T07:05:40.166483",
     "exception": false,
     "start_time": "2022-10-04T07:05:40.127018",
     "status": "completed"
    },
    "tags": []
   },
   "outputs": [
    {
     "data": {
      "text/html": [
       "<div>\n",
       "<style scoped>\n",
       "    .dataframe tbody tr th:only-of-type {\n",
       "        vertical-align: middle;\n",
       "    }\n",
       "\n",
       "    .dataframe tbody tr th {\n",
       "        vertical-align: top;\n",
       "    }\n",
       "\n",
       "    .dataframe thead th {\n",
       "        text-align: right;\n",
       "    }\n",
       "</style>\n",
       "<table border=\"1\" class=\"dataframe\">\n",
       "  <thead>\n",
       "    <tr style=\"text-align: right;\">\n",
       "      <th></th>\n",
       "      <th>Company</th>\n",
       "      <th>Location</th>\n",
       "      <th>Job Experience</th>\n",
       "      <th>Skills/Description</th>\n",
       "      <th>Salary</th>\n",
       "    </tr>\n",
       "    <tr>\n",
       "      <th>Job_Role</th>\n",
       "      <th></th>\n",
       "      <th></th>\n",
       "      <th></th>\n",
       "      <th></th>\n",
       "      <th></th>\n",
       "    </tr>\n",
       "  </thead>\n",
       "  <tbody>\n",
       "    <tr>\n",
       "      <th>Data Scientist</th>\n",
       "      <td>Pasona</td>\n",
       "      <td>New Delhi</td>\n",
       "      <td>1-3</td>\n",
       "      <td>IT Skills, Java, Python, Software Development,...</td>\n",
       "      <td>100211</td>\n",
       "    </tr>\n",
       "  </tbody>\n",
       "</table>\n",
       "</div>"
      ],
      "text/plain": [
       "               Company   Location Job Experience  \\\n",
       "Job_Role                                           \n",
       "Data Scientist  Pasona  New Delhi            1-3   \n",
       "\n",
       "                                               Skills/Description  Salary  \n",
       "Job_Role                                                                   \n",
       "Data Scientist  IT Skills, Java, Python, Software Development,...  100211  "
      ]
     },
     "execution_count": 27,
     "metadata": {},
     "output_type": "execute_result"
    }
   ],
   "source": [
    "data.sort_values('Salary').head(1)"
   ]
  },
  {
   "cell_type": "code",
   "execution_count": 28,
   "id": "9d6e7b0c",
   "metadata": {
    "execution": {
     "iopub.execute_input": "2022-10-04T07:05:40.216293Z",
     "iopub.status.busy": "2022-10-04T07:05:40.215921Z",
     "iopub.status.idle": "2022-10-04T07:05:40.232385Z",
     "shell.execute_reply": "2022-10-04T07:05:40.231344Z"
    },
    "papermill": {
     "duration": 0.044768,
     "end_time": "2022-10-04T07:05:40.234494",
     "exception": false,
     "start_time": "2022-10-04T07:05:40.189726",
     "status": "completed"
    },
    "tags": []
   },
   "outputs": [
    {
     "data": {
      "text/html": [
       "<div>\n",
       "<style scoped>\n",
       "    .dataframe tbody tr th:only-of-type {\n",
       "        vertical-align: middle;\n",
       "    }\n",
       "\n",
       "    .dataframe tbody tr th {\n",
       "        vertical-align: top;\n",
       "    }\n",
       "\n",
       "    .dataframe thead th {\n",
       "        text-align: right;\n",
       "    }\n",
       "</style>\n",
       "<table border=\"1\" class=\"dataframe\">\n",
       "  <thead>\n",
       "    <tr style=\"text-align: right;\">\n",
       "      <th></th>\n",
       "      <th>Company</th>\n",
       "      <th>Location</th>\n",
       "      <th>Job Experience</th>\n",
       "      <th>Skills/Description</th>\n",
       "      <th>Salary</th>\n",
       "    </tr>\n",
       "    <tr>\n",
       "      <th>Job_Role</th>\n",
       "      <th></th>\n",
       "      <th></th>\n",
       "      <th></th>\n",
       "      <th></th>\n",
       "      <th></th>\n",
       "    </tr>\n",
       "  </thead>\n",
       "  <tbody>\n",
       "    <tr>\n",
       "      <th>Data Scientist</th>\n",
       "      <td>Pasona</td>\n",
       "      <td>New Delhi</td>\n",
       "      <td>1-3</td>\n",
       "      <td>IT Skills, Java, Python, Software Development,...</td>\n",
       "      <td>100211</td>\n",
       "    </tr>\n",
       "    <tr>\n",
       "      <th>Senior Backend Engineer - Java &amp; Data Warehousing | Space &amp; Time</th>\n",
       "      <td>TALENT500 TECH (INDIA) PRIVATE LIMITED</td>\n",
       "      <td>Remote</td>\n",
       "      <td>3-8</td>\n",
       "      <td>IT Skills, Java, Data Science, Cloud</td>\n",
       "      <td>100217</td>\n",
       "    </tr>\n",
       "    <tr>\n",
       "      <th>Associate Staffing Analyst</th>\n",
       "      <td>Client of PEOPLELOGIC BUSINESS SOLUTIONS</td>\n",
       "      <td>Bengaluru, Bengaluru / Bangalore</td>\n",
       "      <td>0-1</td>\n",
       "      <td>ERP, MS Data management, Succession Planning, ...</td>\n",
       "      <td>100218</td>\n",
       "    </tr>\n",
       "  </tbody>\n",
       "</table>\n",
       "</div>"
      ],
      "text/plain": [
       "                                                                                     Company  \\\n",
       "Job_Role                                                                                       \n",
       "Data Scientist                                                                        Pasona   \n",
       "Senior Backend Engineer - Java & Data Warehousi...    TALENT500 TECH (INDIA) PRIVATE LIMITED   \n",
       "Associate Staffing Analyst                          Client of PEOPLELOGIC BUSINESS SOLUTIONS   \n",
       "\n",
       "                                                                            Location  \\\n",
       "Job_Role                                                                               \n",
       "Data Scientist                                                             New Delhi   \n",
       "Senior Backend Engineer - Java & Data Warehousi...                            Remote   \n",
       "Associate Staffing Analyst                          Bengaluru, Bengaluru / Bangalore   \n",
       "\n",
       "                                                   Job Experience  \\\n",
       "Job_Role                                                            \n",
       "Data Scientist                                                1-3   \n",
       "Senior Backend Engineer - Java & Data Warehousi...            3-8   \n",
       "Associate Staffing Analyst                                    0-1   \n",
       "\n",
       "                                                                                   Skills/Description  \\\n",
       "Job_Role                                                                                                \n",
       "Data Scientist                                      IT Skills, Java, Python, Software Development,...   \n",
       "Senior Backend Engineer - Java & Data Warehousi...               IT Skills, Java, Data Science, Cloud   \n",
       "Associate Staffing Analyst                          ERP, MS Data management, Succession Planning, ...   \n",
       "\n",
       "                                                    Salary  \n",
       "Job_Role                                                    \n",
       "Data Scientist                                      100211  \n",
       "Senior Backend Engineer - Java & Data Warehousi...  100217  \n",
       "Associate Staffing Analyst                          100218  "
      ]
     },
     "execution_count": 28,
     "metadata": {},
     "output_type": "execute_result"
    }
   ],
   "source": [
    "data.nsmallest(3,'Salary')"
   ]
  },
  {
   "cell_type": "code",
   "execution_count": 29,
   "id": "5069efc9",
   "metadata": {
    "execution": {
     "iopub.execute_input": "2022-10-04T07:05:40.282365Z",
     "iopub.status.busy": "2022-10-04T07:05:40.281997Z",
     "iopub.status.idle": "2022-10-04T07:05:40.289920Z",
     "shell.execute_reply": "2022-10-04T07:05:40.288828Z"
    },
    "papermill": {
     "duration": 0.032439,
     "end_time": "2022-10-04T07:05:40.291993",
     "exception": false,
     "start_time": "2022-10-04T07:05:40.259554",
     "status": "completed"
    },
    "tags": []
   },
   "outputs": [
    {
     "data": {
      "text/plain": [
       "Job_Role\n",
       "Data Scientist                                                      100211\n",
       "Senior Backend Engineer - Java & Data Warehousing | Space & Time    100217\n",
       "Associate Staffing Analyst                                          100218\n",
       "Name: Salary, dtype: int64"
      ]
     },
     "execution_count": 29,
     "metadata": {},
     "output_type": "execute_result"
    }
   ],
   "source": [
    "data['Salary'].nsmallest(3)"
   ]
  },
  {
   "cell_type": "markdown",
   "id": "c0090932",
   "metadata": {
    "papermill": {
     "duration": 0.0208,
     "end_time": "2022-10-04T07:05:40.334099",
     "exception": false,
     "start_time": "2022-10-04T07:05:40.313299",
     "status": "completed"
    },
    "tags": []
   },
   "source": [
    "**WHERE METHOD**"
   ]
  },
  {
   "cell_type": "code",
   "execution_count": 30,
   "id": "d7970787",
   "metadata": {
    "execution": {
     "iopub.execute_input": "2022-10-04T07:05:40.377989Z",
     "iopub.status.busy": "2022-10-04T07:05:40.377505Z",
     "iopub.status.idle": "2022-10-04T07:05:40.382012Z",
     "shell.execute_reply": "2022-10-04T07:05:40.381226Z"
    },
    "papermill": {
     "duration": 0.028772,
     "end_time": "2022-10-04T07:05:40.383870",
     "exception": false,
     "start_time": "2022-10-04T07:05:40.355098",
     "status": "completed"
    },
    "tags": []
   },
   "outputs": [],
   "source": [
    "import pandas as pd"
   ]
  },
  {
   "cell_type": "code",
   "execution_count": 31,
   "id": "9400bd77",
   "metadata": {
    "execution": {
     "iopub.execute_input": "2022-10-04T07:05:40.427946Z",
     "iopub.status.busy": "2022-10-04T07:05:40.427509Z",
     "iopub.status.idle": "2022-10-04T07:05:40.469691Z",
     "shell.execute_reply": "2022-10-04T07:05:40.468753Z"
    },
    "papermill": {
     "duration": 0.067265,
     "end_time": "2022-10-04T07:05:40.472183",
     "exception": false,
     "start_time": "2022-10-04T07:05:40.404918",
     "status": "completed"
    },
    "tags": []
   },
   "outputs": [],
   "source": [
    "a=pd.read_csv('../input/data-science-jobs-in-india/naukri_data_science_jobs_india.csv')"
   ]
  },
  {
   "cell_type": "code",
   "execution_count": 32,
   "id": "87c74276",
   "metadata": {
    "execution": {
     "iopub.execute_input": "2022-10-04T07:05:40.516554Z",
     "iopub.status.busy": "2022-10-04T07:05:40.516156Z",
     "iopub.status.idle": "2022-10-04T07:05:40.527928Z",
     "shell.execute_reply": "2022-10-04T07:05:40.527203Z"
    },
    "papermill": {
     "duration": 0.03627,
     "end_time": "2022-10-04T07:05:40.529970",
     "exception": false,
     "start_time": "2022-10-04T07:05:40.493700",
     "status": "completed"
    },
    "tags": []
   },
   "outputs": [
    {
     "data": {
      "text/html": [
       "<div>\n",
       "<style scoped>\n",
       "    .dataframe tbody tr th:only-of-type {\n",
       "        vertical-align: middle;\n",
       "    }\n",
       "\n",
       "    .dataframe tbody tr th {\n",
       "        vertical-align: top;\n",
       "    }\n",
       "\n",
       "    .dataframe thead th {\n",
       "        text-align: right;\n",
       "    }\n",
       "</style>\n",
       "<table border=\"1\" class=\"dataframe\">\n",
       "  <thead>\n",
       "    <tr style=\"text-align: right;\">\n",
       "      <th></th>\n",
       "      <th>Job_Role</th>\n",
       "      <th>Company</th>\n",
       "      <th>Location</th>\n",
       "      <th>Job Experience</th>\n",
       "      <th>Skills/Description</th>\n",
       "    </tr>\n",
       "  </thead>\n",
       "  <tbody>\n",
       "    <tr>\n",
       "      <th>0</th>\n",
       "      <td>Senior Data Scientist</td>\n",
       "      <td>UPL</td>\n",
       "      <td>Bangalore/Bengaluru, Mumbai (All Areas)</td>\n",
       "      <td>3-6</td>\n",
       "      <td>python, MLT, statistical modeling, machine lea...</td>\n",
       "    </tr>\n",
       "    <tr>\n",
       "      <th>1</th>\n",
       "      <td>Senior Data Scientist</td>\n",
       "      <td>Walmart</td>\n",
       "      <td>Bangalore/Bengaluru</td>\n",
       "      <td>5-9</td>\n",
       "      <td>Data Science, Machine learning, Python, Azure,...</td>\n",
       "    </tr>\n",
       "    <tr>\n",
       "      <th>2</th>\n",
       "      <td>Applied Data Scientist / ML Senior Engineer (P...</td>\n",
       "      <td>SAP India Pvt.Ltd</td>\n",
       "      <td>Bangalore/Bengaluru</td>\n",
       "      <td>5-10</td>\n",
       "      <td>Python, IT Skills, Testing, Cloud, Product Man...</td>\n",
       "    </tr>\n",
       "    <tr>\n",
       "      <th>3</th>\n",
       "      <td>Data Scientist</td>\n",
       "      <td>UPL</td>\n",
       "      <td>Bangalore/Bengaluru, Mumbai (All Areas)</td>\n",
       "      <td>1-4</td>\n",
       "      <td>python, machine learning, Data Science, data a...</td>\n",
       "    </tr>\n",
       "    <tr>\n",
       "      <th>4</th>\n",
       "      <td>Data Scientist</td>\n",
       "      <td>Walmart</td>\n",
       "      <td>Bangalore/Bengaluru</td>\n",
       "      <td>4-8</td>\n",
       "      <td>IT Skills, Python, Data Science, Machine Learn...</td>\n",
       "    </tr>\n",
       "  </tbody>\n",
       "</table>\n",
       "</div>"
      ],
      "text/plain": [
       "                                            Job_Role            Company  \\\n",
       "0                              Senior Data Scientist                UPL   \n",
       "1                              Senior Data Scientist            Walmart   \n",
       "2  Applied Data Scientist / ML Senior Engineer (P...  SAP India Pvt.Ltd   \n",
       "3                                     Data Scientist                UPL   \n",
       "4                                     Data Scientist            Walmart   \n",
       "\n",
       "                                  Location Job Experience  \\\n",
       "0  Bangalore/Bengaluru, Mumbai (All Areas)            3-6   \n",
       "1                      Bangalore/Bengaluru            5-9   \n",
       "2                      Bangalore/Bengaluru           5-10   \n",
       "3  Bangalore/Bengaluru, Mumbai (All Areas)            1-4   \n",
       "4                      Bangalore/Bengaluru            4-8   \n",
       "\n",
       "                                  Skills/Description  \n",
       "0  python, MLT, statistical modeling, machine lea...  \n",
       "1  Data Science, Machine learning, Python, Azure,...  \n",
       "2  Python, IT Skills, Testing, Cloud, Product Man...  \n",
       "3  python, machine learning, Data Science, data a...  \n",
       "4  IT Skills, Python, Data Science, Machine Learn...  "
      ]
     },
     "execution_count": 32,
     "metadata": {},
     "output_type": "execute_result"
    }
   ],
   "source": [
    "a.head()"
   ]
  },
  {
   "cell_type": "code",
   "execution_count": 33,
   "id": "c7ad9e8d",
   "metadata": {
    "execution": {
     "iopub.execute_input": "2022-10-04T07:05:40.575046Z",
     "iopub.status.busy": "2022-10-04T07:05:40.574638Z",
     "iopub.status.idle": "2022-10-04T07:05:40.582442Z",
     "shell.execute_reply": "2022-10-04T07:05:40.580755Z"
    },
    "papermill": {
     "duration": 0.034245,
     "end_time": "2022-10-04T07:05:40.585961",
     "exception": false,
     "start_time": "2022-10-04T07:05:40.551716",
     "status": "completed"
    },
    "tags": []
   },
   "outputs": [],
   "source": [
    "mask=a['Job_Role']=='Senior Data Scientist'"
   ]
  },
  {
   "cell_type": "code",
   "execution_count": 34,
   "id": "12bf2e3f",
   "metadata": {
    "execution": {
     "iopub.execute_input": "2022-10-04T07:05:40.635946Z",
     "iopub.status.busy": "2022-10-04T07:05:40.635192Z",
     "iopub.status.idle": "2022-10-04T07:05:40.650990Z",
     "shell.execute_reply": "2022-10-04T07:05:40.649921Z"
    },
    "papermill": {
     "duration": 0.043832,
     "end_time": "2022-10-04T07:05:40.653301",
     "exception": false,
     "start_time": "2022-10-04T07:05:40.609469",
     "status": "completed"
    },
    "tags": []
   },
   "outputs": [
    {
     "data": {
      "text/html": [
       "<div>\n",
       "<style scoped>\n",
       "    .dataframe tbody tr th:only-of-type {\n",
       "        vertical-align: middle;\n",
       "    }\n",
       "\n",
       "    .dataframe tbody tr th {\n",
       "        vertical-align: top;\n",
       "    }\n",
       "\n",
       "    .dataframe thead th {\n",
       "        text-align: right;\n",
       "    }\n",
       "</style>\n",
       "<table border=\"1\" class=\"dataframe\">\n",
       "  <thead>\n",
       "    <tr style=\"text-align: right;\">\n",
       "      <th></th>\n",
       "      <th>Job_Role</th>\n",
       "      <th>Company</th>\n",
       "      <th>Location</th>\n",
       "      <th>Job Experience</th>\n",
       "      <th>Skills/Description</th>\n",
       "    </tr>\n",
       "  </thead>\n",
       "  <tbody>\n",
       "    <tr>\n",
       "      <th>0</th>\n",
       "      <td>Senior Data Scientist</td>\n",
       "      <td>UPL</td>\n",
       "      <td>Bangalore/Bengaluru, Mumbai (All Areas)</td>\n",
       "      <td>3-6</td>\n",
       "      <td>python, MLT, statistical modeling, machine lea...</td>\n",
       "    </tr>\n",
       "    <tr>\n",
       "      <th>1</th>\n",
       "      <td>Senior Data Scientist</td>\n",
       "      <td>Walmart</td>\n",
       "      <td>Bangalore/Bengaluru</td>\n",
       "      <td>5-9</td>\n",
       "      <td>Data Science, Machine learning, Python, Azure,...</td>\n",
       "    </tr>\n",
       "    <tr>\n",
       "      <th>13</th>\n",
       "      <td>Senior Data Scientist</td>\n",
       "      <td>Northface Consultancy Services Private Limited</td>\n",
       "      <td>Bangalore/Bengaluru(Whitefield)</td>\n",
       "      <td>3-6</td>\n",
       "      <td>database knowledge, R, Statistical Programming...</td>\n",
       "    </tr>\n",
       "    <tr>\n",
       "      <th>14</th>\n",
       "      <td>Senior Data Scientist</td>\n",
       "      <td>referral</td>\n",
       "      <td>Bangalore/Bengaluru</td>\n",
       "      <td>2-4</td>\n",
       "      <td>Computer science, Computer vision, Operations ...</td>\n",
       "    </tr>\n",
       "    <tr>\n",
       "      <th>23</th>\n",
       "      <td>Senior Data Scientist</td>\n",
       "      <td>Revnomix Solutions LLP</td>\n",
       "      <td>Mumbai, Pune, Mumbai (All Areas)</td>\n",
       "      <td>5-8</td>\n",
       "      <td>python, django, java, MySQL, IT Skills, Data S...</td>\n",
       "    </tr>\n",
       "    <tr>\n",
       "      <th>...</th>\n",
       "      <td>...</td>\n",
       "      <td>...</td>\n",
       "      <td>...</td>\n",
       "      <td>...</td>\n",
       "      <td>...</td>\n",
       "    </tr>\n",
       "    <tr>\n",
       "      <th>765</th>\n",
       "      <td>Senior Data Scientist</td>\n",
       "      <td>Idexcel Technologies Private Limited</td>\n",
       "      <td>Bangalore/Bengaluru</td>\n",
       "      <td>4-8</td>\n",
       "      <td>python, nlp, Artificial Intelligence, computer...</td>\n",
       "    </tr>\n",
       "    <tr>\n",
       "      <th>768</th>\n",
       "      <td>Senior Data Scientist</td>\n",
       "      <td>Pitney Bowes India Pvt Ltd</td>\n",
       "      <td>Noida</td>\n",
       "      <td>6-10</td>\n",
       "      <td>Quest</td>\n",
       "    </tr>\n",
       "    <tr>\n",
       "      <th>842</th>\n",
       "      <td>Senior Data Scientist</td>\n",
       "      <td>Nanobi Data And Analytics Pvt Ltd</td>\n",
       "      <td>Bengaluru</td>\n",
       "      <td>2-5</td>\n",
       "      <td>Senior Data Scientist</td>\n",
       "    </tr>\n",
       "    <tr>\n",
       "      <th>1073</th>\n",
       "      <td>Senior Data Scientist</td>\n",
       "      <td>Bigshyft Hiring for Zupee</td>\n",
       "      <td>Gurgaon/Gurugram</td>\n",
       "      <td>4-8</td>\n",
       "      <td>Data Science, Neural Networks, Machine Learnin...</td>\n",
       "    </tr>\n",
       "    <tr>\n",
       "      <th>1320</th>\n",
       "      <td>Senior Data Scientist</td>\n",
       "      <td>Sysvine Technologies</td>\n",
       "      <td>Remote</td>\n",
       "      <td>4-9</td>\n",
       "      <td>Data Science, Machine Learning, Python, statis...</td>\n",
       "    </tr>\n",
       "  </tbody>\n",
       "</table>\n",
       "<p>97 rows × 5 columns</p>\n",
       "</div>"
      ],
      "text/plain": [
       "                   Job_Role                                         Company  \\\n",
       "0     Senior Data Scientist                                             UPL   \n",
       "1     Senior Data Scientist                                         Walmart   \n",
       "13    Senior Data Scientist  Northface Consultancy Services Private Limited   \n",
       "14    Senior Data Scientist                                        referral   \n",
       "23    Senior Data Scientist                          Revnomix Solutions LLP   \n",
       "...                     ...                                             ...   \n",
       "765   Senior Data Scientist            Idexcel Technologies Private Limited   \n",
       "768   Senior Data Scientist                      Pitney Bowes India Pvt Ltd   \n",
       "842   Senior Data Scientist               Nanobi Data And Analytics Pvt Ltd   \n",
       "1073  Senior Data Scientist                       Bigshyft Hiring for Zupee   \n",
       "1320  Senior Data Scientist                            Sysvine Technologies   \n",
       "\n",
       "                                     Location Job Experience  \\\n",
       "0     Bangalore/Bengaluru, Mumbai (All Areas)            3-6   \n",
       "1                         Bangalore/Bengaluru            5-9   \n",
       "13            Bangalore/Bengaluru(Whitefield)            3-6   \n",
       "14                        Bangalore/Bengaluru            2-4   \n",
       "23           Mumbai, Pune, Mumbai (All Areas)            5-8   \n",
       "...                                       ...            ...   \n",
       "765                       Bangalore/Bengaluru            4-8   \n",
       "768                                     Noida           6-10   \n",
       "842                                 Bengaluru            2-5   \n",
       "1073                         Gurgaon/Gurugram            4-8   \n",
       "1320                                   Remote            4-9   \n",
       "\n",
       "                                     Skills/Description  \n",
       "0     python, MLT, statistical modeling, machine lea...  \n",
       "1     Data Science, Machine learning, Python, Azure,...  \n",
       "13    database knowledge, R, Statistical Programming...  \n",
       "14    Computer science, Computer vision, Operations ...  \n",
       "23    python, django, java, MySQL, IT Skills, Data S...  \n",
       "...                                                 ...  \n",
       "765   python, nlp, Artificial Intelligence, computer...  \n",
       "768                                               Quest  \n",
       "842                               Senior Data Scientist  \n",
       "1073  Data Science, Neural Networks, Machine Learnin...  \n",
       "1320  Data Science, Machine Learning, Python, statis...  \n",
       "\n",
       "[97 rows x 5 columns]"
      ]
     },
     "execution_count": 34,
     "metadata": {},
     "output_type": "execute_result"
    }
   ],
   "source": [
    "a[mask]"
   ]
  },
  {
   "cell_type": "markdown",
   "id": "d21eb0a4",
   "metadata": {
    "papermill": {
     "duration": 0.02309,
     "end_time": "2022-10-04T07:05:40.698495",
     "exception": false,
     "start_time": "2022-10-04T07:05:40.675405",
     "status": "completed"
    },
    "tags": []
   },
   "source": [
    "**where method**"
   ]
  },
  {
   "cell_type": "code",
   "execution_count": 35,
   "id": "a13005fd",
   "metadata": {
    "execution": {
     "iopub.execute_input": "2022-10-04T07:05:40.746107Z",
     "iopub.status.busy": "2022-10-04T07:05:40.745195Z",
     "iopub.status.idle": "2022-10-04T07:05:40.763618Z",
     "shell.execute_reply": "2022-10-04T07:05:40.762548Z"
    },
    "papermill": {
     "duration": 0.04419,
     "end_time": "2022-10-04T07:05:40.765963",
     "exception": false,
     "start_time": "2022-10-04T07:05:40.721773",
     "status": "completed"
    },
    "tags": []
   },
   "outputs": [
    {
     "data": {
      "text/html": [
       "<div>\n",
       "<style scoped>\n",
       "    .dataframe tbody tr th:only-of-type {\n",
       "        vertical-align: middle;\n",
       "    }\n",
       "\n",
       "    .dataframe tbody tr th {\n",
       "        vertical-align: top;\n",
       "    }\n",
       "\n",
       "    .dataframe thead th {\n",
       "        text-align: right;\n",
       "    }\n",
       "</style>\n",
       "<table border=\"1\" class=\"dataframe\">\n",
       "  <thead>\n",
       "    <tr style=\"text-align: right;\">\n",
       "      <th></th>\n",
       "      <th>Job_Role</th>\n",
       "      <th>Company</th>\n",
       "      <th>Location</th>\n",
       "      <th>Job Experience</th>\n",
       "      <th>Skills/Description</th>\n",
       "    </tr>\n",
       "  </thead>\n",
       "  <tbody>\n",
       "    <tr>\n",
       "      <th>0</th>\n",
       "      <td>Senior Data Scientist</td>\n",
       "      <td>UPL</td>\n",
       "      <td>Bangalore/Bengaluru, Mumbai (All Areas)</td>\n",
       "      <td>3-6</td>\n",
       "      <td>python, MLT, statistical modeling, machine lea...</td>\n",
       "    </tr>\n",
       "    <tr>\n",
       "      <th>1</th>\n",
       "      <td>Senior Data Scientist</td>\n",
       "      <td>Walmart</td>\n",
       "      <td>Bangalore/Bengaluru</td>\n",
       "      <td>5-9</td>\n",
       "      <td>Data Science, Machine learning, Python, Azure,...</td>\n",
       "    </tr>\n",
       "    <tr>\n",
       "      <th>2</th>\n",
       "      <td>NaN</td>\n",
       "      <td>NaN</td>\n",
       "      <td>NaN</td>\n",
       "      <td>NaN</td>\n",
       "      <td>NaN</td>\n",
       "    </tr>\n",
       "    <tr>\n",
       "      <th>3</th>\n",
       "      <td>NaN</td>\n",
       "      <td>NaN</td>\n",
       "      <td>NaN</td>\n",
       "      <td>NaN</td>\n",
       "      <td>NaN</td>\n",
       "    </tr>\n",
       "    <tr>\n",
       "      <th>4</th>\n",
       "      <td>NaN</td>\n",
       "      <td>NaN</td>\n",
       "      <td>NaN</td>\n",
       "      <td>NaN</td>\n",
       "      <td>NaN</td>\n",
       "    </tr>\n",
       "    <tr>\n",
       "      <th>...</th>\n",
       "      <td>...</td>\n",
       "      <td>...</td>\n",
       "      <td>...</td>\n",
       "      <td>...</td>\n",
       "      <td>...</td>\n",
       "    </tr>\n",
       "    <tr>\n",
       "      <th>11995</th>\n",
       "      <td>NaN</td>\n",
       "      <td>NaN</td>\n",
       "      <td>NaN</td>\n",
       "      <td>NaN</td>\n",
       "      <td>NaN</td>\n",
       "    </tr>\n",
       "    <tr>\n",
       "      <th>11996</th>\n",
       "      <td>NaN</td>\n",
       "      <td>NaN</td>\n",
       "      <td>NaN</td>\n",
       "      <td>NaN</td>\n",
       "      <td>NaN</td>\n",
       "    </tr>\n",
       "    <tr>\n",
       "      <th>11997</th>\n",
       "      <td>NaN</td>\n",
       "      <td>NaN</td>\n",
       "      <td>NaN</td>\n",
       "      <td>NaN</td>\n",
       "      <td>NaN</td>\n",
       "    </tr>\n",
       "    <tr>\n",
       "      <th>11998</th>\n",
       "      <td>NaN</td>\n",
       "      <td>NaN</td>\n",
       "      <td>NaN</td>\n",
       "      <td>NaN</td>\n",
       "      <td>NaN</td>\n",
       "    </tr>\n",
       "    <tr>\n",
       "      <th>11999</th>\n",
       "      <td>NaN</td>\n",
       "      <td>NaN</td>\n",
       "      <td>NaN</td>\n",
       "      <td>NaN</td>\n",
       "      <td>NaN</td>\n",
       "    </tr>\n",
       "  </tbody>\n",
       "</table>\n",
       "<p>12000 rows × 5 columns</p>\n",
       "</div>"
      ],
      "text/plain": [
       "                    Job_Role  Company  \\\n",
       "0      Senior Data Scientist      UPL   \n",
       "1      Senior Data Scientist  Walmart   \n",
       "2                        NaN      NaN   \n",
       "3                        NaN      NaN   \n",
       "4                        NaN      NaN   \n",
       "...                      ...      ...   \n",
       "11995                    NaN      NaN   \n",
       "11996                    NaN      NaN   \n",
       "11997                    NaN      NaN   \n",
       "11998                    NaN      NaN   \n",
       "11999                    NaN      NaN   \n",
       "\n",
       "                                      Location Job Experience  \\\n",
       "0      Bangalore/Bengaluru, Mumbai (All Areas)            3-6   \n",
       "1                          Bangalore/Bengaluru            5-9   \n",
       "2                                          NaN            NaN   \n",
       "3                                          NaN            NaN   \n",
       "4                                          NaN            NaN   \n",
       "...                                        ...            ...   \n",
       "11995                                      NaN            NaN   \n",
       "11996                                      NaN            NaN   \n",
       "11997                                      NaN            NaN   \n",
       "11998                                      NaN            NaN   \n",
       "11999                                      NaN            NaN   \n",
       "\n",
       "                                      Skills/Description  \n",
       "0      python, MLT, statistical modeling, machine lea...  \n",
       "1      Data Science, Machine learning, Python, Azure,...  \n",
       "2                                                    NaN  \n",
       "3                                                    NaN  \n",
       "4                                                    NaN  \n",
       "...                                                  ...  \n",
       "11995                                                NaN  \n",
       "11996                                                NaN  \n",
       "11997                                                NaN  \n",
       "11998                                                NaN  \n",
       "11999                                                NaN  \n",
       "\n",
       "[12000 rows x 5 columns]"
      ]
     },
     "execution_count": 35,
     "metadata": {},
     "output_type": "execute_result"
    }
   ],
   "source": [
    "a.where(mask)"
   ]
  },
  {
   "cell_type": "markdown",
   "id": "cbc9f778",
   "metadata": {
    "papermill": {
     "duration": 0.022358,
     "end_time": "2022-10-04T07:05:40.810989",
     "exception": false,
     "start_time": "2022-10-04T07:05:40.788631",
     "status": "completed"
    },
    "tags": []
   },
   "source": [
    "**NAN values**"
   ]
  },
  {
   "cell_type": "code",
   "execution_count": 36,
   "id": "09bc8327",
   "metadata": {
    "execution": {
     "iopub.execute_input": "2022-10-04T07:05:40.858369Z",
     "iopub.status.busy": "2022-10-04T07:05:40.857484Z",
     "iopub.status.idle": "2022-10-04T07:05:40.862187Z",
     "shell.execute_reply": "2022-10-04T07:05:40.861294Z"
    },
    "papermill": {
     "duration": 0.030405,
     "end_time": "2022-10-04T07:05:40.864123",
     "exception": false,
     "start_time": "2022-10-04T07:05:40.833718",
     "status": "completed"
    },
    "tags": []
   },
   "outputs": [],
   "source": [
    "import numpy as np"
   ]
  },
  {
   "cell_type": "code",
   "execution_count": 37,
   "id": "9f611386",
   "metadata": {
    "execution": {
     "iopub.execute_input": "2022-10-04T07:05:40.911790Z",
     "iopub.status.busy": "2022-10-04T07:05:40.910776Z",
     "iopub.status.idle": "2022-10-04T07:05:40.917212Z",
     "shell.execute_reply": "2022-10-04T07:05:40.916412Z"
    },
    "papermill": {
     "duration": 0.032354,
     "end_time": "2022-10-04T07:05:40.919273",
     "exception": false,
     "start_time": "2022-10-04T07:05:40.886919",
     "status": "completed"
    },
    "tags": []
   },
   "outputs": [],
   "source": [
    "a=pd.DataFrame(np.random.randint(10,100,(4,4)),index=['Anitha','Vanitha','Ramya','Aji'],columns=['T1','T2','T3','T4'])"
   ]
  },
  {
   "cell_type": "code",
   "execution_count": 38,
   "id": "a48e9703",
   "metadata": {
    "execution": {
     "iopub.execute_input": "2022-10-04T07:05:40.966819Z",
     "iopub.status.busy": "2022-10-04T07:05:40.966172Z",
     "iopub.status.idle": "2022-10-04T07:05:40.976445Z",
     "shell.execute_reply": "2022-10-04T07:05:40.975365Z"
    },
    "papermill": {
     "duration": 0.036581,
     "end_time": "2022-10-04T07:05:40.978577",
     "exception": false,
     "start_time": "2022-10-04T07:05:40.941996",
     "status": "completed"
    },
    "tags": []
   },
   "outputs": [
    {
     "data": {
      "text/html": [
       "<div>\n",
       "<style scoped>\n",
       "    .dataframe tbody tr th:only-of-type {\n",
       "        vertical-align: middle;\n",
       "    }\n",
       "\n",
       "    .dataframe tbody tr th {\n",
       "        vertical-align: top;\n",
       "    }\n",
       "\n",
       "    .dataframe thead th {\n",
       "        text-align: right;\n",
       "    }\n",
       "</style>\n",
       "<table border=\"1\" class=\"dataframe\">\n",
       "  <thead>\n",
       "    <tr style=\"text-align: right;\">\n",
       "      <th></th>\n",
       "      <th>T1</th>\n",
       "      <th>T2</th>\n",
       "      <th>T3</th>\n",
       "      <th>T4</th>\n",
       "    </tr>\n",
       "  </thead>\n",
       "  <tbody>\n",
       "    <tr>\n",
       "      <th>Anitha</th>\n",
       "      <td>64</td>\n",
       "      <td>54</td>\n",
       "      <td>64</td>\n",
       "      <td>51</td>\n",
       "    </tr>\n",
       "    <tr>\n",
       "      <th>Vanitha</th>\n",
       "      <td>77</td>\n",
       "      <td>38</td>\n",
       "      <td>33</td>\n",
       "      <td>61</td>\n",
       "    </tr>\n",
       "    <tr>\n",
       "      <th>Ramya</th>\n",
       "      <td>28</td>\n",
       "      <td>86</td>\n",
       "      <td>24</td>\n",
       "      <td>30</td>\n",
       "    </tr>\n",
       "    <tr>\n",
       "      <th>Aji</th>\n",
       "      <td>76</td>\n",
       "      <td>55</td>\n",
       "      <td>55</td>\n",
       "      <td>34</td>\n",
       "    </tr>\n",
       "  </tbody>\n",
       "</table>\n",
       "</div>"
      ],
      "text/plain": [
       "         T1  T2  T3  T4\n",
       "Anitha   64  54  64  51\n",
       "Vanitha  77  38  33  61\n",
       "Ramya    28  86  24  30\n",
       "Aji      76  55  55  34"
      ]
     },
     "execution_count": 38,
     "metadata": {},
     "output_type": "execute_result"
    }
   ],
   "source": [
    "a"
   ]
  },
  {
   "cell_type": "code",
   "execution_count": 39,
   "id": "3b76f450",
   "metadata": {
    "execution": {
     "iopub.execute_input": "2022-10-04T07:05:41.026641Z",
     "iopub.status.busy": "2022-10-04T07:05:41.025978Z",
     "iopub.status.idle": "2022-10-04T07:05:41.032522Z",
     "shell.execute_reply": "2022-10-04T07:05:41.031558Z"
    },
    "papermill": {
     "duration": 0.033138,
     "end_time": "2022-10-04T07:05:41.034593",
     "exception": false,
     "start_time": "2022-10-04T07:05:41.001455",
     "status": "completed"
    },
    "tags": []
   },
   "outputs": [],
   "source": [
    "a.where(a<80,'A',inplace=True)"
   ]
  },
  {
   "cell_type": "code",
   "execution_count": 40,
   "id": "9499c6c7",
   "metadata": {
    "execution": {
     "iopub.execute_input": "2022-10-04T07:05:41.093100Z",
     "iopub.status.busy": "2022-10-04T07:05:41.092410Z",
     "iopub.status.idle": "2022-10-04T07:05:41.103235Z",
     "shell.execute_reply": "2022-10-04T07:05:41.102171Z"
    },
    "papermill": {
     "duration": 0.043222,
     "end_time": "2022-10-04T07:05:41.105369",
     "exception": false,
     "start_time": "2022-10-04T07:05:41.062147",
     "status": "completed"
    },
    "tags": []
   },
   "outputs": [
    {
     "data": {
      "text/html": [
       "<div>\n",
       "<style scoped>\n",
       "    .dataframe tbody tr th:only-of-type {\n",
       "        vertical-align: middle;\n",
       "    }\n",
       "\n",
       "    .dataframe tbody tr th {\n",
       "        vertical-align: top;\n",
       "    }\n",
       "\n",
       "    .dataframe thead th {\n",
       "        text-align: right;\n",
       "    }\n",
       "</style>\n",
       "<table border=\"1\" class=\"dataframe\">\n",
       "  <thead>\n",
       "    <tr style=\"text-align: right;\">\n",
       "      <th></th>\n",
       "      <th>T1</th>\n",
       "      <th>T2</th>\n",
       "      <th>T3</th>\n",
       "      <th>T4</th>\n",
       "    </tr>\n",
       "  </thead>\n",
       "  <tbody>\n",
       "    <tr>\n",
       "      <th>Anitha</th>\n",
       "      <td>64</td>\n",
       "      <td>54</td>\n",
       "      <td>64</td>\n",
       "      <td>51</td>\n",
       "    </tr>\n",
       "    <tr>\n",
       "      <th>Vanitha</th>\n",
       "      <td>77</td>\n",
       "      <td>38</td>\n",
       "      <td>33</td>\n",
       "      <td>61</td>\n",
       "    </tr>\n",
       "    <tr>\n",
       "      <th>Ramya</th>\n",
       "      <td>28</td>\n",
       "      <td>A</td>\n",
       "      <td>24</td>\n",
       "      <td>30</td>\n",
       "    </tr>\n",
       "    <tr>\n",
       "      <th>Aji</th>\n",
       "      <td>76</td>\n",
       "      <td>55</td>\n",
       "      <td>55</td>\n",
       "      <td>34</td>\n",
       "    </tr>\n",
       "  </tbody>\n",
       "</table>\n",
       "</div>"
      ],
      "text/plain": [
       "         T1  T2  T3  T4\n",
       "Anitha   64  54  64  51\n",
       "Vanitha  77  38  33  61\n",
       "Ramya    28   A  24  30\n",
       "Aji      76  55  55  34"
      ]
     },
     "execution_count": 40,
     "metadata": {},
     "output_type": "execute_result"
    }
   ],
   "source": [
    "a"
   ]
  },
  {
   "cell_type": "markdown",
   "id": "9aeb0ef0",
   "metadata": {
    "papermill": {
     "duration": 0.023583,
     "end_time": "2022-10-04T07:05:41.155603",
     "exception": false,
     "start_time": "2022-10-04T07:05:41.132020",
     "status": "completed"
    },
    "tags": []
   },
   "source": [
    "**using series**"
   ]
  },
  {
   "cell_type": "code",
   "execution_count": 41,
   "id": "f7d68342",
   "metadata": {
    "execution": {
     "iopub.execute_input": "2022-10-04T07:05:41.206128Z",
     "iopub.status.busy": "2022-10-04T07:05:41.205412Z",
     "iopub.status.idle": "2022-10-04T07:05:41.211464Z",
     "shell.execute_reply": "2022-10-04T07:05:41.210247Z"
    },
    "papermill": {
     "duration": 0.03538,
     "end_time": "2022-10-04T07:05:41.213708",
     "exception": false,
     "start_time": "2022-10-04T07:05:41.178328",
     "status": "completed"
    },
    "tags": []
   },
   "outputs": [],
   "source": [
    "n=a['T1']<75"
   ]
  },
  {
   "cell_type": "code",
   "execution_count": 42,
   "id": "89b3fa71",
   "metadata": {
    "execution": {
     "iopub.execute_input": "2022-10-04T07:05:41.266209Z",
     "iopub.status.busy": "2022-10-04T07:05:41.265101Z",
     "iopub.status.idle": "2022-10-04T07:05:41.279368Z",
     "shell.execute_reply": "2022-10-04T07:05:41.278574Z"
    },
    "papermill": {
     "duration": 0.042647,
     "end_time": "2022-10-04T07:05:41.281352",
     "exception": false,
     "start_time": "2022-10-04T07:05:41.238705",
     "status": "completed"
    },
    "tags": []
   },
   "outputs": [
    {
     "data": {
      "text/html": [
       "<div>\n",
       "<style scoped>\n",
       "    .dataframe tbody tr th:only-of-type {\n",
       "        vertical-align: middle;\n",
       "    }\n",
       "\n",
       "    .dataframe tbody tr th {\n",
       "        vertical-align: top;\n",
       "    }\n",
       "\n",
       "    .dataframe thead th {\n",
       "        text-align: right;\n",
       "    }\n",
       "</style>\n",
       "<table border=\"1\" class=\"dataframe\">\n",
       "  <thead>\n",
       "    <tr style=\"text-align: right;\">\n",
       "      <th></th>\n",
       "      <th>T1</th>\n",
       "      <th>T2</th>\n",
       "      <th>T3</th>\n",
       "      <th>T4</th>\n",
       "    </tr>\n",
       "  </thead>\n",
       "  <tbody>\n",
       "    <tr>\n",
       "      <th>Anitha</th>\n",
       "      <td>64</td>\n",
       "      <td>54</td>\n",
       "      <td>64</td>\n",
       "      <td>51</td>\n",
       "    </tr>\n",
       "    <tr>\n",
       "      <th>Vanitha</th>\n",
       "      <td>B</td>\n",
       "      <td>B</td>\n",
       "      <td>B</td>\n",
       "      <td>B</td>\n",
       "    </tr>\n",
       "    <tr>\n",
       "      <th>Ramya</th>\n",
       "      <td>28</td>\n",
       "      <td>A</td>\n",
       "      <td>24</td>\n",
       "      <td>30</td>\n",
       "    </tr>\n",
       "    <tr>\n",
       "      <th>Aji</th>\n",
       "      <td>B</td>\n",
       "      <td>B</td>\n",
       "      <td>B</td>\n",
       "      <td>B</td>\n",
       "    </tr>\n",
       "  </tbody>\n",
       "</table>\n",
       "</div>"
      ],
      "text/plain": [
       "         T1  T2  T3  T4\n",
       "Anitha   64  54  64  51\n",
       "Vanitha   B   B   B   B\n",
       "Ramya    28   A  24  30\n",
       "Aji       B   B   B   B"
      ]
     },
     "execution_count": 42,
     "metadata": {},
     "output_type": "execute_result"
    }
   ],
   "source": [
    "a.where(n,'B')"
   ]
  },
  {
   "cell_type": "code",
   "execution_count": 43,
   "id": "b9253ed4",
   "metadata": {
    "execution": {
     "iopub.execute_input": "2022-10-04T07:05:41.330055Z",
     "iopub.status.busy": "2022-10-04T07:05:41.328952Z",
     "iopub.status.idle": "2022-10-04T07:05:41.333816Z",
     "shell.execute_reply": "2022-10-04T07:05:41.332895Z"
    },
    "papermill": {
     "duration": 0.031536,
     "end_time": "2022-10-04T07:05:41.336037",
     "exception": false,
     "start_time": "2022-10-04T07:05:41.304501",
     "status": "completed"
    },
    "tags": []
   },
   "outputs": [],
   "source": [
    "c=lambda x:x<80"
   ]
  },
  {
   "cell_type": "code",
   "execution_count": 44,
   "id": "9c5b8a37",
   "metadata": {
    "execution": {
     "iopub.execute_input": "2022-10-04T07:05:41.385631Z",
     "iopub.status.busy": "2022-10-04T07:05:41.385241Z",
     "iopub.status.idle": "2022-10-04T07:05:41.391197Z",
     "shell.execute_reply": "2022-10-04T07:05:41.390200Z"
    },
    "papermill": {
     "duration": 0.032975,
     "end_time": "2022-10-04T07:05:41.393205",
     "exception": false,
     "start_time": "2022-10-04T07:05:41.360230",
     "status": "completed"
    },
    "tags": []
   },
   "outputs": [],
   "source": [
    "a=pd.DataFrame(np.random.randint(10,100,(4,4)),index=['Anitha','Vanitha','Ramya','Aji'],columns=['T1','T2','T3','T4'])"
   ]
  },
  {
   "cell_type": "code",
   "execution_count": 45,
   "id": "de93fdfd",
   "metadata": {
    "execution": {
     "iopub.execute_input": "2022-10-04T07:05:41.441862Z",
     "iopub.status.busy": "2022-10-04T07:05:41.441229Z",
     "iopub.status.idle": "2022-10-04T07:05:41.451155Z",
     "shell.execute_reply": "2022-10-04T07:05:41.450238Z"
    },
    "papermill": {
     "duration": 0.036523,
     "end_time": "2022-10-04T07:05:41.453149",
     "exception": false,
     "start_time": "2022-10-04T07:05:41.416626",
     "status": "completed"
    },
    "tags": []
   },
   "outputs": [
    {
     "data": {
      "text/html": [
       "<div>\n",
       "<style scoped>\n",
       "    .dataframe tbody tr th:only-of-type {\n",
       "        vertical-align: middle;\n",
       "    }\n",
       "\n",
       "    .dataframe tbody tr th {\n",
       "        vertical-align: top;\n",
       "    }\n",
       "\n",
       "    .dataframe thead th {\n",
       "        text-align: right;\n",
       "    }\n",
       "</style>\n",
       "<table border=\"1\" class=\"dataframe\">\n",
       "  <thead>\n",
       "    <tr style=\"text-align: right;\">\n",
       "      <th></th>\n",
       "      <th>T1</th>\n",
       "      <th>T2</th>\n",
       "      <th>T3</th>\n",
       "      <th>T4</th>\n",
       "    </tr>\n",
       "  </thead>\n",
       "  <tbody>\n",
       "    <tr>\n",
       "      <th>Anitha</th>\n",
       "      <td>True</td>\n",
       "      <td>True</td>\n",
       "      <td>True</td>\n",
       "      <td>True</td>\n",
       "    </tr>\n",
       "    <tr>\n",
       "      <th>Vanitha</th>\n",
       "      <td>True</td>\n",
       "      <td>False</td>\n",
       "      <td>True</td>\n",
       "      <td>True</td>\n",
       "    </tr>\n",
       "    <tr>\n",
       "      <th>Ramya</th>\n",
       "      <td>True</td>\n",
       "      <td>False</td>\n",
       "      <td>True</td>\n",
       "      <td>True</td>\n",
       "    </tr>\n",
       "    <tr>\n",
       "      <th>Aji</th>\n",
       "      <td>True</td>\n",
       "      <td>True</td>\n",
       "      <td>False</td>\n",
       "      <td>True</td>\n",
       "    </tr>\n",
       "  </tbody>\n",
       "</table>\n",
       "</div>"
      ],
      "text/plain": [
       "           T1     T2     T3    T4\n",
       "Anitha   True   True   True  True\n",
       "Vanitha  True  False   True  True\n",
       "Ramya    True  False   True  True\n",
       "Aji      True   True  False  True"
      ]
     },
     "execution_count": 45,
     "metadata": {},
     "output_type": "execute_result"
    }
   ],
   "source": [
    "c(a)"
   ]
  },
  {
   "cell_type": "code",
   "execution_count": 46,
   "id": "23067960",
   "metadata": {
    "execution": {
     "iopub.execute_input": "2022-10-04T07:05:41.502943Z",
     "iopub.status.busy": "2022-10-04T07:05:41.502296Z",
     "iopub.status.idle": "2022-10-04T07:05:41.508536Z",
     "shell.execute_reply": "2022-10-04T07:05:41.507413Z"
    },
    "papermill": {
     "duration": 0.034228,
     "end_time": "2022-10-04T07:05:41.511061",
     "exception": false,
     "start_time": "2022-10-04T07:05:41.476833",
     "status": "completed"
    },
    "tags": []
   },
   "outputs": [],
   "source": [
    "a.where(lambda x:x<80,'A',inplace=True)"
   ]
  },
  {
   "cell_type": "code",
   "execution_count": 47,
   "id": "2f7eee6c",
   "metadata": {
    "execution": {
     "iopub.execute_input": "2022-10-04T07:05:41.559998Z",
     "iopub.status.busy": "2022-10-04T07:05:41.559576Z",
     "iopub.status.idle": "2022-10-04T07:05:41.570885Z",
     "shell.execute_reply": "2022-10-04T07:05:41.569872Z"
    },
    "papermill": {
     "duration": 0.038346,
     "end_time": "2022-10-04T07:05:41.573126",
     "exception": false,
     "start_time": "2022-10-04T07:05:41.534780",
     "status": "completed"
    },
    "tags": []
   },
   "outputs": [
    {
     "data": {
      "text/html": [
       "<div>\n",
       "<style scoped>\n",
       "    .dataframe tbody tr th:only-of-type {\n",
       "        vertical-align: middle;\n",
       "    }\n",
       "\n",
       "    .dataframe tbody tr th {\n",
       "        vertical-align: top;\n",
       "    }\n",
       "\n",
       "    .dataframe thead th {\n",
       "        text-align: right;\n",
       "    }\n",
       "</style>\n",
       "<table border=\"1\" class=\"dataframe\">\n",
       "  <thead>\n",
       "    <tr style=\"text-align: right;\">\n",
       "      <th></th>\n",
       "      <th>T1</th>\n",
       "      <th>T2</th>\n",
       "      <th>T3</th>\n",
       "      <th>T4</th>\n",
       "    </tr>\n",
       "  </thead>\n",
       "  <tbody>\n",
       "    <tr>\n",
       "      <th>Anitha</th>\n",
       "      <td>13</td>\n",
       "      <td>32</td>\n",
       "      <td>32</td>\n",
       "      <td>24</td>\n",
       "    </tr>\n",
       "    <tr>\n",
       "      <th>Vanitha</th>\n",
       "      <td>32</td>\n",
       "      <td>A</td>\n",
       "      <td>12</td>\n",
       "      <td>47</td>\n",
       "    </tr>\n",
       "    <tr>\n",
       "      <th>Ramya</th>\n",
       "      <td>11</td>\n",
       "      <td>A</td>\n",
       "      <td>63</td>\n",
       "      <td>59</td>\n",
       "    </tr>\n",
       "    <tr>\n",
       "      <th>Aji</th>\n",
       "      <td>78</td>\n",
       "      <td>29</td>\n",
       "      <td>A</td>\n",
       "      <td>68</td>\n",
       "    </tr>\n",
       "  </tbody>\n",
       "</table>\n",
       "</div>"
      ],
      "text/plain": [
       "         T1  T2  T3  T4\n",
       "Anitha   13  32  32  24\n",
       "Vanitha  32   A  12  47\n",
       "Ramya    11   A  63  59\n",
       "Aji      78  29   A  68"
      ]
     },
     "execution_count": 47,
     "metadata": {},
     "output_type": "execute_result"
    }
   ],
   "source": [
    "a"
   ]
  },
  {
   "cell_type": "markdown",
   "id": "66d85da2",
   "metadata": {
    "papermill": {
     "duration": 0.023565,
     "end_time": "2022-10-04T07:05:41.621569",
     "exception": false,
     "start_time": "2022-10-04T07:05:41.598004",
     "status": "completed"
    },
    "tags": []
   },
   "source": [
    "**HAVING DYNAMIC VALUE**"
   ]
  },
  {
   "cell_type": "code",
   "execution_count": 48,
   "id": "ccffcf7b",
   "metadata": {
    "execution": {
     "iopub.execute_input": "2022-10-04T07:05:41.671076Z",
     "iopub.status.busy": "2022-10-04T07:05:41.670689Z",
     "iopub.status.idle": "2022-10-04T07:05:41.675791Z",
     "shell.execute_reply": "2022-10-04T07:05:41.675068Z"
    },
    "papermill": {
     "duration": 0.032544,
     "end_time": "2022-10-04T07:05:41.677896",
     "exception": false,
     "start_time": "2022-10-04T07:05:41.645352",
     "status": "completed"
    },
    "tags": []
   },
   "outputs": [],
   "source": [
    "a=pd.DataFrame(np.random.randint(10,100,(4,4)),index=['Anitha','Vanitha','Ramya','Aji'],columns=['T1','T2','T3','T4'])"
   ]
  },
  {
   "cell_type": "code",
   "execution_count": 49,
   "id": "fa0117b5",
   "metadata": {
    "execution": {
     "iopub.execute_input": "2022-10-04T07:05:41.727814Z",
     "iopub.status.busy": "2022-10-04T07:05:41.727423Z",
     "iopub.status.idle": "2022-10-04T07:05:41.736637Z",
     "shell.execute_reply": "2022-10-04T07:05:41.735909Z"
    },
    "papermill": {
     "duration": 0.036106,
     "end_time": "2022-10-04T07:05:41.738554",
     "exception": false,
     "start_time": "2022-10-04T07:05:41.702448",
     "status": "completed"
    },
    "tags": []
   },
   "outputs": [
    {
     "data": {
      "text/html": [
       "<div>\n",
       "<style scoped>\n",
       "    .dataframe tbody tr th:only-of-type {\n",
       "        vertical-align: middle;\n",
       "    }\n",
       "\n",
       "    .dataframe tbody tr th {\n",
       "        vertical-align: top;\n",
       "    }\n",
       "\n",
       "    .dataframe thead th {\n",
       "        text-align: right;\n",
       "    }\n",
       "</style>\n",
       "<table border=\"1\" class=\"dataframe\">\n",
       "  <thead>\n",
       "    <tr style=\"text-align: right;\">\n",
       "      <th></th>\n",
       "      <th>T1</th>\n",
       "      <th>T2</th>\n",
       "      <th>T3</th>\n",
       "      <th>T4</th>\n",
       "    </tr>\n",
       "  </thead>\n",
       "  <tbody>\n",
       "    <tr>\n",
       "      <th>Anitha</th>\n",
       "      <td>40</td>\n",
       "      <td>14</td>\n",
       "      <td>77</td>\n",
       "      <td>33</td>\n",
       "    </tr>\n",
       "    <tr>\n",
       "      <th>Vanitha</th>\n",
       "      <td>16</td>\n",
       "      <td>45</td>\n",
       "      <td>14</td>\n",
       "      <td>20</td>\n",
       "    </tr>\n",
       "    <tr>\n",
       "      <th>Ramya</th>\n",
       "      <td>66</td>\n",
       "      <td>95</td>\n",
       "      <td>83</td>\n",
       "      <td>26</td>\n",
       "    </tr>\n",
       "    <tr>\n",
       "      <th>Aji</th>\n",
       "      <td>17</td>\n",
       "      <td>59</td>\n",
       "      <td>72</td>\n",
       "      <td>18</td>\n",
       "    </tr>\n",
       "  </tbody>\n",
       "</table>\n",
       "</div>"
      ],
      "text/plain": [
       "         T1  T2  T3  T4\n",
       "Anitha   40  14  77  33\n",
       "Vanitha  16  45  14  20\n",
       "Ramya    66  95  83  26\n",
       "Aji      17  59  72  18"
      ]
     },
     "execution_count": 49,
     "metadata": {},
     "output_type": "execute_result"
    }
   ],
   "source": [
    "a"
   ]
  },
  {
   "cell_type": "code",
   "execution_count": 50,
   "id": "8e6e7866",
   "metadata": {
    "execution": {
     "iopub.execute_input": "2022-10-04T07:05:41.788533Z",
     "iopub.status.busy": "2022-10-04T07:05:41.787903Z",
     "iopub.status.idle": "2022-10-04T07:05:41.799859Z",
     "shell.execute_reply": "2022-10-04T07:05:41.798770Z"
    },
    "papermill": {
     "duration": 0.039408,
     "end_time": "2022-10-04T07:05:41.802032",
     "exception": false,
     "start_time": "2022-10-04T07:05:41.762624",
     "status": "completed"
    },
    "tags": []
   },
   "outputs": [
    {
     "data": {
      "text/html": [
       "<div>\n",
       "<style scoped>\n",
       "    .dataframe tbody tr th:only-of-type {\n",
       "        vertical-align: middle;\n",
       "    }\n",
       "\n",
       "    .dataframe tbody tr th {\n",
       "        vertical-align: top;\n",
       "    }\n",
       "\n",
       "    .dataframe thead th {\n",
       "        text-align: right;\n",
       "    }\n",
       "</style>\n",
       "<table border=\"1\" class=\"dataframe\">\n",
       "  <thead>\n",
       "    <tr style=\"text-align: right;\">\n",
       "      <th></th>\n",
       "      <th>T1</th>\n",
       "      <th>T2</th>\n",
       "      <th>T3</th>\n",
       "      <th>T4</th>\n",
       "    </tr>\n",
       "  </thead>\n",
       "  <tbody>\n",
       "    <tr>\n",
       "      <th>Anitha</th>\n",
       "      <td>40</td>\n",
       "      <td>16</td>\n",
       "      <td>77</td>\n",
       "      <td>35</td>\n",
       "    </tr>\n",
       "    <tr>\n",
       "      <th>Vanitha</th>\n",
       "      <td>18</td>\n",
       "      <td>45</td>\n",
       "      <td>16</td>\n",
       "      <td>22</td>\n",
       "    </tr>\n",
       "    <tr>\n",
       "      <th>Ramya</th>\n",
       "      <td>66</td>\n",
       "      <td>95</td>\n",
       "      <td>83</td>\n",
       "      <td>28</td>\n",
       "    </tr>\n",
       "    <tr>\n",
       "      <th>Aji</th>\n",
       "      <td>19</td>\n",
       "      <td>59</td>\n",
       "      <td>72</td>\n",
       "      <td>20</td>\n",
       "    </tr>\n",
       "  </tbody>\n",
       "</table>\n",
       "</div>"
      ],
      "text/plain": [
       "         T1  T2  T3  T4\n",
       "Anitha   40  16  77  35\n",
       "Vanitha  18  45  16  22\n",
       "Ramya    66  95  83  28\n",
       "Aji      19  59  72  20"
      ]
     },
     "execution_count": 50,
     "metadata": {},
     "output_type": "execute_result"
    }
   ],
   "source": [
    "a.where(a>39,lambda x:x+2)"
   ]
  },
  {
   "cell_type": "markdown",
   "id": "8a1a7b09",
   "metadata": {
    "papermill": {
     "duration": 0.023997,
     "end_time": "2022-10-04T07:05:41.850586",
     "exception": false,
     "start_time": "2022-10-04T07:05:41.826589",
     "status": "completed"
    },
    "tags": []
   },
   "source": [
    "**QUERY METHOD**"
   ]
  },
  {
   "cell_type": "markdown",
   "id": "b1a0107a",
   "metadata": {
    "papermill": {
     "duration": 0.024201,
     "end_time": "2022-10-04T07:05:41.899114",
     "exception": false,
     "start_time": "2022-10-04T07:05:41.874913",
     "status": "completed"
    },
    "tags": []
   },
   "source": [
    "**Query the columns of a dataframe with boolean expressions**"
   ]
  },
  {
   "cell_type": "code",
   "execution_count": 51,
   "id": "56c70c7a",
   "metadata": {
    "execution": {
     "iopub.execute_input": "2022-10-04T07:05:41.949730Z",
     "iopub.status.busy": "2022-10-04T07:05:41.949334Z",
     "iopub.status.idle": "2022-10-04T07:05:41.988921Z",
     "shell.execute_reply": "2022-10-04T07:05:41.988001Z"
    },
    "papermill": {
     "duration": 0.067698,
     "end_time": "2022-10-04T07:05:41.991410",
     "exception": false,
     "start_time": "2022-10-04T07:05:41.923712",
     "status": "completed"
    },
    "tags": []
   },
   "outputs": [],
   "source": [
    "data=pd.read_csv('../input/data-science-jobs-in-india/naukri_data_science_jobs_india.csv')"
   ]
  },
  {
   "cell_type": "code",
   "execution_count": 52,
   "id": "e0838613",
   "metadata": {
    "execution": {
     "iopub.execute_input": "2022-10-04T07:05:42.042922Z",
     "iopub.status.busy": "2022-10-04T07:05:42.041795Z",
     "iopub.status.idle": "2022-10-04T07:05:42.062680Z",
     "shell.execute_reply": "2022-10-04T07:05:42.061617Z"
    },
    "papermill": {
     "duration": 0.048598,
     "end_time": "2022-10-04T07:05:42.064744",
     "exception": false,
     "start_time": "2022-10-04T07:05:42.016146",
     "status": "completed"
    },
    "tags": []
   },
   "outputs": [
    {
     "data": {
      "text/html": [
       "<div>\n",
       "<style scoped>\n",
       "    .dataframe tbody tr th:only-of-type {\n",
       "        vertical-align: middle;\n",
       "    }\n",
       "\n",
       "    .dataframe tbody tr th {\n",
       "        vertical-align: top;\n",
       "    }\n",
       "\n",
       "    .dataframe thead th {\n",
       "        text-align: right;\n",
       "    }\n",
       "</style>\n",
       "<table border=\"1\" class=\"dataframe\">\n",
       "  <thead>\n",
       "    <tr style=\"text-align: right;\">\n",
       "      <th></th>\n",
       "      <th>Job_Role</th>\n",
       "      <th>Company</th>\n",
       "      <th>Location</th>\n",
       "      <th>Job Experience</th>\n",
       "      <th>Skills/Description</th>\n",
       "    </tr>\n",
       "  </thead>\n",
       "  <tbody>\n",
       "    <tr>\n",
       "      <th>3</th>\n",
       "      <td>Data Scientist</td>\n",
       "      <td>UPL</td>\n",
       "      <td>Bangalore/Bengaluru, Mumbai (All Areas)</td>\n",
       "      <td>1-4</td>\n",
       "      <td>python, machine learning, Data Science, data a...</td>\n",
       "    </tr>\n",
       "    <tr>\n",
       "      <th>4</th>\n",
       "      <td>Data Scientist</td>\n",
       "      <td>Walmart</td>\n",
       "      <td>Bangalore/Bengaluru</td>\n",
       "      <td>4-8</td>\n",
       "      <td>IT Skills, Python, Data Science, Machine Learn...</td>\n",
       "    </tr>\n",
       "    <tr>\n",
       "      <th>6</th>\n",
       "      <td>Data Scientist</td>\n",
       "      <td>Walmart</td>\n",
       "      <td>Bangalore/Bengaluru</td>\n",
       "      <td>4-8</td>\n",
       "      <td>Computer science, cassandra, Machine learning,...</td>\n",
       "    </tr>\n",
       "    <tr>\n",
       "      <th>8</th>\n",
       "      <td>Data Scientist</td>\n",
       "      <td>Ericsson</td>\n",
       "      <td>Bangalore/Bengaluru</td>\n",
       "      <td>10-20</td>\n",
       "      <td>Graphics, Bidding, Google Analytics, Data mana...</td>\n",
       "    </tr>\n",
       "    <tr>\n",
       "      <th>30</th>\n",
       "      <td>Data Scientist</td>\n",
       "      <td>MNR Solutions Pvt. Ltd.</td>\n",
       "      <td>Pune, Bangalore/Bengaluru</td>\n",
       "      <td>5-10</td>\n",
       "      <td>Computer vision, PDF, data manipulation, Machi...</td>\n",
       "    </tr>\n",
       "    <tr>\n",
       "      <th>...</th>\n",
       "      <td>...</td>\n",
       "      <td>...</td>\n",
       "      <td>...</td>\n",
       "      <td>...</td>\n",
       "      <td>...</td>\n",
       "    </tr>\n",
       "    <tr>\n",
       "      <th>1383</th>\n",
       "      <td>Data Scientist</td>\n",
       "      <td>AGILITY HUMAN RESOURCE MANAGEMENT SERVICES PRI...</td>\n",
       "      <td>Delhi / NCR, Mumbai (All Areas)</td>\n",
       "      <td>4-9</td>\n",
       "      <td>neural network NLP, learning, Python, machine ...</td>\n",
       "    </tr>\n",
       "    <tr>\n",
       "      <th>1384</th>\n",
       "      <td>Data Scientist</td>\n",
       "      <td>Ideas2IT</td>\n",
       "      <td>Chennai</td>\n",
       "      <td>3-8</td>\n",
       "      <td>IT Skills, Java, Python, Software Development,...</td>\n",
       "    </tr>\n",
       "    <tr>\n",
       "      <th>1387</th>\n",
       "      <td>Data Scientist</td>\n",
       "      <td>AR Consultant</td>\n",
       "      <td>Pune, Bangalore/Bengaluru, Mumbai (All Areas)</td>\n",
       "      <td>5-8</td>\n",
       "      <td>Machine Learning, Natural language processing,...</td>\n",
       "    </tr>\n",
       "    <tr>\n",
       "      <th>1392</th>\n",
       "      <td>Data Scientist</td>\n",
       "      <td>Astha Baid</td>\n",
       "      <td>Hyderabad/Secunderabad</td>\n",
       "      <td>7-11</td>\n",
       "      <td>NLP, R, Java, Python, scikit, machine learning...</td>\n",
       "    </tr>\n",
       "    <tr>\n",
       "      <th>1393</th>\n",
       "      <td>Data Scientist</td>\n",
       "      <td>Fine Jobs</td>\n",
       "      <td>Gurgaon/Gurugram</td>\n",
       "      <td>6-11</td>\n",
       "      <td>Computer science, Database Architect, Executiv...</td>\n",
       "    </tr>\n",
       "  </tbody>\n",
       "</table>\n",
       "<p>505 rows × 5 columns</p>\n",
       "</div>"
      ],
      "text/plain": [
       "            Job_Role                                            Company  \\\n",
       "3     Data Scientist                                                UPL   \n",
       "4     Data Scientist                                            Walmart   \n",
       "6     Data Scientist                                            Walmart   \n",
       "8     Data Scientist                                           Ericsson   \n",
       "30    Data Scientist                            MNR Solutions Pvt. Ltd.   \n",
       "...              ...                                                ...   \n",
       "1383  Data Scientist  AGILITY HUMAN RESOURCE MANAGEMENT SERVICES PRI...   \n",
       "1384  Data Scientist                                           Ideas2IT   \n",
       "1387  Data Scientist                                      AR Consultant   \n",
       "1392  Data Scientist                                         Astha Baid   \n",
       "1393  Data Scientist                                          Fine Jobs   \n",
       "\n",
       "                                           Location Job Experience  \\\n",
       "3           Bangalore/Bengaluru, Mumbai (All Areas)            1-4   \n",
       "4                               Bangalore/Bengaluru            4-8   \n",
       "6                               Bangalore/Bengaluru            4-8   \n",
       "8                               Bangalore/Bengaluru          10-20   \n",
       "30                        Pune, Bangalore/Bengaluru           5-10   \n",
       "...                                             ...            ...   \n",
       "1383                Delhi / NCR, Mumbai (All Areas)            4-9   \n",
       "1384                                        Chennai            3-8   \n",
       "1387  Pune, Bangalore/Bengaluru, Mumbai (All Areas)            5-8   \n",
       "1392                         Hyderabad/Secunderabad           7-11   \n",
       "1393                               Gurgaon/Gurugram           6-11   \n",
       "\n",
       "                                     Skills/Description  \n",
       "3     python, machine learning, Data Science, data a...  \n",
       "4     IT Skills, Python, Data Science, Machine Learn...  \n",
       "6     Computer science, cassandra, Machine learning,...  \n",
       "8     Graphics, Bidding, Google Analytics, Data mana...  \n",
       "30    Computer vision, PDF, data manipulation, Machi...  \n",
       "...                                                 ...  \n",
       "1383  neural network NLP, learning, Python, machine ...  \n",
       "1384  IT Skills, Java, Python, Software Development,...  \n",
       "1387  Machine Learning, Natural language processing,...  \n",
       "1392  NLP, R, Java, Python, scikit, machine learning...  \n",
       "1393  Computer science, Database Architect, Executiv...  \n",
       "\n",
       "[505 rows x 5 columns]"
      ]
     },
     "execution_count": 52,
     "metadata": {},
     "output_type": "execute_result"
    }
   ],
   "source": [
    "data.query(\"Job_Role == 'Data Scientist'\")"
   ]
  },
  {
   "cell_type": "markdown",
   "id": "356104c4",
   "metadata": {
    "papermill": {
     "duration": 0.024418,
     "end_time": "2022-10-04T07:05:42.114907",
     "exception": false,
     "start_time": "2022-10-04T07:05:42.090489",
     "status": "completed"
    },
    "tags": []
   },
   "source": [
    "`` use them to use space between querys"
   ]
  },
  {
   "cell_type": "code",
   "execution_count": 53,
   "id": "e7c841c7",
   "metadata": {
    "execution": {
     "iopub.execute_input": "2022-10-04T07:05:42.167117Z",
     "iopub.status.busy": "2022-10-04T07:05:42.166437Z",
     "iopub.status.idle": "2022-10-04T07:05:42.183266Z",
     "shell.execute_reply": "2022-10-04T07:05:42.182144Z"
    },
    "papermill": {
     "duration": 0.04577,
     "end_time": "2022-10-04T07:05:42.185649",
     "exception": false,
     "start_time": "2022-10-04T07:05:42.139879",
     "status": "completed"
    },
    "tags": []
   },
   "outputs": [
    {
     "data": {
      "text/html": [
       "<div>\n",
       "<style scoped>\n",
       "    .dataframe tbody tr th:only-of-type {\n",
       "        vertical-align: middle;\n",
       "    }\n",
       "\n",
       "    .dataframe tbody tr th {\n",
       "        vertical-align: top;\n",
       "    }\n",
       "\n",
       "    .dataframe thead th {\n",
       "        text-align: right;\n",
       "    }\n",
       "</style>\n",
       "<table border=\"1\" class=\"dataframe\">\n",
       "  <thead>\n",
       "    <tr style=\"text-align: right;\">\n",
       "      <th></th>\n",
       "      <th>Job_Role</th>\n",
       "      <th>Company</th>\n",
       "      <th>Location</th>\n",
       "      <th>Job Experience</th>\n",
       "      <th>Skills/Description</th>\n",
       "    </tr>\n",
       "  </thead>\n",
       "  <tbody>\n",
       "    <tr>\n",
       "      <th>1585</th>\n",
       "      <td>Data Analyst-Internship</td>\n",
       "      <td>PerkinElmer, Inc.</td>\n",
       "      <td>Hyderabad</td>\n",
       "      <td>0-0</td>\n",
       "      <td>SAP, Business analytics, Data Analyst, Interns...</td>\n",
       "    </tr>\n",
       "    <tr>\n",
       "      <th>1777</th>\n",
       "      <td>Opening For Technical Data Engineer at Bangalore</td>\n",
       "      <td>Mouser Electronics</td>\n",
       "      <td>Bangalore/Bengaluru</td>\n",
       "      <td>0-0</td>\n",
       "      <td>Communication Skills, Electrical Engineering</td>\n",
       "    </tr>\n",
       "    <tr>\n",
       "      <th>1846</th>\n",
       "      <td>Data Business Analyst</td>\n",
       "      <td>Webhelp</td>\n",
       "      <td>Gurgaon/Gurugram, Gurgaon</td>\n",
       "      <td>0-0</td>\n",
       "      <td>Minimum 4 years experience as Data Business An...</td>\n",
       "    </tr>\n",
       "    <tr>\n",
       "      <th>1868</th>\n",
       "      <td>Associate Analyst, Data Processing</td>\n",
       "      <td>enVista</td>\n",
       "      <td>Hyderabad</td>\n",
       "      <td>0-0</td>\n",
       "      <td>Excel, Associate Analyst, Accounting, Data pro...</td>\n",
       "    </tr>\n",
       "    <tr>\n",
       "      <th>1961</th>\n",
       "      <td>Data Analyst - Fresher (Python , SQL &amp; BI Tools)</td>\n",
       "      <td>Indian Eagle Pvt. Ltd.</td>\n",
       "      <td>Hyderabad/Secunderabad</td>\n",
       "      <td>0-0</td>\n",
       "      <td>Python Data Analytics, Javascript, Tableau, ET...</td>\n",
       "    </tr>\n",
       "    <tr>\n",
       "      <th>3308</th>\n",
       "      <td>Azure Data Engineer</td>\n",
       "      <td>Wavelabs</td>\n",
       "      <td>Hyderabad/Secunderabad</td>\n",
       "      <td>0-0</td>\n",
       "      <td>Azure Data Factory, ADF, SQL Server, VNET, ADL...</td>\n",
       "    </tr>\n",
       "    <tr>\n",
       "      <th>5927</th>\n",
       "      <td>Junior Analyst (2022 Graduates) - Gamma</td>\n",
       "      <td>Boston Consulting Group</td>\n",
       "      <td>Gurgaon/Gurugram, Bangalore/Bengaluru, Delhi /...</td>\n",
       "      <td>0-0</td>\n",
       "      <td>python, vba, advanced excel, Analytics, sql, D...</td>\n",
       "    </tr>\n",
       "    <tr>\n",
       "      <th>6385</th>\n",
       "      <td>Trainee-freshers-Machine Learning &amp; Data Science</td>\n",
       "      <td>Aficionado Technologies Pvt Ltd</td>\n",
       "      <td>Bangalore/Bengaluru(BTM Layout)</td>\n",
       "      <td>0-0</td>\n",
       "      <td>Machine Learning, Deep Learning, Python, PCA, ...</td>\n",
       "    </tr>\n",
       "    <tr>\n",
       "      <th>7595</th>\n",
       "      <td>Civil engineer process associate (Diploma/Be/B...</td>\n",
       "      <td>Focus Energy</td>\n",
       "      <td>Delhi / NCR</td>\n",
       "      <td>0-0</td>\n",
       "      <td>AutoCAD</td>\n",
       "    </tr>\n",
       "    <tr>\n",
       "      <th>8041</th>\n",
       "      <td>Business Analyst</td>\n",
       "      <td>Satin Finserv Limited</td>\n",
       "      <td>Thane</td>\n",
       "      <td>0-0</td>\n",
       "      <td>data presentation, data analytics, Business An...</td>\n",
       "    </tr>\n",
       "    <tr>\n",
       "      <th>8233</th>\n",
       "      <td>Internship for Statistical Analyst</td>\n",
       "      <td>Veravizion Consulting</td>\n",
       "      <td>Pune</td>\n",
       "      <td>0-0</td>\n",
       "      <td>Hospitality, Data analysis, Operations researc...</td>\n",
       "    </tr>\n",
       "    <tr>\n",
       "      <th>8520</th>\n",
       "      <td>Trainee-Freshers - Cyber Security Analyst/Cybe...</td>\n",
       "      <td>Aficionado Technologies Pvt Ltd</td>\n",
       "      <td>Singapore, Dubai, Bangalore/Bengaluru(BTM Layout)</td>\n",
       "      <td>0-0</td>\n",
       "      <td>Cloud Security, Cyber Security, Malware DoS, D...</td>\n",
       "    </tr>\n",
       "    <tr>\n",
       "      <th>8721</th>\n",
       "      <td>Implementation Analyst (BCA/B.Sc)</td>\n",
       "      <td>LIFEWORKS WELLBEING SOLUTIONS (INDIA) LLP</td>\n",
       "      <td>Noida, Gurgaon/Gurugram</td>\n",
       "      <td>0-0</td>\n",
       "      <td>Java, C++, SQL, SDLC, Oracle, written, MS Acce...</td>\n",
       "    </tr>\n",
       "    <tr>\n",
       "      <th>9073</th>\n",
       "      <td>Intern Content Marketing</td>\n",
       "      <td>Analyttica Datalab Pvt. Ltd.</td>\n",
       "      <td>Bangalore/Bengaluru</td>\n",
       "      <td>0-0</td>\n",
       "      <td>Content Writing, Social Media, SEO, Marketing</td>\n",
       "    </tr>\n",
       "    <tr>\n",
       "      <th>10471</th>\n",
       "      <td>PhD/Post Graduate in Machine Learning/Computat...</td>\n",
       "      <td>DCG Data-Core Systems (India) Pvt. Ltd.</td>\n",
       "      <td>Kolkata</td>\n",
       "      <td>0-0</td>\n",
       "      <td>Synthetic Data Generation, Natural Language Pr...</td>\n",
       "    </tr>\n",
       "  </tbody>\n",
       "</table>\n",
       "</div>"
      ],
      "text/plain": [
       "                                                Job_Role  \\\n",
       "1585                             Data Analyst-Internship   \n",
       "1777    Opening For Technical Data Engineer at Bangalore   \n",
       "1846                               Data Business Analyst   \n",
       "1868                  Associate Analyst, Data Processing   \n",
       "1961    Data Analyst - Fresher (Python , SQL & BI Tools)   \n",
       "3308                                 Azure Data Engineer   \n",
       "5927             Junior Analyst (2022 Graduates) - Gamma   \n",
       "6385    Trainee-freshers-Machine Learning & Data Science   \n",
       "7595   Civil engineer process associate (Diploma/Be/B...   \n",
       "8041                                    Business Analyst   \n",
       "8233                  Internship for Statistical Analyst   \n",
       "8520   Trainee-Freshers - Cyber Security Analyst/Cybe...   \n",
       "8721                   Implementation Analyst (BCA/B.Sc)   \n",
       "9073                            Intern Content Marketing   \n",
       "10471  PhD/Post Graduate in Machine Learning/Computat...   \n",
       "\n",
       "                                         Company  \\\n",
       "1585                           PerkinElmer, Inc.   \n",
       "1777                          Mouser Electronics   \n",
       "1846                                     Webhelp   \n",
       "1868                                     enVista   \n",
       "1961                      Indian Eagle Pvt. Ltd.   \n",
       "3308                                    Wavelabs   \n",
       "5927                     Boston Consulting Group   \n",
       "6385             Aficionado Technologies Pvt Ltd   \n",
       "7595                                Focus Energy   \n",
       "8041                       Satin Finserv Limited   \n",
       "8233                       Veravizion Consulting   \n",
       "8520             Aficionado Technologies Pvt Ltd   \n",
       "8721   LIFEWORKS WELLBEING SOLUTIONS (INDIA) LLP   \n",
       "9073                Analyttica Datalab Pvt. Ltd.   \n",
       "10471    DCG Data-Core Systems (India) Pvt. Ltd.   \n",
       "\n",
       "                                                Location Job Experience  \\\n",
       "1585                                           Hyderabad            0-0   \n",
       "1777                                 Bangalore/Bengaluru            0-0   \n",
       "1846                           Gurgaon/Gurugram, Gurgaon            0-0   \n",
       "1868                                           Hyderabad            0-0   \n",
       "1961                              Hyderabad/Secunderabad            0-0   \n",
       "3308                              Hyderabad/Secunderabad            0-0   \n",
       "5927   Gurgaon/Gurugram, Bangalore/Bengaluru, Delhi /...            0-0   \n",
       "6385                     Bangalore/Bengaluru(BTM Layout)            0-0   \n",
       "7595                                         Delhi / NCR            0-0   \n",
       "8041                                               Thane            0-0   \n",
       "8233                                                Pune            0-0   \n",
       "8520   Singapore, Dubai, Bangalore/Bengaluru(BTM Layout)            0-0   \n",
       "8721                             Noida, Gurgaon/Gurugram            0-0   \n",
       "9073                                 Bangalore/Bengaluru            0-0   \n",
       "10471                                            Kolkata            0-0   \n",
       "\n",
       "                                      Skills/Description  \n",
       "1585   SAP, Business analytics, Data Analyst, Interns...  \n",
       "1777        Communication Skills, Electrical Engineering  \n",
       "1846   Minimum 4 years experience as Data Business An...  \n",
       "1868   Excel, Associate Analyst, Accounting, Data pro...  \n",
       "1961   Python Data Analytics, Javascript, Tableau, ET...  \n",
       "3308   Azure Data Factory, ADF, SQL Server, VNET, ADL...  \n",
       "5927   python, vba, advanced excel, Analytics, sql, D...  \n",
       "6385   Machine Learning, Deep Learning, Python, PCA, ...  \n",
       "7595                                             AutoCAD  \n",
       "8041   data presentation, data analytics, Business An...  \n",
       "8233   Hospitality, Data analysis, Operations researc...  \n",
       "8520   Cloud Security, Cyber Security, Malware DoS, D...  \n",
       "8721   Java, C++, SQL, SDLC, Oracle, written, MS Acce...  \n",
       "9073       Content Writing, Social Media, SEO, Marketing  \n",
       "10471  Synthetic Data Generation, Natural Language Pr...  "
      ]
     },
     "execution_count": 53,
     "metadata": {},
     "output_type": "execute_result"
    }
   ],
   "source": [
    "data.query(\"`Job Experience`=='0-0'\")"
   ]
  },
  {
   "cell_type": "markdown",
   "id": "c6cd02b5",
   "metadata": {
    "papermill": {
     "duration": 0.037874,
     "end_time": "2022-10-04T07:05:42.257351",
     "exception": false,
     "start_time": "2022-10-04T07:05:42.219477",
     "status": "completed"
    },
    "tags": []
   },
   "source": [
    "**replace columns with underscore**"
   ]
  },
  {
   "cell_type": "code",
   "execution_count": 54,
   "id": "c180913d",
   "metadata": {
    "execution": {
     "iopub.execute_input": "2022-10-04T07:05:42.318193Z",
     "iopub.status.busy": "2022-10-04T07:05:42.317436Z",
     "iopub.status.idle": "2022-10-04T07:05:42.323138Z",
     "shell.execute_reply": "2022-10-04T07:05:42.322284Z"
    },
    "papermill": {
     "duration": 0.036429,
     "end_time": "2022-10-04T07:05:42.325394",
     "exception": false,
     "start_time": "2022-10-04T07:05:42.288965",
     "status": "completed"
    },
    "tags": []
   },
   "outputs": [],
   "source": [
    "data.columns= [i.replace(\" \",\"_\") for i in data.columns]"
   ]
  },
  {
   "cell_type": "code",
   "execution_count": 55,
   "id": "bc15ab22",
   "metadata": {
    "execution": {
     "iopub.execute_input": "2022-10-04T07:05:42.377616Z",
     "iopub.status.busy": "2022-10-04T07:05:42.376820Z",
     "iopub.status.idle": "2022-10-04T07:05:42.383949Z",
     "shell.execute_reply": "2022-10-04T07:05:42.383064Z"
    },
    "papermill": {
     "duration": 0.035786,
     "end_time": "2022-10-04T07:05:42.386163",
     "exception": false,
     "start_time": "2022-10-04T07:05:42.350377",
     "status": "completed"
    },
    "tags": []
   },
   "outputs": [
    {
     "data": {
      "text/plain": [
       "Index(['Job_Role', 'Company', 'Location', 'Job_Experience',\n",
       "       'Skills/Description'],\n",
       "      dtype='object')"
      ]
     },
     "execution_count": 55,
     "metadata": {},
     "output_type": "execute_result"
    }
   ],
   "source": [
    "data.columns"
   ]
  },
  {
   "cell_type": "markdown",
   "id": "e5d95113",
   "metadata": {
    "papermill": {
     "duration": 0.025004,
     "end_time": "2022-10-04T07:05:42.436377",
     "exception": false,
     "start_time": "2022-10-04T07:05:42.411373",
     "status": "completed"
    },
    "tags": []
   },
   "source": [
    "**Multiple columns to filter**"
   ]
  },
  {
   "cell_type": "code",
   "execution_count": 56,
   "id": "8eb34bff",
   "metadata": {
    "execution": {
     "iopub.execute_input": "2022-10-04T07:05:42.488860Z",
     "iopub.status.busy": "2022-10-04T07:05:42.488101Z",
     "iopub.status.idle": "2022-10-04T07:05:42.504250Z",
     "shell.execute_reply": "2022-10-04T07:05:42.503254Z"
    },
    "papermill": {
     "duration": 0.045021,
     "end_time": "2022-10-04T07:05:42.506476",
     "exception": false,
     "start_time": "2022-10-04T07:05:42.461455",
     "status": "completed"
    },
    "tags": []
   },
   "outputs": [
    {
     "data": {
      "text/html": [
       "<div>\n",
       "<style scoped>\n",
       "    .dataframe tbody tr th:only-of-type {\n",
       "        vertical-align: middle;\n",
       "    }\n",
       "\n",
       "    .dataframe tbody tr th {\n",
       "        vertical-align: top;\n",
       "    }\n",
       "\n",
       "    .dataframe thead th {\n",
       "        text-align: right;\n",
       "    }\n",
       "</style>\n",
       "<table border=\"1\" class=\"dataframe\">\n",
       "  <thead>\n",
       "    <tr style=\"text-align: right;\">\n",
       "      <th></th>\n",
       "      <th>Job_Role</th>\n",
       "      <th>Company</th>\n",
       "      <th>Location</th>\n",
       "      <th>Job_Experience</th>\n",
       "      <th>Skills/Description</th>\n",
       "    </tr>\n",
       "  </thead>\n",
       "  <tbody>\n",
       "    <tr>\n",
       "      <th>537</th>\n",
       "      <td>Senior Data Scientist</td>\n",
       "      <td>Seven Consultancy (HR Solution)</td>\n",
       "      <td>Hyderabad/Secunderabad</td>\n",
       "      <td>3-5</td>\n",
       "      <td>Computer science, C++, SAS, Coding, Perl, Data...</td>\n",
       "    </tr>\n",
       "  </tbody>\n",
       "</table>\n",
       "</div>"
      ],
      "text/plain": [
       "                  Job_Role                          Company  \\\n",
       "537  Senior Data Scientist  Seven Consultancy (HR Solution)   \n",
       "\n",
       "                   Location Job_Experience  \\\n",
       "537  Hyderabad/Secunderabad            3-5   \n",
       "\n",
       "                                    Skills/Description  \n",
       "537  Computer science, C++, SAS, Coding, Perl, Data...  "
      ]
     },
     "execution_count": 56,
     "metadata": {},
     "output_type": "execute_result"
    }
   ],
   "source": [
    "data.query(\"Job_Role=='Senior Data Scientist' and Job_Experience=='3-5'\")"
   ]
  },
  {
   "cell_type": "code",
   "execution_count": 57,
   "id": "54c66644",
   "metadata": {
    "execution": {
     "iopub.execute_input": "2022-10-04T07:05:42.559088Z",
     "iopub.status.busy": "2022-10-04T07:05:42.558358Z",
     "iopub.status.idle": "2022-10-04T07:05:42.565827Z",
     "shell.execute_reply": "2022-10-04T07:05:42.565123Z"
    },
    "papermill": {
     "duration": 0.03628,
     "end_time": "2022-10-04T07:05:42.568004",
     "exception": false,
     "start_time": "2022-10-04T07:05:42.531724",
     "status": "completed"
    },
    "tags": []
   },
   "outputs": [],
   "source": [
    "mask = (data['Job_Role']=='Senior Data Scientist') & (data['Job_Experience']=='3-5')"
   ]
  },
  {
   "cell_type": "code",
   "execution_count": 58,
   "id": "a0fdb633",
   "metadata": {
    "execution": {
     "iopub.execute_input": "2022-10-04T07:05:42.620612Z",
     "iopub.status.busy": "2022-10-04T07:05:42.619870Z",
     "iopub.status.idle": "2022-10-04T07:05:42.631504Z",
     "shell.execute_reply": "2022-10-04T07:05:42.630603Z"
    },
    "papermill": {
     "duration": 0.040319,
     "end_time": "2022-10-04T07:05:42.633691",
     "exception": false,
     "start_time": "2022-10-04T07:05:42.593372",
     "status": "completed"
    },
    "tags": []
   },
   "outputs": [
    {
     "data": {
      "text/html": [
       "<div>\n",
       "<style scoped>\n",
       "    .dataframe tbody tr th:only-of-type {\n",
       "        vertical-align: middle;\n",
       "    }\n",
       "\n",
       "    .dataframe tbody tr th {\n",
       "        vertical-align: top;\n",
       "    }\n",
       "\n",
       "    .dataframe thead th {\n",
       "        text-align: right;\n",
       "    }\n",
       "</style>\n",
       "<table border=\"1\" class=\"dataframe\">\n",
       "  <thead>\n",
       "    <tr style=\"text-align: right;\">\n",
       "      <th></th>\n",
       "      <th>Job_Role</th>\n",
       "      <th>Company</th>\n",
       "      <th>Location</th>\n",
       "      <th>Job_Experience</th>\n",
       "      <th>Skills/Description</th>\n",
       "    </tr>\n",
       "  </thead>\n",
       "  <tbody>\n",
       "    <tr>\n",
       "      <th>537</th>\n",
       "      <td>Senior Data Scientist</td>\n",
       "      <td>Seven Consultancy (HR Solution)</td>\n",
       "      <td>Hyderabad/Secunderabad</td>\n",
       "      <td>3-5</td>\n",
       "      <td>Computer science, C++, SAS, Coding, Perl, Data...</td>\n",
       "    </tr>\n",
       "  </tbody>\n",
       "</table>\n",
       "</div>"
      ],
      "text/plain": [
       "                  Job_Role                          Company  \\\n",
       "537  Senior Data Scientist  Seven Consultancy (HR Solution)   \n",
       "\n",
       "                   Location Job_Experience  \\\n",
       "537  Hyderabad/Secunderabad            3-5   \n",
       "\n",
       "                                    Skills/Description  \n",
       "537  Computer science, C++, SAS, Coding, Perl, Data...  "
      ]
     },
     "execution_count": 58,
     "metadata": {},
     "output_type": "execute_result"
    }
   ],
   "source": [
    "data[mask]"
   ]
  },
  {
   "cell_type": "code",
   "execution_count": 59,
   "id": "2855720b",
   "metadata": {
    "execution": {
     "iopub.execute_input": "2022-10-04T07:05:42.686303Z",
     "iopub.status.busy": "2022-10-04T07:05:42.685906Z",
     "iopub.status.idle": "2022-10-04T07:05:42.703612Z",
     "shell.execute_reply": "2022-10-04T07:05:42.702577Z"
    },
    "papermill": {
     "duration": 0.046724,
     "end_time": "2022-10-04T07:05:42.705870",
     "exception": false,
     "start_time": "2022-10-04T07:05:42.659146",
     "status": "completed"
    },
    "tags": []
   },
   "outputs": [
    {
     "data": {
      "text/html": [
       "<div>\n",
       "<style scoped>\n",
       "    .dataframe tbody tr th:only-of-type {\n",
       "        vertical-align: middle;\n",
       "    }\n",
       "\n",
       "    .dataframe tbody tr th {\n",
       "        vertical-align: top;\n",
       "    }\n",
       "\n",
       "    .dataframe thead th {\n",
       "        text-align: right;\n",
       "    }\n",
       "</style>\n",
       "<table border=\"1\" class=\"dataframe\">\n",
       "  <thead>\n",
       "    <tr style=\"text-align: right;\">\n",
       "      <th></th>\n",
       "      <th>Job_Role</th>\n",
       "      <th>Company</th>\n",
       "      <th>Location</th>\n",
       "      <th>Job_Experience</th>\n",
       "      <th>Skills/Description</th>\n",
       "    </tr>\n",
       "  </thead>\n",
       "  <tbody>\n",
       "    <tr>\n",
       "      <th>0</th>\n",
       "      <td>Senior Data Scientist</td>\n",
       "      <td>UPL</td>\n",
       "      <td>Bangalore/Bengaluru, Mumbai (All Areas)</td>\n",
       "      <td>3-6</td>\n",
       "      <td>python, MLT, statistical modeling, machine lea...</td>\n",
       "    </tr>\n",
       "    <tr>\n",
       "      <th>1</th>\n",
       "      <td>Senior Data Scientist</td>\n",
       "      <td>Walmart</td>\n",
       "      <td>Bangalore/Bengaluru</td>\n",
       "      <td>5-9</td>\n",
       "      <td>Data Science, Machine learning, Python, Azure,...</td>\n",
       "    </tr>\n",
       "    <tr>\n",
       "      <th>13</th>\n",
       "      <td>Senior Data Scientist</td>\n",
       "      <td>Northface Consultancy Services Private Limited</td>\n",
       "      <td>Bangalore/Bengaluru(Whitefield)</td>\n",
       "      <td>3-6</td>\n",
       "      <td>database knowledge, R, Statistical Programming...</td>\n",
       "    </tr>\n",
       "    <tr>\n",
       "      <th>14</th>\n",
       "      <td>Senior Data Scientist</td>\n",
       "      <td>referral</td>\n",
       "      <td>Bangalore/Bengaluru</td>\n",
       "      <td>2-4</td>\n",
       "      <td>Computer science, Computer vision, Operations ...</td>\n",
       "    </tr>\n",
       "    <tr>\n",
       "      <th>23</th>\n",
       "      <td>Senior Data Scientist</td>\n",
       "      <td>Revnomix Solutions LLP</td>\n",
       "      <td>Mumbai, Pune, Mumbai (All Areas)</td>\n",
       "      <td>5-8</td>\n",
       "      <td>python, django, java, MySQL, IT Skills, Data S...</td>\n",
       "    </tr>\n",
       "    <tr>\n",
       "      <th>...</th>\n",
       "      <td>...</td>\n",
       "      <td>...</td>\n",
       "      <td>...</td>\n",
       "      <td>...</td>\n",
       "      <td>...</td>\n",
       "    </tr>\n",
       "    <tr>\n",
       "      <th>6375</th>\n",
       "      <td>Data Analyst</td>\n",
       "      <td>Anlage Infotech (I) Pvt. Ltd.</td>\n",
       "      <td>Gurgaon/Gurugram</td>\n",
       "      <td>7-12</td>\n",
       "      <td>Data Analytics, analytical solutions, Hive, Po...</td>\n",
       "    </tr>\n",
       "    <tr>\n",
       "      <th>6689</th>\n",
       "      <td>Data Analyst</td>\n",
       "      <td>SKILLLABS RESOURCE SERVICES Pvt Ltd</td>\n",
       "      <td>New Delhi</td>\n",
       "      <td>2-5</td>\n",
       "      <td>Relational Databases, Data Analysis, Process I...</td>\n",
       "    </tr>\n",
       "    <tr>\n",
       "      <th>6691</th>\n",
       "      <td>Data Analyst</td>\n",
       "      <td>ABG Group</td>\n",
       "      <td>Noida, New Delhi, Delhi / NCR</td>\n",
       "      <td>1-3</td>\n",
       "      <td>Advanced Excel, google scripting, Text Analyti...</td>\n",
       "    </tr>\n",
       "    <tr>\n",
       "      <th>6696</th>\n",
       "      <td>Data Analyst</td>\n",
       "      <td>Right Step Consulting</td>\n",
       "      <td>New Delhi, Gurgaon/Gurugram</td>\n",
       "      <td>2-5</td>\n",
       "      <td>Tracking, Policies, Analytical, Market researc...</td>\n",
       "    </tr>\n",
       "    <tr>\n",
       "      <th>6697</th>\n",
       "      <td>Data Analyst</td>\n",
       "      <td>Right Step Consulting</td>\n",
       "      <td>New Delhi, Gurgaon/Gurugram</td>\n",
       "      <td>3-6</td>\n",
       "      <td>Visual Basic, MySQL, Data Analyst, KPO, Busine...</td>\n",
       "    </tr>\n",
       "  </tbody>\n",
       "</table>\n",
       "<p>450 rows × 5 columns</p>\n",
       "</div>"
      ],
      "text/plain": [
       "                   Job_Role                                         Company  \\\n",
       "0     Senior Data Scientist                                             UPL   \n",
       "1     Senior Data Scientist                                         Walmart   \n",
       "13    Senior Data Scientist  Northface Consultancy Services Private Limited   \n",
       "14    Senior Data Scientist                                        referral   \n",
       "23    Senior Data Scientist                          Revnomix Solutions LLP   \n",
       "...                     ...                                             ...   \n",
       "6375           Data Analyst                   Anlage Infotech (I) Pvt. Ltd.   \n",
       "6689           Data Analyst             SKILLLABS RESOURCE SERVICES Pvt Ltd   \n",
       "6691           Data Analyst                                       ABG Group   \n",
       "6696           Data Analyst                           Right Step Consulting   \n",
       "6697           Data Analyst                           Right Step Consulting   \n",
       "\n",
       "                                     Location Job_Experience  \\\n",
       "0     Bangalore/Bengaluru, Mumbai (All Areas)            3-6   \n",
       "1                         Bangalore/Bengaluru            5-9   \n",
       "13            Bangalore/Bengaluru(Whitefield)            3-6   \n",
       "14                        Bangalore/Bengaluru            2-4   \n",
       "23           Mumbai, Pune, Mumbai (All Areas)            5-8   \n",
       "...                                       ...            ...   \n",
       "6375                         Gurgaon/Gurugram           7-12   \n",
       "6689                                New Delhi            2-5   \n",
       "6691            Noida, New Delhi, Delhi / NCR            1-3   \n",
       "6696              New Delhi, Gurgaon/Gurugram            2-5   \n",
       "6697              New Delhi, Gurgaon/Gurugram            3-6   \n",
       "\n",
       "                                     Skills/Description  \n",
       "0     python, MLT, statistical modeling, machine lea...  \n",
       "1     Data Science, Machine learning, Python, Azure,...  \n",
       "13    database knowledge, R, Statistical Programming...  \n",
       "14    Computer science, Computer vision, Operations ...  \n",
       "23    python, django, java, MySQL, IT Skills, Data S...  \n",
       "...                                                 ...  \n",
       "6375  Data Analytics, analytical solutions, Hive, Po...  \n",
       "6689  Relational Databases, Data Analysis, Process I...  \n",
       "6691  Advanced Excel, google scripting, Text Analyti...  \n",
       "6696  Tracking, Policies, Analytical, Market researc...  \n",
       "6697  Visual Basic, MySQL, Data Analyst, KPO, Busine...  \n",
       "\n",
       "[450 rows x 5 columns]"
      ]
     },
     "execution_count": 59,
     "metadata": {},
     "output_type": "execute_result"
    }
   ],
   "source": [
    "data.query('Job_Role in [\"Senior Data Scientist\",\"Data Analyst\"]')"
   ]
  },
  {
   "cell_type": "markdown",
   "id": "a49d2d18",
   "metadata": {
    "papermill": {
     "duration": 0.026188,
     "end_time": "2022-10-04T07:05:42.758154",
     "exception": false,
     "start_time": "2022-10-04T07:05:42.731966",
     "status": "completed"
    },
    "tags": []
   },
   "source": [
    "**apply method**"
   ]
  },
  {
   "cell_type": "code",
   "execution_count": 60,
   "id": "6f2b7749",
   "metadata": {
    "execution": {
     "iopub.execute_input": "2022-10-04T07:05:42.812279Z",
     "iopub.status.busy": "2022-10-04T07:05:42.811494Z",
     "iopub.status.idle": "2022-10-04T07:05:42.817144Z",
     "shell.execute_reply": "2022-10-04T07:05:42.816049Z"
    },
    "papermill": {
     "duration": 0.035064,
     "end_time": "2022-10-04T07:05:42.819440",
     "exception": false,
     "start_time": "2022-10-04T07:05:42.784376",
     "status": "completed"
    },
    "tags": []
   },
   "outputs": [],
   "source": [
    "s1=pd.Series([\"Lana ray\",\"Divya Shetty\",\"Hanu Iyer\"])"
   ]
  },
  {
   "cell_type": "code",
   "execution_count": 61,
   "id": "e0b961f1",
   "metadata": {
    "execution": {
     "iopub.execute_input": "2022-10-04T07:05:42.872508Z",
     "iopub.status.busy": "2022-10-04T07:05:42.872102Z",
     "iopub.status.idle": "2022-10-04T07:05:42.878035Z",
     "shell.execute_reply": "2022-10-04T07:05:42.876918Z"
    },
    "papermill": {
     "duration": 0.035042,
     "end_time": "2022-10-04T07:05:42.880268",
     "exception": false,
     "start_time": "2022-10-04T07:05:42.845226",
     "status": "completed"
    },
    "tags": []
   },
   "outputs": [],
   "source": [
    "s1=s1.apply(lambda x:x.replace(' ',\"_\"))"
   ]
  },
  {
   "cell_type": "code",
   "execution_count": 62,
   "id": "8971e3a4",
   "metadata": {
    "execution": {
     "iopub.execute_input": "2022-10-04T07:05:42.933669Z",
     "iopub.status.busy": "2022-10-04T07:05:42.933264Z",
     "iopub.status.idle": "2022-10-04T07:05:42.940740Z",
     "shell.execute_reply": "2022-10-04T07:05:42.939660Z"
    },
    "papermill": {
     "duration": 0.036684,
     "end_time": "2022-10-04T07:05:42.942897",
     "exception": false,
     "start_time": "2022-10-04T07:05:42.906213",
     "status": "completed"
    },
    "tags": []
   },
   "outputs": [
    {
     "data": {
      "text/plain": [
       "0        Lana_ray\n",
       "1    Divya_Shetty\n",
       "2       Hanu_Iyer\n",
       "dtype: object"
      ]
     },
     "execution_count": 62,
     "metadata": {},
     "output_type": "execute_result"
    }
   ],
   "source": [
    "s1"
   ]
  },
  {
   "cell_type": "markdown",
   "id": "234344cc",
   "metadata": {
    "papermill": {
     "duration": 0.025404,
     "end_time": "2022-10-04T07:05:42.994213",
     "exception": false,
     "start_time": "2022-10-04T07:05:42.968809",
     "status": "completed"
    },
    "tags": []
   },
   "source": [
    "**Apply a transformation across all values of columns**"
   ]
  },
  {
   "cell_type": "code",
   "execution_count": 63,
   "id": "bf15a95d",
   "metadata": {
    "execution": {
     "iopub.execute_input": "2022-10-04T07:05:43.049274Z",
     "iopub.status.busy": "2022-10-04T07:05:43.047140Z",
     "iopub.status.idle": "2022-10-04T07:05:43.089738Z",
     "shell.execute_reply": "2022-10-04T07:05:43.088907Z"
    },
    "papermill": {
     "duration": 0.072304,
     "end_time": "2022-10-04T07:05:43.092217",
     "exception": false,
     "start_time": "2022-10-04T07:05:43.019913",
     "status": "completed"
    },
    "tags": []
   },
   "outputs": [],
   "source": [
    "data=pd.read_csv('../input/data-science-jobs-in-india/naukri_data_science_jobs_india.csv')"
   ]
  },
  {
   "cell_type": "code",
   "execution_count": 64,
   "id": "4888608b",
   "metadata": {
    "execution": {
     "iopub.execute_input": "2022-10-04T07:05:43.146805Z",
     "iopub.status.busy": "2022-10-04T07:05:43.146413Z",
     "iopub.status.idle": "2022-10-04T07:05:43.159255Z",
     "shell.execute_reply": "2022-10-04T07:05:43.158140Z"
    },
    "papermill": {
     "duration": 0.042461,
     "end_time": "2022-10-04T07:05:43.161625",
     "exception": false,
     "start_time": "2022-10-04T07:05:43.119164",
     "status": "completed"
    },
    "tags": []
   },
   "outputs": [
    {
     "data": {
      "text/html": [
       "<div>\n",
       "<style scoped>\n",
       "    .dataframe tbody tr th:only-of-type {\n",
       "        vertical-align: middle;\n",
       "    }\n",
       "\n",
       "    .dataframe tbody tr th {\n",
       "        vertical-align: top;\n",
       "    }\n",
       "\n",
       "    .dataframe thead th {\n",
       "        text-align: right;\n",
       "    }\n",
       "</style>\n",
       "<table border=\"1\" class=\"dataframe\">\n",
       "  <thead>\n",
       "    <tr style=\"text-align: right;\">\n",
       "      <th></th>\n",
       "      <th>Job_Role</th>\n",
       "      <th>Company</th>\n",
       "      <th>Location</th>\n",
       "      <th>Job Experience</th>\n",
       "      <th>Skills/Description</th>\n",
       "    </tr>\n",
       "  </thead>\n",
       "  <tbody>\n",
       "    <tr>\n",
       "      <th>0</th>\n",
       "      <td>Senior Data Scientist</td>\n",
       "      <td>UPL</td>\n",
       "      <td>Bangalore/Bengaluru, Mumbai (All Areas)</td>\n",
       "      <td>3-6</td>\n",
       "      <td>python, MLT, statistical modeling, machine lea...</td>\n",
       "    </tr>\n",
       "    <tr>\n",
       "      <th>1</th>\n",
       "      <td>Senior Data Scientist</td>\n",
       "      <td>Walmart</td>\n",
       "      <td>Bangalore/Bengaluru</td>\n",
       "      <td>5-9</td>\n",
       "      <td>Data Science, Machine learning, Python, Azure,...</td>\n",
       "    </tr>\n",
       "    <tr>\n",
       "      <th>2</th>\n",
       "      <td>Applied Data Scientist / ML Senior Engineer (P...</td>\n",
       "      <td>SAP India Pvt.Ltd</td>\n",
       "      <td>Bangalore/Bengaluru</td>\n",
       "      <td>5-10</td>\n",
       "      <td>Python, IT Skills, Testing, Cloud, Product Man...</td>\n",
       "    </tr>\n",
       "    <tr>\n",
       "      <th>3</th>\n",
       "      <td>Data Scientist</td>\n",
       "      <td>UPL</td>\n",
       "      <td>Bangalore/Bengaluru, Mumbai (All Areas)</td>\n",
       "      <td>1-4</td>\n",
       "      <td>python, machine learning, Data Science, data a...</td>\n",
       "    </tr>\n",
       "    <tr>\n",
       "      <th>4</th>\n",
       "      <td>Data Scientist</td>\n",
       "      <td>Walmart</td>\n",
       "      <td>Bangalore/Bengaluru</td>\n",
       "      <td>4-8</td>\n",
       "      <td>IT Skills, Python, Data Science, Machine Learn...</td>\n",
       "    </tr>\n",
       "  </tbody>\n",
       "</table>\n",
       "</div>"
      ],
      "text/plain": [
       "                                            Job_Role            Company  \\\n",
       "0                              Senior Data Scientist                UPL   \n",
       "1                              Senior Data Scientist            Walmart   \n",
       "2  Applied Data Scientist / ML Senior Engineer (P...  SAP India Pvt.Ltd   \n",
       "3                                     Data Scientist                UPL   \n",
       "4                                     Data Scientist            Walmart   \n",
       "\n",
       "                                  Location Job Experience  \\\n",
       "0  Bangalore/Bengaluru, Mumbai (All Areas)            3-6   \n",
       "1                      Bangalore/Bengaluru            5-9   \n",
       "2                      Bangalore/Bengaluru           5-10   \n",
       "3  Bangalore/Bengaluru, Mumbai (All Areas)            1-4   \n",
       "4                      Bangalore/Bengaluru            4-8   \n",
       "\n",
       "                                  Skills/Description  \n",
       "0  python, MLT, statistical modeling, machine lea...  \n",
       "1  Data Science, Machine learning, Python, Azure,...  \n",
       "2  Python, IT Skills, Testing, Cloud, Product Man...  \n",
       "3  python, machine learning, Data Science, data a...  \n",
       "4  IT Skills, Python, Data Science, Machine Learn...  "
      ]
     },
     "execution_count": 64,
     "metadata": {},
     "output_type": "execute_result"
    }
   ],
   "source": [
    "data.head()"
   ]
  },
  {
   "cell_type": "code",
   "execution_count": 65,
   "id": "c2500683",
   "metadata": {
    "execution": {
     "iopub.execute_input": "2022-10-04T07:05:43.217684Z",
     "iopub.status.busy": "2022-10-04T07:05:43.216458Z",
     "iopub.status.idle": "2022-10-04T07:05:43.234958Z",
     "shell.execute_reply": "2022-10-04T07:05:43.233461Z"
    },
    "papermill": {
     "duration": 0.049218,
     "end_time": "2022-10-04T07:05:43.238192",
     "exception": false,
     "start_time": "2022-10-04T07:05:43.188974",
     "status": "completed"
    },
    "tags": []
   },
   "outputs": [
    {
     "name": "stdout",
     "output_type": "stream",
     "text": [
      "<class 'pandas.core.frame.DataFrame'>\n",
      "RangeIndex: 12000 entries, 0 to 11999\n",
      "Data columns (total 5 columns):\n",
      " #   Column              Non-Null Count  Dtype \n",
      "---  ------              --------------  ----- \n",
      " 0   Job_Role            12000 non-null  object\n",
      " 1   Company             12000 non-null  object\n",
      " 2   Location            12000 non-null  object\n",
      " 3   Job Experience      12000 non-null  object\n",
      " 4   Skills/Description  12000 non-null  object\n",
      "dtypes: object(5)\n",
      "memory usage: 468.9+ KB\n"
     ]
    }
   ],
   "source": [
    "data.info()"
   ]
  },
  {
   "cell_type": "code",
   "execution_count": 66,
   "id": "7167662b",
   "metadata": {
    "execution": {
     "iopub.execute_input": "2022-10-04T07:05:43.294948Z",
     "iopub.status.busy": "2022-10-04T07:05:43.294540Z",
     "iopub.status.idle": "2022-10-04T07:05:43.300347Z",
     "shell.execute_reply": "2022-10-04T07:05:43.299259Z"
    },
    "papermill": {
     "duration": 0.036772,
     "end_time": "2022-10-04T07:05:43.302564",
     "exception": false,
     "start_time": "2022-10-04T07:05:43.265792",
     "status": "completed"
    },
    "tags": []
   },
   "outputs": [],
   "source": [
    "data['Salary']=np.random.randint(40000,400000,size=12000)"
   ]
  },
  {
   "cell_type": "code",
   "execution_count": 67,
   "id": "4d8f10e5",
   "metadata": {
    "execution": {
     "iopub.execute_input": "2022-10-04T07:05:43.358085Z",
     "iopub.status.busy": "2022-10-04T07:05:43.356993Z",
     "iopub.status.idle": "2022-10-04T07:05:43.371623Z",
     "shell.execute_reply": "2022-10-04T07:05:43.370820Z"
    },
    "papermill": {
     "duration": 0.044503,
     "end_time": "2022-10-04T07:05:43.373736",
     "exception": false,
     "start_time": "2022-10-04T07:05:43.329233",
     "status": "completed"
    },
    "tags": []
   },
   "outputs": [
    {
     "data": {
      "text/html": [
       "<div>\n",
       "<style scoped>\n",
       "    .dataframe tbody tr th:only-of-type {\n",
       "        vertical-align: middle;\n",
       "    }\n",
       "\n",
       "    .dataframe tbody tr th {\n",
       "        vertical-align: top;\n",
       "    }\n",
       "\n",
       "    .dataframe thead th {\n",
       "        text-align: right;\n",
       "    }\n",
       "</style>\n",
       "<table border=\"1\" class=\"dataframe\">\n",
       "  <thead>\n",
       "    <tr style=\"text-align: right;\">\n",
       "      <th></th>\n",
       "      <th>Job_Role</th>\n",
       "      <th>Company</th>\n",
       "      <th>Location</th>\n",
       "      <th>Job Experience</th>\n",
       "      <th>Skills/Description</th>\n",
       "      <th>Salary</th>\n",
       "    </tr>\n",
       "  </thead>\n",
       "  <tbody>\n",
       "    <tr>\n",
       "      <th>0</th>\n",
       "      <td>Senior Data Scientist</td>\n",
       "      <td>UPL</td>\n",
       "      <td>Bangalore/Bengaluru, Mumbai (All Areas)</td>\n",
       "      <td>3-6</td>\n",
       "      <td>python, MLT, statistical modeling, machine lea...</td>\n",
       "      <td>271165</td>\n",
       "    </tr>\n",
       "    <tr>\n",
       "      <th>1</th>\n",
       "      <td>Senior Data Scientist</td>\n",
       "      <td>Walmart</td>\n",
       "      <td>Bangalore/Bengaluru</td>\n",
       "      <td>5-9</td>\n",
       "      <td>Data Science, Machine learning, Python, Azure,...</td>\n",
       "      <td>264762</td>\n",
       "    </tr>\n",
       "    <tr>\n",
       "      <th>2</th>\n",
       "      <td>Applied Data Scientist / ML Senior Engineer (P...</td>\n",
       "      <td>SAP India Pvt.Ltd</td>\n",
       "      <td>Bangalore/Bengaluru</td>\n",
       "      <td>5-10</td>\n",
       "      <td>Python, IT Skills, Testing, Cloud, Product Man...</td>\n",
       "      <td>51040</td>\n",
       "    </tr>\n",
       "    <tr>\n",
       "      <th>3</th>\n",
       "      <td>Data Scientist</td>\n",
       "      <td>UPL</td>\n",
       "      <td>Bangalore/Bengaluru, Mumbai (All Areas)</td>\n",
       "      <td>1-4</td>\n",
       "      <td>python, machine learning, Data Science, data a...</td>\n",
       "      <td>156655</td>\n",
       "    </tr>\n",
       "    <tr>\n",
       "      <th>4</th>\n",
       "      <td>Data Scientist</td>\n",
       "      <td>Walmart</td>\n",
       "      <td>Bangalore/Bengaluru</td>\n",
       "      <td>4-8</td>\n",
       "      <td>IT Skills, Python, Data Science, Machine Learn...</td>\n",
       "      <td>202125</td>\n",
       "    </tr>\n",
       "    <tr>\n",
       "      <th>...</th>\n",
       "      <td>...</td>\n",
       "      <td>...</td>\n",
       "      <td>...</td>\n",
       "      <td>...</td>\n",
       "      <td>...</td>\n",
       "      <td>...</td>\n",
       "    </tr>\n",
       "    <tr>\n",
       "      <th>11995</th>\n",
       "      <td>Tech Lead/Architect ( Contractual )</td>\n",
       "      <td>Krazy Mantra HR Solutions Pvt. Ltd</td>\n",
       "      <td>Kolkata, Chennai, Bangalore/Bengaluru</td>\n",
       "      <td>8-13</td>\n",
       "      <td>Spark, Python, S3, lambda, Athena, AWS, IT Ski...</td>\n",
       "      <td>110809</td>\n",
       "    </tr>\n",
       "    <tr>\n",
       "      <th>11996</th>\n",
       "      <td>Tech Lead / POD Lead</td>\n",
       "      <td>cliqhr.com</td>\n",
       "      <td>Hyderabad/Secunderabad, Pune, Bangalore/Bengaluru</td>\n",
       "      <td>10-12</td>\n",
       "      <td>AirFlow, BigQuery, GCS, Kafka, Java, Shell scr...</td>\n",
       "      <td>109329</td>\n",
       "    </tr>\n",
       "    <tr>\n",
       "      <th>11997</th>\n",
       "      <td>Java Full Stack Developer - Hibernate / Spring</td>\n",
       "      <td>Serving Skill</td>\n",
       "      <td>Hyderabad/Secunderabad, Bangalore/Bengaluru</td>\n",
       "      <td>2-5</td>\n",
       "      <td>IT Skills, Java, Software Development, Testing...</td>\n",
       "      <td>334760</td>\n",
       "    </tr>\n",
       "    <tr>\n",
       "      <th>11998</th>\n",
       "      <td>Tech Lead - Azure</td>\n",
       "      <td>cliqhr.com</td>\n",
       "      <td>Kochi/Cochin, Mumbai, Hyderabad/Secunderabad, ...</td>\n",
       "      <td>8-10</td>\n",
       "      <td>PowerShell, Azure Data Factory, Azure, PaaS, M...</td>\n",
       "      <td>265108</td>\n",
       "    </tr>\n",
       "    <tr>\n",
       "      <th>11999</th>\n",
       "      <td>Full Stack Developer - Machine Learning</td>\n",
       "      <td>Huquo Consulting Pvt. Ltd</td>\n",
       "      <td>Bangalore/Bengaluru</td>\n",
       "      <td>5-10</td>\n",
       "      <td>Java, JavaScript, Machine Learning, NoSQL, Clo...</td>\n",
       "      <td>253489</td>\n",
       "    </tr>\n",
       "  </tbody>\n",
       "</table>\n",
       "<p>12000 rows × 6 columns</p>\n",
       "</div>"
      ],
      "text/plain": [
       "                                                Job_Role  \\\n",
       "0                                  Senior Data Scientist   \n",
       "1                                  Senior Data Scientist   \n",
       "2      Applied Data Scientist / ML Senior Engineer (P...   \n",
       "3                                         Data Scientist   \n",
       "4                                         Data Scientist   \n",
       "...                                                  ...   \n",
       "11995                Tech Lead/Architect ( Contractual )   \n",
       "11996                               Tech Lead / POD Lead   \n",
       "11997     Java Full Stack Developer - Hibernate / Spring   \n",
       "11998                                  Tech Lead - Azure   \n",
       "11999            Full Stack Developer - Machine Learning   \n",
       "\n",
       "                                  Company  \\\n",
       "0                                     UPL   \n",
       "1                                 Walmart   \n",
       "2                       SAP India Pvt.Ltd   \n",
       "3                                     UPL   \n",
       "4                                 Walmart   \n",
       "...                                   ...   \n",
       "11995  Krazy Mantra HR Solutions Pvt. Ltd   \n",
       "11996                          cliqhr.com   \n",
       "11997                       Serving Skill   \n",
       "11998                          cliqhr.com   \n",
       "11999           Huquo Consulting Pvt. Ltd   \n",
       "\n",
       "                                                Location Job Experience  \\\n",
       "0                Bangalore/Bengaluru, Mumbai (All Areas)            3-6   \n",
       "1                                    Bangalore/Bengaluru            5-9   \n",
       "2                                    Bangalore/Bengaluru           5-10   \n",
       "3                Bangalore/Bengaluru, Mumbai (All Areas)            1-4   \n",
       "4                                    Bangalore/Bengaluru            4-8   \n",
       "...                                                  ...            ...   \n",
       "11995              Kolkata, Chennai, Bangalore/Bengaluru           8-13   \n",
       "11996  Hyderabad/Secunderabad, Pune, Bangalore/Bengaluru          10-12   \n",
       "11997        Hyderabad/Secunderabad, Bangalore/Bengaluru            2-5   \n",
       "11998  Kochi/Cochin, Mumbai, Hyderabad/Secunderabad, ...           8-10   \n",
       "11999                                Bangalore/Bengaluru           5-10   \n",
       "\n",
       "                                      Skills/Description  Salary  \n",
       "0      python, MLT, statistical modeling, machine lea...  271165  \n",
       "1      Data Science, Machine learning, Python, Azure,...  264762  \n",
       "2      Python, IT Skills, Testing, Cloud, Product Man...   51040  \n",
       "3      python, machine learning, Data Science, data a...  156655  \n",
       "4      IT Skills, Python, Data Science, Machine Learn...  202125  \n",
       "...                                                  ...     ...  \n",
       "11995  Spark, Python, S3, lambda, Athena, AWS, IT Ski...  110809  \n",
       "11996  AirFlow, BigQuery, GCS, Kafka, Java, Shell scr...  109329  \n",
       "11997  IT Skills, Java, Software Development, Testing...  334760  \n",
       "11998  PowerShell, Azure Data Factory, Azure, PaaS, M...  265108  \n",
       "11999  Java, JavaScript, Machine Learning, NoSQL, Clo...  253489  \n",
       "\n",
       "[12000 rows x 6 columns]"
      ]
     },
     "execution_count": 67,
     "metadata": {},
     "output_type": "execute_result"
    }
   ],
   "source": [
    "data"
   ]
  },
  {
   "cell_type": "code",
   "execution_count": 68,
   "id": "9e0cc58b",
   "metadata": {
    "execution": {
     "iopub.execute_input": "2022-10-04T07:05:43.430503Z",
     "iopub.status.busy": "2022-10-04T07:05:43.429360Z",
     "iopub.status.idle": "2022-10-04T07:05:43.440467Z",
     "shell.execute_reply": "2022-10-04T07:05:43.439457Z"
    },
    "papermill": {
     "duration": 0.041795,
     "end_time": "2022-10-04T07:05:43.442608",
     "exception": false,
     "start_time": "2022-10-04T07:05:43.400813",
     "status": "completed"
    },
    "tags": []
   },
   "outputs": [],
   "source": [
    "data['Salary']=data['Salary'].apply(lambda x:'Rs '+ \" \"+ str(x))"
   ]
  },
  {
   "cell_type": "code",
   "execution_count": 69,
   "id": "ff68403e",
   "metadata": {
    "execution": {
     "iopub.execute_input": "2022-10-04T07:05:43.504215Z",
     "iopub.status.busy": "2022-10-04T07:05:43.503813Z",
     "iopub.status.idle": "2022-10-04T07:05:43.516816Z",
     "shell.execute_reply": "2022-10-04T07:05:43.515692Z"
    },
    "papermill": {
     "duration": 0.044164,
     "end_time": "2022-10-04T07:05:43.519074",
     "exception": false,
     "start_time": "2022-10-04T07:05:43.474910",
     "status": "completed"
    },
    "tags": []
   },
   "outputs": [
    {
     "data": {
      "text/html": [
       "<div>\n",
       "<style scoped>\n",
       "    .dataframe tbody tr th:only-of-type {\n",
       "        vertical-align: middle;\n",
       "    }\n",
       "\n",
       "    .dataframe tbody tr th {\n",
       "        vertical-align: top;\n",
       "    }\n",
       "\n",
       "    .dataframe thead th {\n",
       "        text-align: right;\n",
       "    }\n",
       "</style>\n",
       "<table border=\"1\" class=\"dataframe\">\n",
       "  <thead>\n",
       "    <tr style=\"text-align: right;\">\n",
       "      <th></th>\n",
       "      <th>Job_Role</th>\n",
       "      <th>Company</th>\n",
       "      <th>Location</th>\n",
       "      <th>Job Experience</th>\n",
       "      <th>Skills/Description</th>\n",
       "      <th>Salary</th>\n",
       "    </tr>\n",
       "  </thead>\n",
       "  <tbody>\n",
       "    <tr>\n",
       "      <th>0</th>\n",
       "      <td>Senior Data Scientist</td>\n",
       "      <td>UPL</td>\n",
       "      <td>Bangalore/Bengaluru, Mumbai (All Areas)</td>\n",
       "      <td>3-6</td>\n",
       "      <td>python, MLT, statistical modeling, machine lea...</td>\n",
       "      <td>Rs  271165</td>\n",
       "    </tr>\n",
       "    <tr>\n",
       "      <th>1</th>\n",
       "      <td>Senior Data Scientist</td>\n",
       "      <td>Walmart</td>\n",
       "      <td>Bangalore/Bengaluru</td>\n",
       "      <td>5-9</td>\n",
       "      <td>Data Science, Machine learning, Python, Azure,...</td>\n",
       "      <td>Rs  264762</td>\n",
       "    </tr>\n",
       "    <tr>\n",
       "      <th>2</th>\n",
       "      <td>Applied Data Scientist / ML Senior Engineer (P...</td>\n",
       "      <td>SAP India Pvt.Ltd</td>\n",
       "      <td>Bangalore/Bengaluru</td>\n",
       "      <td>5-10</td>\n",
       "      <td>Python, IT Skills, Testing, Cloud, Product Man...</td>\n",
       "      <td>Rs  51040</td>\n",
       "    </tr>\n",
       "    <tr>\n",
       "      <th>3</th>\n",
       "      <td>Data Scientist</td>\n",
       "      <td>UPL</td>\n",
       "      <td>Bangalore/Bengaluru, Mumbai (All Areas)</td>\n",
       "      <td>1-4</td>\n",
       "      <td>python, machine learning, Data Science, data a...</td>\n",
       "      <td>Rs  156655</td>\n",
       "    </tr>\n",
       "    <tr>\n",
       "      <th>4</th>\n",
       "      <td>Data Scientist</td>\n",
       "      <td>Walmart</td>\n",
       "      <td>Bangalore/Bengaluru</td>\n",
       "      <td>4-8</td>\n",
       "      <td>IT Skills, Python, Data Science, Machine Learn...</td>\n",
       "      <td>Rs  202125</td>\n",
       "    </tr>\n",
       "  </tbody>\n",
       "</table>\n",
       "</div>"
      ],
      "text/plain": [
       "                                            Job_Role            Company  \\\n",
       "0                              Senior Data Scientist                UPL   \n",
       "1                              Senior Data Scientist            Walmart   \n",
       "2  Applied Data Scientist / ML Senior Engineer (P...  SAP India Pvt.Ltd   \n",
       "3                                     Data Scientist                UPL   \n",
       "4                                     Data Scientist            Walmart   \n",
       "\n",
       "                                  Location Job Experience  \\\n",
       "0  Bangalore/Bengaluru, Mumbai (All Areas)            3-6   \n",
       "1                      Bangalore/Bengaluru            5-9   \n",
       "2                      Bangalore/Bengaluru           5-10   \n",
       "3  Bangalore/Bengaluru, Mumbai (All Areas)            1-4   \n",
       "4                      Bangalore/Bengaluru            4-8   \n",
       "\n",
       "                                  Skills/Description      Salary  \n",
       "0  python, MLT, statistical modeling, machine lea...  Rs  271165  \n",
       "1  Data Science, Machine learning, Python, Azure,...  Rs  264762  \n",
       "2  Python, IT Skills, Testing, Cloud, Product Man...   Rs  51040  \n",
       "3  python, machine learning, Data Science, data a...  Rs  156655  \n",
       "4  IT Skills, Python, Data Science, Machine Learn...  Rs  202125  "
      ]
     },
     "execution_count": 69,
     "metadata": {},
     "output_type": "execute_result"
    }
   ],
   "source": [
    "data.head()"
   ]
  },
  {
   "cell_type": "code",
   "execution_count": 70,
   "id": "3b429677",
   "metadata": {
    "execution": {
     "iopub.execute_input": "2022-10-04T07:05:43.576743Z",
     "iopub.status.busy": "2022-10-04T07:05:43.576068Z",
     "iopub.status.idle": "2022-10-04T07:05:43.580738Z",
     "shell.execute_reply": "2022-10-04T07:05:43.579938Z"
    },
    "papermill": {
     "duration": 0.035989,
     "end_time": "2022-10-04T07:05:43.582712",
     "exception": false,
     "start_time": "2022-10-04T07:05:43.546723",
     "status": "completed"
    },
    "tags": []
   },
   "outputs": [],
   "source": [
    "def band(x):\n",
    "    if x>200000:\n",
    "        return 'BAND A'\n",
    "    elif x<100000:\n",
    "        return 'BAND C'\n",
    "    else:\n",
    "        return \"BAND B\"\n",
    "    "
   ]
  },
  {
   "cell_type": "code",
   "execution_count": 71,
   "id": "f5e9f79d",
   "metadata": {
    "execution": {
     "iopub.execute_input": "2022-10-04T07:05:43.639457Z",
     "iopub.status.busy": "2022-10-04T07:05:43.638726Z",
     "iopub.status.idle": "2022-10-04T07:05:43.678816Z",
     "shell.execute_reply": "2022-10-04T07:05:43.677854Z"
    },
    "papermill": {
     "duration": 0.071499,
     "end_time": "2022-10-04T07:05:43.681419",
     "exception": false,
     "start_time": "2022-10-04T07:05:43.609920",
     "status": "completed"
    },
    "tags": []
   },
   "outputs": [],
   "source": [
    "data=pd.read_csv('../input/data-science-jobs-in-india/naukri_data_science_jobs_india.csv')"
   ]
  },
  {
   "cell_type": "code",
   "execution_count": 72,
   "id": "bc1413e0",
   "metadata": {
    "execution": {
     "iopub.execute_input": "2022-10-04T07:05:43.737693Z",
     "iopub.status.busy": "2022-10-04T07:05:43.736947Z",
     "iopub.status.idle": "2022-10-04T07:05:43.742860Z",
     "shell.execute_reply": "2022-10-04T07:05:43.741815Z"
    },
    "papermill": {
     "duration": 0.03635,
     "end_time": "2022-10-04T07:05:43.745127",
     "exception": false,
     "start_time": "2022-10-04T07:05:43.708777",
     "status": "completed"
    },
    "tags": []
   },
   "outputs": [],
   "source": [
    "data['Salary']=np.random.randint(40000,400000,size=12000)"
   ]
  },
  {
   "cell_type": "code",
   "execution_count": 73,
   "id": "13b9a584",
   "metadata": {
    "execution": {
     "iopub.execute_input": "2022-10-04T07:05:43.801314Z",
     "iopub.status.busy": "2022-10-04T07:05:43.800932Z",
     "iopub.status.idle": "2022-10-04T07:05:43.810826Z",
     "shell.execute_reply": "2022-10-04T07:05:43.809683Z"
    },
    "papermill": {
     "duration": 0.040683,
     "end_time": "2022-10-04T07:05:43.813123",
     "exception": false,
     "start_time": "2022-10-04T07:05:43.772440",
     "status": "completed"
    },
    "tags": []
   },
   "outputs": [],
   "source": [
    "data['BAND']=data['Salary'].apply(band)"
   ]
  },
  {
   "cell_type": "code",
   "execution_count": 74,
   "id": "a8da90c2",
   "metadata": {
    "execution": {
     "iopub.execute_input": "2022-10-04T07:05:43.869274Z",
     "iopub.status.busy": "2022-10-04T07:05:43.868883Z",
     "iopub.status.idle": "2022-10-04T07:05:43.886265Z",
     "shell.execute_reply": "2022-10-04T07:05:43.885113Z"
    },
    "papermill": {
     "duration": 0.04794,
     "end_time": "2022-10-04T07:05:43.888469",
     "exception": false,
     "start_time": "2022-10-04T07:05:43.840529",
     "status": "completed"
    },
    "tags": []
   },
   "outputs": [
    {
     "data": {
      "text/html": [
       "<div>\n",
       "<style scoped>\n",
       "    .dataframe tbody tr th:only-of-type {\n",
       "        vertical-align: middle;\n",
       "    }\n",
       "\n",
       "    .dataframe tbody tr th {\n",
       "        vertical-align: top;\n",
       "    }\n",
       "\n",
       "    .dataframe thead th {\n",
       "        text-align: right;\n",
       "    }\n",
       "</style>\n",
       "<table border=\"1\" class=\"dataframe\">\n",
       "  <thead>\n",
       "    <tr style=\"text-align: right;\">\n",
       "      <th></th>\n",
       "      <th>Job_Role</th>\n",
       "      <th>Company</th>\n",
       "      <th>Location</th>\n",
       "      <th>Job Experience</th>\n",
       "      <th>Skills/Description</th>\n",
       "      <th>Salary</th>\n",
       "      <th>BAND</th>\n",
       "    </tr>\n",
       "  </thead>\n",
       "  <tbody>\n",
       "    <tr>\n",
       "      <th>0</th>\n",
       "      <td>Senior Data Scientist</td>\n",
       "      <td>UPL</td>\n",
       "      <td>Bangalore/Bengaluru, Mumbai (All Areas)</td>\n",
       "      <td>3-6</td>\n",
       "      <td>python, MLT, statistical modeling, machine lea...</td>\n",
       "      <td>290282</td>\n",
       "      <td>BAND A</td>\n",
       "    </tr>\n",
       "    <tr>\n",
       "      <th>1</th>\n",
       "      <td>Senior Data Scientist</td>\n",
       "      <td>Walmart</td>\n",
       "      <td>Bangalore/Bengaluru</td>\n",
       "      <td>5-9</td>\n",
       "      <td>Data Science, Machine learning, Python, Azure,...</td>\n",
       "      <td>73322</td>\n",
       "      <td>BAND C</td>\n",
       "    </tr>\n",
       "    <tr>\n",
       "      <th>2</th>\n",
       "      <td>Applied Data Scientist / ML Senior Engineer (P...</td>\n",
       "      <td>SAP India Pvt.Ltd</td>\n",
       "      <td>Bangalore/Bengaluru</td>\n",
       "      <td>5-10</td>\n",
       "      <td>Python, IT Skills, Testing, Cloud, Product Man...</td>\n",
       "      <td>166362</td>\n",
       "      <td>BAND B</td>\n",
       "    </tr>\n",
       "    <tr>\n",
       "      <th>3</th>\n",
       "      <td>Data Scientist</td>\n",
       "      <td>UPL</td>\n",
       "      <td>Bangalore/Bengaluru, Mumbai (All Areas)</td>\n",
       "      <td>1-4</td>\n",
       "      <td>python, machine learning, Data Science, data a...</td>\n",
       "      <td>190228</td>\n",
       "      <td>BAND B</td>\n",
       "    </tr>\n",
       "    <tr>\n",
       "      <th>4</th>\n",
       "      <td>Data Scientist</td>\n",
       "      <td>Walmart</td>\n",
       "      <td>Bangalore/Bengaluru</td>\n",
       "      <td>4-8</td>\n",
       "      <td>IT Skills, Python, Data Science, Machine Learn...</td>\n",
       "      <td>133783</td>\n",
       "      <td>BAND B</td>\n",
       "    </tr>\n",
       "    <tr>\n",
       "      <th>...</th>\n",
       "      <td>...</td>\n",
       "      <td>...</td>\n",
       "      <td>...</td>\n",
       "      <td>...</td>\n",
       "      <td>...</td>\n",
       "      <td>...</td>\n",
       "      <td>...</td>\n",
       "    </tr>\n",
       "    <tr>\n",
       "      <th>11995</th>\n",
       "      <td>Tech Lead/Architect ( Contractual )</td>\n",
       "      <td>Krazy Mantra HR Solutions Pvt. Ltd</td>\n",
       "      <td>Kolkata, Chennai, Bangalore/Bengaluru</td>\n",
       "      <td>8-13</td>\n",
       "      <td>Spark, Python, S3, lambda, Athena, AWS, IT Ski...</td>\n",
       "      <td>65329</td>\n",
       "      <td>BAND C</td>\n",
       "    </tr>\n",
       "    <tr>\n",
       "      <th>11996</th>\n",
       "      <td>Tech Lead / POD Lead</td>\n",
       "      <td>cliqhr.com</td>\n",
       "      <td>Hyderabad/Secunderabad, Pune, Bangalore/Bengaluru</td>\n",
       "      <td>10-12</td>\n",
       "      <td>AirFlow, BigQuery, GCS, Kafka, Java, Shell scr...</td>\n",
       "      <td>255066</td>\n",
       "      <td>BAND A</td>\n",
       "    </tr>\n",
       "    <tr>\n",
       "      <th>11997</th>\n",
       "      <td>Java Full Stack Developer - Hibernate / Spring</td>\n",
       "      <td>Serving Skill</td>\n",
       "      <td>Hyderabad/Secunderabad, Bangalore/Bengaluru</td>\n",
       "      <td>2-5</td>\n",
       "      <td>IT Skills, Java, Software Development, Testing...</td>\n",
       "      <td>238192</td>\n",
       "      <td>BAND A</td>\n",
       "    </tr>\n",
       "    <tr>\n",
       "      <th>11998</th>\n",
       "      <td>Tech Lead - Azure</td>\n",
       "      <td>cliqhr.com</td>\n",
       "      <td>Kochi/Cochin, Mumbai, Hyderabad/Secunderabad, ...</td>\n",
       "      <td>8-10</td>\n",
       "      <td>PowerShell, Azure Data Factory, Azure, PaaS, M...</td>\n",
       "      <td>318063</td>\n",
       "      <td>BAND A</td>\n",
       "    </tr>\n",
       "    <tr>\n",
       "      <th>11999</th>\n",
       "      <td>Full Stack Developer - Machine Learning</td>\n",
       "      <td>Huquo Consulting Pvt. Ltd</td>\n",
       "      <td>Bangalore/Bengaluru</td>\n",
       "      <td>5-10</td>\n",
       "      <td>Java, JavaScript, Machine Learning, NoSQL, Clo...</td>\n",
       "      <td>40417</td>\n",
       "      <td>BAND C</td>\n",
       "    </tr>\n",
       "  </tbody>\n",
       "</table>\n",
       "<p>12000 rows × 7 columns</p>\n",
       "</div>"
      ],
      "text/plain": [
       "                                                Job_Role  \\\n",
       "0                                  Senior Data Scientist   \n",
       "1                                  Senior Data Scientist   \n",
       "2      Applied Data Scientist / ML Senior Engineer (P...   \n",
       "3                                         Data Scientist   \n",
       "4                                         Data Scientist   \n",
       "...                                                  ...   \n",
       "11995                Tech Lead/Architect ( Contractual )   \n",
       "11996                               Tech Lead / POD Lead   \n",
       "11997     Java Full Stack Developer - Hibernate / Spring   \n",
       "11998                                  Tech Lead - Azure   \n",
       "11999            Full Stack Developer - Machine Learning   \n",
       "\n",
       "                                  Company  \\\n",
       "0                                     UPL   \n",
       "1                                 Walmart   \n",
       "2                       SAP India Pvt.Ltd   \n",
       "3                                     UPL   \n",
       "4                                 Walmart   \n",
       "...                                   ...   \n",
       "11995  Krazy Mantra HR Solutions Pvt. Ltd   \n",
       "11996                          cliqhr.com   \n",
       "11997                       Serving Skill   \n",
       "11998                          cliqhr.com   \n",
       "11999           Huquo Consulting Pvt. Ltd   \n",
       "\n",
       "                                                Location Job Experience  \\\n",
       "0                Bangalore/Bengaluru, Mumbai (All Areas)            3-6   \n",
       "1                                    Bangalore/Bengaluru            5-9   \n",
       "2                                    Bangalore/Bengaluru           5-10   \n",
       "3                Bangalore/Bengaluru, Mumbai (All Areas)            1-4   \n",
       "4                                    Bangalore/Bengaluru            4-8   \n",
       "...                                                  ...            ...   \n",
       "11995              Kolkata, Chennai, Bangalore/Bengaluru           8-13   \n",
       "11996  Hyderabad/Secunderabad, Pune, Bangalore/Bengaluru          10-12   \n",
       "11997        Hyderabad/Secunderabad, Bangalore/Bengaluru            2-5   \n",
       "11998  Kochi/Cochin, Mumbai, Hyderabad/Secunderabad, ...           8-10   \n",
       "11999                                Bangalore/Bengaluru           5-10   \n",
       "\n",
       "                                      Skills/Description  Salary    BAND  \n",
       "0      python, MLT, statistical modeling, machine lea...  290282  BAND A  \n",
       "1      Data Science, Machine learning, Python, Azure,...   73322  BAND C  \n",
       "2      Python, IT Skills, Testing, Cloud, Product Man...  166362  BAND B  \n",
       "3      python, machine learning, Data Science, data a...  190228  BAND B  \n",
       "4      IT Skills, Python, Data Science, Machine Learn...  133783  BAND B  \n",
       "...                                                  ...     ...     ...  \n",
       "11995  Spark, Python, S3, lambda, Athena, AWS, IT Ski...   65329  BAND C  \n",
       "11996  AirFlow, BigQuery, GCS, Kafka, Java, Shell scr...  255066  BAND A  \n",
       "11997  IT Skills, Java, Software Development, Testing...  238192  BAND A  \n",
       "11998  PowerShell, Azure Data Factory, Azure, PaaS, M...  318063  BAND A  \n",
       "11999  Java, JavaScript, Machine Learning, NoSQL, Clo...   40417  BAND C  \n",
       "\n",
       "[12000 rows x 7 columns]"
      ]
     },
     "execution_count": 74,
     "metadata": {},
     "output_type": "execute_result"
    }
   ],
   "source": [
    "data"
   ]
  },
  {
   "cell_type": "code",
   "execution_count": 75,
   "id": "2f84be73",
   "metadata": {
    "execution": {
     "iopub.execute_input": "2022-10-04T07:05:43.946809Z",
     "iopub.status.busy": "2022-10-04T07:05:43.945644Z",
     "iopub.status.idle": "2022-10-04T07:05:43.955297Z",
     "shell.execute_reply": "2022-10-04T07:05:43.954186Z"
    },
    "papermill": {
     "duration": 0.041256,
     "end_time": "2022-10-04T07:05:43.957423",
     "exception": false,
     "start_time": "2022-10-04T07:05:43.916167",
     "status": "completed"
    },
    "tags": []
   },
   "outputs": [
    {
     "data": {
      "text/plain": [
       "BAND A    6733\n",
       "BAND B    3320\n",
       "BAND C    1947\n",
       "Name: BAND, dtype: int64"
      ]
     },
     "execution_count": 75,
     "metadata": {},
     "output_type": "execute_result"
    }
   ],
   "source": [
    "data['BAND'].value_counts()"
   ]
  },
  {
   "cell_type": "markdown",
   "id": "62cbf196",
   "metadata": {
    "papermill": {
     "duration": 0.02739,
     "end_time": "2022-10-04T07:05:44.012677",
     "exception": false,
     "start_time": "2022-10-04T07:05:43.985287",
     "status": "completed"
    },
    "tags": []
   },
   "source": [
    "**Apply transformation to particular row**"
   ]
  },
  {
   "cell_type": "code",
   "execution_count": 76,
   "id": "52bb4068",
   "metadata": {
    "execution": {
     "iopub.execute_input": "2022-10-04T07:05:44.069956Z",
     "iopub.status.busy": "2022-10-04T07:05:44.068973Z",
     "iopub.status.idle": "2022-10-04T07:05:44.074379Z",
     "shell.execute_reply": "2022-10-04T07:05:44.073432Z"
    },
    "papermill": {
     "duration": 0.036255,
     "end_time": "2022-10-04T07:05:44.076570",
     "exception": false,
     "start_time": "2022-10-04T07:05:44.040315",
     "status": "completed"
    },
    "tags": []
   },
   "outputs": [],
   "source": [
    "def func(x):\n",
    "    loc=x['Location'] \n",
    "    experience=x['Job Experience']\n",
    "    if loc in ['Hyderabad']:\n",
    "        return \"Yes\"\n",
    "    else:\n",
    "        return \"No\"\n",
    "    "
   ]
  },
  {
   "cell_type": "code",
   "execution_count": 77,
   "id": "1aca0541",
   "metadata": {
    "execution": {
     "iopub.execute_input": "2022-10-04T07:05:44.133877Z",
     "iopub.status.busy": "2022-10-04T07:05:44.132831Z",
     "iopub.status.idle": "2022-10-04T07:05:44.316989Z",
     "shell.execute_reply": "2022-10-04T07:05:44.316034Z"
    },
    "papermill": {
     "duration": 0.215385,
     "end_time": "2022-10-04T07:05:44.319516",
     "exception": false,
     "start_time": "2022-10-04T07:05:44.104131",
     "status": "completed"
    },
    "tags": []
   },
   "outputs": [],
   "source": [
    "data[\"Apply or not\"]=data.apply(func, axis=1)"
   ]
  },
  {
   "cell_type": "code",
   "execution_count": 78,
   "id": "e1cd7d95",
   "metadata": {
    "execution": {
     "iopub.execute_input": "2022-10-04T07:05:44.376584Z",
     "iopub.status.busy": "2022-10-04T07:05:44.376187Z",
     "iopub.status.idle": "2022-10-04T07:05:44.385218Z",
     "shell.execute_reply": "2022-10-04T07:05:44.384198Z"
    },
    "papermill": {
     "duration": 0.040346,
     "end_time": "2022-10-04T07:05:44.387371",
     "exception": false,
     "start_time": "2022-10-04T07:05:44.347025",
     "status": "completed"
    },
    "tags": []
   },
   "outputs": [
    {
     "data": {
      "text/plain": [
       "No     11863\n",
       "Yes      137\n",
       "Name: Apply or not, dtype: int64"
      ]
     },
     "execution_count": 78,
     "metadata": {},
     "output_type": "execute_result"
    }
   ],
   "source": [
    "data[\"Apply or not\"].value_counts()"
   ]
  }
 ],
 "metadata": {
  "kernelspec": {
   "display_name": "Python 3",
   "language": "python",
   "name": "python3"
  },
  "language_info": {
   "codemirror_mode": {
    "name": "ipython",
    "version": 3
   },
   "file_extension": ".py",
   "mimetype": "text/x-python",
   "name": "python",
   "nbconvert_exporter": "python",
   "pygments_lexer": "ipython3",
   "version": "3.7.12"
  },
  "papermill": {
   "default_parameters": {},
   "duration": 14.993696,
   "end_time": "2022-10-04T07:05:45.035954",
   "environment_variables": {},
   "exception": null,
   "input_path": "__notebook__.ipynb",
   "output_path": "__notebook__.ipynb",
   "parameters": {},
   "start_time": "2022-10-04T07:05:30.042258",
   "version": "2.3.4"
  }
 },
 "nbformat": 4,
 "nbformat_minor": 5
}
